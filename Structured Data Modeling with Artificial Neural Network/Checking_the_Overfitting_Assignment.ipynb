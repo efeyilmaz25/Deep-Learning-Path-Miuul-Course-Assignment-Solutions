{
  "nbformat": 4,
  "nbformat_minor": 0,
  "metadata": {
    "colab": {
      "provenance": []
    },
    "kernelspec": {
      "name": "python3",
      "display_name": "Python 3"
    },
    "language_info": {
      "name": "python"
    }
  },
  "cells": [
    {
      "cell_type": "markdown",
      "source": [
        "# **Checking The Overfitting**\n",
        "\n",
        "- A model called Breast Cancer Classification model has been developed. The relevant engineer claims that the accuracy value of this model is 98 percent. However, the wrong predictions the model makes about our patients are causing trouble for our hospital :)\n",
        "\n",
        "- Re-develop this model and interpret the results.\n",
        "\n",
        "The model accuracy value we obtained in the logistic regression section was 98 percent. This situation made us think that we could fall into an over-learning problem. We may also be taking the sin of our engineer. We don't know.\n",
        "\n",
        "For this reason, we need to develop a new model by taking over-learning precautions.\n",
        "\n",
        "Re-model this dataset.\n",
        "\n",
        "Things to note:\n",
        "\n",
        "- Use the breast cancer dataset in sklearn. (from sklearn.datasets import load_breast_cancer)\n",
        "\n",
        "- Operation can be done in the data pre-processing step. There is no need to write a function.\n",
        "\n",
        "- Use the function we defined for the Tensorflow dataset and set the batch_size to 32.\n",
        "\n",
        "- Create a simple model with 1 hidden layer. You can choose the number of neurons as you wish.\n",
        "\n",
        "- Use appropriate layer structures and callback against over-learning problem.\n",
        "\n",
        "- Use SGD directly in the model compile section, that is, use optimizer=\"SGD\" in compile.\n",
        "\n",
        "- Enter a small value in early stopping since we suspect overfitting.\n",
        "\n",
        "- Comment on the best epoch result.\n",
        "\n",
        "- Comment on the loss curve.\n",
        "\n",
        "- The choice is left to you for the issues that are not expressed.\n",
        "\n",
        "- General structures and directions for the path are left in the notebook."
      ],
      "metadata": {
        "id": "iRyRKEmJYcdX"
      }
    },
    {
      "cell_type": "code",
      "source": [
        "import keras\n",
        "import tensorflow as tf\n",
        "print(\"Keras Current Version:\", keras.__version__, \"Tensorflow Current Version:\", tf.__version__)"
      ],
      "metadata": {
        "colab": {
          "base_uri": "https://localhost:8080/"
        },
        "id": "XhWK9bBBYhs6",
        "outputId": "191d3a8b-6dc8-4161-ec0e-3c0bc4b56f00"
      },
      "execution_count": 2,
      "outputs": [
        {
          "output_type": "stream",
          "name": "stdout",
          "text": [
            "Keras Current Version: 3.4.1 Tensorflow Current Version: 2.16.1\n"
          ]
        }
      ]
    },
    {
      "cell_type": "code",
      "source": [
        "# !pip uninstall tf-keras\n",
        "\n",
        "# !pip install tensorflow==2.16.1"
      ],
      "metadata": {
        "id": "rIPUv6UtYk_g"
      },
      "execution_count": null,
      "outputs": []
    },
    {
      "cell_type": "markdown",
      "source": [
        "# **Imports and Settings**"
      ],
      "metadata": {
        "id": "nS9-iMccYpLk"
      }
    },
    {
      "cell_type": "code",
      "source": [
        "import numpy as np\n",
        "import pandas as pd\n",
        "import random\n",
        "import matplotlib.pyplot as plt\n",
        "\n",
        "from sklearn.preprocessing import StandardScaler\n",
        "from sklearn.model_selection import train_test_split\n",
        "from sklearn.datasets import load_breast_cancer\n",
        "\n",
        "\n",
        "import tensorflow as tf\n",
        "from tensorflow import keras\n",
        "from tensorflow.keras.optimizers import SGD\n",
        "from tensorflow.keras.models import Sequential\n",
        "from tensorflow.keras.regularizers import l2\n",
        "from tensorflow.keras.callbacks import EarlyStopping\n",
        "from tensorflow.keras.layers import Input, Dense, Dropout, BatchNormalization\n",
        "\n",
        "random.seed(46)\n",
        "np.random.seed(46)\n",
        "tf.random.set_seed(46)"
      ],
      "metadata": {
        "id": "YUK_YbO7Y2Gm"
      },
      "execution_count": 4,
      "outputs": []
    },
    {
      "cell_type": "markdown",
      "source": [
        "# **Functions**"
      ],
      "metadata": {
        "id": "_3rn6yuKZRIw"
      }
    },
    {
      "cell_type": "code",
      "source": [
        "def plot_training_history(history, train_loss='loss', train_metric='accuracy', val_loss='val_loss', val_metric='val_accuracy'):\n",
        "    plt.figure(figsize=(10, 5))\n",
        "    plt.plot(history.history[train_loss], label='Training Loss')\n",
        "    plt.plot(history.history[val_loss], label='Validation Loss')\n",
        "    plt.title('Training and Validation Loss Over Epochs')\n",
        "    plt.xlabel('Epochs')\n",
        "    plt.ylabel('Loss')\n",
        "    plt.legend()\n",
        "    plt.show()\n",
        "\n",
        "    plt.figure(figsize=(10, 5))\n",
        "    plt.plot(history.history[train_metric], label=f\"Training: {train_metric}\")\n",
        "    plt.plot(history.history[val_metric], label=f\"Validation: {val_metric}\")\n",
        "    plt.title(f'Training and Validation {train_metric} Over Epochs')\n",
        "    plt.xlabel('Epochs')\n",
        "    plt.ylabel(f'train_metric')\n",
        "    plt.legend()\n",
        "    plt.show()\n",
        "\n",
        "\n",
        "def get_best_epoch_details(history):\n",
        "    val_losses = history.history['val_loss']\n",
        "    min_val_loss_index = val_losses.index(min(val_losses))\n",
        "    best_epoch = min_val_loss_index + 1\n",
        "\n",
        "    epoch_details = {}\n",
        "    for key in history.history.keys():\n",
        "        epoch_details[key] = history.history[key][min_val_loss_index]\n",
        "\n",
        "    epoch_details['best_epoch'] = best_epoch\n",
        "    return epoch_details\n",
        "\n",
        "def prepare_datasets(X_train, X_val, y_train, y_val, batch_size=None):\n",
        "\n",
        "    if batch_size is None:\n",
        "        batch_size = len(X_train)\n",
        "\n",
        "    train_dataset = tf.data.Dataset.from_tensor_slices((X_train, y_train))\n",
        "    train_dataset = train_dataset.shuffle(buffer_size=len(X_train)).batch(batch_size)\n",
        "    val_dataset = tf.data.Dataset.from_tensor_slices((X_val, y_val))\n",
        "    val_dataset = val_dataset.batch(batch_size)\n",
        "\n",
        "    return train_dataset, val_dataset\n"
      ],
      "metadata": {
        "id": "1YtWUmQ2ZRit"
      },
      "execution_count": 5,
      "outputs": []
    },
    {
      "cell_type": "markdown",
      "source": [
        "# **Data Preprocess, Train Validation and Tensorflow Dataset**"
      ],
      "metadata": {
        "id": "ee-GcyXWZWrk"
      }
    },
    {
      "cell_type": "markdown",
      "source": [
        "# **Task 1: Load the dataset and get X and y.**"
      ],
      "metadata": {
        "id": "40-to-ELZXY4"
      }
    },
    {
      "cell_type": "markdown",
      "source": [
        "# **Task 1 Solution**"
      ],
      "metadata": {
        "id": "qzeN4DYwZb8N"
      }
    },
    {
      "cell_type": "code",
      "source": [
        "data = load_breast_cancer()\n",
        "X = data.data\n",
        "y = data.target"
      ],
      "metadata": {
        "id": "B6oHZbikZ3Dg"
      },
      "execution_count": 6,
      "outputs": []
    },
    {
      "cell_type": "markdown",
      "source": [
        "# **Task 2: Differentiate Between Train Validation Sets**"
      ],
      "metadata": {
        "id": "NIaCmajjaHF6"
      }
    },
    {
      "cell_type": "markdown",
      "source": [
        "# **Task 2 Solution**"
      ],
      "metadata": {
        "id": "jCfnbFMwaIGb"
      }
    },
    {
      "cell_type": "code",
      "source": [
        "X_train, X_val, y_train, y_val = train_test_split(X, y, test_size=0.2, random_state=5)"
      ],
      "metadata": {
        "id": "OyWObBIAaJ40"
      },
      "execution_count": 7,
      "outputs": []
    },
    {
      "cell_type": "markdown",
      "source": [
        "# **Task 3: Pass X_train and X_val Sets Through the Standard Scaler**"
      ],
      "metadata": {
        "id": "JkBfOo4vaQkT"
      }
    },
    {
      "cell_type": "markdown",
      "source": [
        "# **Task 3 Solution**"
      ],
      "metadata": {
        "id": "a_3z7_LFaZKo"
      }
    },
    {
      "cell_type": "code",
      "source": [
        "scaler = StandardScaler()\n",
        "X_train = scaler.fit_transform(X_train)\n",
        "X_val = scaler.transform(X_val)"
      ],
      "metadata": {
        "id": "weO7VQawabL3"
      },
      "execution_count": 8,
      "outputs": []
    },
    {
      "cell_type": "markdown",
      "source": [
        "# **Task 4: Create Tensorflow Dataset**"
      ],
      "metadata": {
        "id": "9Ss_elqpasoY"
      }
    },
    {
      "cell_type": "markdown",
      "source": [
        "# **Task 4 Solution**"
      ],
      "metadata": {
        "id": "u7GjEHqiaxuS"
      }
    },
    {
      "cell_type": "code",
      "source": [
        "train_ds, val_ds = prepare_datasets(X_train, X_val, y_train, y_val, batch_size=32)"
      ],
      "metadata": {
        "id": "ejoTkWXna0k7"
      },
      "execution_count": 9,
      "outputs": []
    },
    {
      "cell_type": "markdown",
      "source": [
        "# **Model**"
      ],
      "metadata": {
        "id": "4FXc0ABMbxiW"
      }
    },
    {
      "cell_type": "markdown",
      "source": [
        "# **Task 5: Create the Model Structure Using Appropriate Layers For Extreme Learning**"
      ],
      "metadata": {
        "id": "jUN_XUf5by5j"
      }
    },
    {
      "cell_type": "markdown",
      "source": [
        "# **Task 5 Solution**"
      ],
      "metadata": {
        "id": "1UYij_upcAoT"
      }
    },
    {
      "cell_type": "code",
      "source": [
        "model = Sequential([\n",
        "    Input(shape=(train_ds.element_spec[0].shape[1],)),\n",
        "    Dense(50, activation='relu', kernel_regularizer=l2(0.001)),\n",
        "    BatchNormalization(),\n",
        "    Dropout(0.5),\n",
        "    Dense(1, activation='sigmoid')\n",
        "])"
      ],
      "metadata": {
        "id": "kvgr2myBcDBs"
      },
      "execution_count": 10,
      "outputs": []
    },
    {
      "cell_type": "markdown",
      "source": [
        "# **Task 6: Compile the Model With SGD, inary_crossentropy and Accuracy, AUC Values.**"
      ],
      "metadata": {
        "id": "z_JiapHNcfOr"
      }
    },
    {
      "cell_type": "markdown",
      "source": [
        "# **Task 6 Solution**"
      ],
      "metadata": {
        "id": "x89vOBjlcsFA"
      }
    },
    {
      "cell_type": "code",
      "source": [
        "model.compile(optimizer=\"SGD\", loss='binary_crossentropy', metrics=['accuracy', 'AUC'])"
      ],
      "metadata": {
        "id": "U_q0orlCcuor"
      },
      "execution_count": 11,
      "outputs": []
    },
    {
      "cell_type": "markdown",
      "source": [
        "# **Task 7: Define Early Stopping Callback.**"
      ],
      "metadata": {
        "id": "xSFoIG4tdNke"
      }
    },
    {
      "cell_type": "markdown",
      "source": [
        "# **Task 7 Solution**"
      ],
      "metadata": {
        "id": "ZUuxZ1TXdSqU"
      }
    },
    {
      "cell_type": "code",
      "source": [
        "early_stoping = EarlyStopping(monitor='val_loss', patience=10, verbose=1, restore_best_weights=True)"
      ],
      "metadata": {
        "id": "aEuh5tfzdT6k"
      },
      "execution_count": 12,
      "outputs": []
    },
    {
      "cell_type": "markdown",
      "source": [
        "# **Task 8: Train the Model**"
      ],
      "metadata": {
        "id": "I7tXlZg4dpvn"
      }
    },
    {
      "cell_type": "markdown",
      "source": [
        "# **Task 8 Solution**"
      ],
      "metadata": {
        "id": "qm_6ZRMFdrx-"
      }
    },
    {
      "cell_type": "code",
      "source": [
        "history = model.fit(train_ds, validation_data=val_ds, epochs=1000, callbacks=[early_stoping])"
      ],
      "metadata": {
        "colab": {
          "base_uri": "https://localhost:8080/"
        },
        "id": "EAOicRgFduEW",
        "outputId": "35e8637a-8d80-468b-e9e6-a9176cd856a1"
      },
      "execution_count": 13,
      "outputs": [
        {
          "output_type": "stream",
          "name": "stdout",
          "text": [
            "Epoch 1/1000\n",
            "\u001b[1m15/15\u001b[0m \u001b[32m━━━━━━━━━━━━━━━━━━━━\u001b[0m\u001b[37m\u001b[0m \u001b[1m2s\u001b[0m 24ms/step - AUC: 0.7390 - accuracy: 0.6763 - loss: 0.7336 - val_AUC: 0.9591 - val_accuracy: 0.8070 - val_loss: 0.4783\n",
            "Epoch 2/1000\n",
            "\u001b[1m15/15\u001b[0m \u001b[32m━━━━━━━━━━━━━━━━━━━━\u001b[0m\u001b[37m\u001b[0m \u001b[1m0s\u001b[0m 4ms/step - AUC: 0.8991 - accuracy: 0.8260 - loss: 0.4535 - val_AUC: 0.9762 - val_accuracy: 0.9123 - val_loss: 0.3924\n",
            "Epoch 3/1000\n",
            "\u001b[1m15/15\u001b[0m \u001b[32m━━━━━━━━━━━━━━━━━━━━\u001b[0m\u001b[37m\u001b[0m \u001b[1m0s\u001b[0m 4ms/step - AUC: 0.9235 - accuracy: 0.8331 - loss: 0.4051 - val_AUC: 0.9815 - val_accuracy: 0.9474 - val_loss: 0.3343\n",
            "Epoch 4/1000\n",
            "\u001b[1m15/15\u001b[0m \u001b[32m━━━━━━━━━━━━━━━━━━━━\u001b[0m\u001b[37m\u001b[0m \u001b[1m0s\u001b[0m 4ms/step - AUC: 0.9604 - accuracy: 0.8868 - loss: 0.3170 - val_AUC: 0.9826 - val_accuracy: 0.9561 - val_loss: 0.2940\n",
            "Epoch 5/1000\n",
            "\u001b[1m15/15\u001b[0m \u001b[32m━━━━━━━━━━━━━━━━━━━━\u001b[0m\u001b[37m\u001b[0m \u001b[1m0s\u001b[0m 3ms/step - AUC: 0.9523 - accuracy: 0.8961 - loss: 0.3231 - val_AUC: 0.9842 - val_accuracy: 0.9649 - val_loss: 0.2622\n",
            "Epoch 6/1000\n",
            "\u001b[1m15/15\u001b[0m \u001b[32m━━━━━━━━━━━━━━━━━━━━\u001b[0m\u001b[37m\u001b[0m \u001b[1m0s\u001b[0m 4ms/step - AUC: 0.9818 - accuracy: 0.9390 - loss: 0.2260 - val_AUC: 0.9844 - val_accuracy: 0.9737 - val_loss: 0.2391\n",
            "Epoch 7/1000\n",
            "\u001b[1m15/15\u001b[0m \u001b[32m━━━━━━━━━━━━━━━━━━━━\u001b[0m\u001b[37m\u001b[0m \u001b[1m0s\u001b[0m 4ms/step - AUC: 0.9633 - accuracy: 0.9039 - loss: 0.2805 - val_AUC: 0.9842 - val_accuracy: 0.9737 - val_loss: 0.2206\n",
            "Epoch 8/1000\n",
            "\u001b[1m15/15\u001b[0m \u001b[32m━━━━━━━━━━━━━━━━━━━━\u001b[0m\u001b[37m\u001b[0m \u001b[1m0s\u001b[0m 4ms/step - AUC: 0.9806 - accuracy: 0.9346 - loss: 0.2258 - val_AUC: 0.9842 - val_accuracy: 0.9737 - val_loss: 0.2072\n",
            "Epoch 9/1000\n",
            "\u001b[1m15/15\u001b[0m \u001b[32m━━━━━━━━━━━━━━━━━━━━\u001b[0m\u001b[37m\u001b[0m \u001b[1m0s\u001b[0m 5ms/step - AUC: 0.9767 - accuracy: 0.9164 - loss: 0.2443 - val_AUC: 0.9833 - val_accuracy: 0.9737 - val_loss: 0.1994\n",
            "Epoch 10/1000\n",
            "\u001b[1m15/15\u001b[0m \u001b[32m━━━━━━━━━━━━━━━━━━━━\u001b[0m\u001b[37m\u001b[0m \u001b[1m0s\u001b[0m 5ms/step - AUC: 0.9820 - accuracy: 0.9183 - loss: 0.2335 - val_AUC: 0.9836 - val_accuracy: 0.9737 - val_loss: 0.1899\n",
            "Epoch 11/1000\n",
            "\u001b[1m15/15\u001b[0m \u001b[32m━━━━━━━━━━━━━━━━━━━━\u001b[0m\u001b[37m\u001b[0m \u001b[1m0s\u001b[0m 4ms/step - AUC: 0.9822 - accuracy: 0.9126 - loss: 0.2256 - val_AUC: 0.9837 - val_accuracy: 0.9737 - val_loss: 0.1818\n",
            "Epoch 12/1000\n",
            "\u001b[1m15/15\u001b[0m \u001b[32m━━━━━━━━━━━━━━━━━━━━\u001b[0m\u001b[37m\u001b[0m \u001b[1m0s\u001b[0m 6ms/step - AUC: 0.9848 - accuracy: 0.9151 - loss: 0.2178 - val_AUC: 0.9836 - val_accuracy: 0.9737 - val_loss: 0.1749\n",
            "Epoch 13/1000\n",
            "\u001b[1m15/15\u001b[0m \u001b[32m━━━━━━━━━━━━━━━━━━━━\u001b[0m\u001b[37m\u001b[0m \u001b[1m0s\u001b[0m 4ms/step - AUC: 0.9783 - accuracy: 0.9148 - loss: 0.2313 - val_AUC: 0.9842 - val_accuracy: 0.9737 - val_loss: 0.1700\n",
            "Epoch 14/1000\n",
            "\u001b[1m15/15\u001b[0m \u001b[32m━━━━━━━━━━━━━━━━━━━━\u001b[0m\u001b[37m\u001b[0m \u001b[1m0s\u001b[0m 4ms/step - AUC: 0.9817 - accuracy: 0.9532 - loss: 0.1954 - val_AUC: 0.9836 - val_accuracy: 0.9737 - val_loss: 0.1654\n",
            "Epoch 15/1000\n",
            "\u001b[1m15/15\u001b[0m \u001b[32m━━━━━━━━━━━━━━━━━━━━\u001b[0m\u001b[37m\u001b[0m \u001b[1m0s\u001b[0m 4ms/step - AUC: 0.9846 - accuracy: 0.9566 - loss: 0.1876 - val_AUC: 0.9834 - val_accuracy: 0.9737 - val_loss: 0.1628\n",
            "Epoch 16/1000\n",
            "\u001b[1m15/15\u001b[0m \u001b[32m━━━━━━━━━━━━━━━━━━━━\u001b[0m\u001b[37m\u001b[0m \u001b[1m0s\u001b[0m 4ms/step - AUC: 0.9805 - accuracy: 0.9076 - loss: 0.2130 - val_AUC: 0.9830 - val_accuracy: 0.9737 - val_loss: 0.1605\n",
            "Epoch 17/1000\n",
            "\u001b[1m15/15\u001b[0m \u001b[32m━━━━━━━━━━━━━━━━━━━━\u001b[0m\u001b[37m\u001b[0m \u001b[1m0s\u001b[0m 4ms/step - AUC: 0.9778 - accuracy: 0.9336 - loss: 0.2371 - val_AUC: 0.9847 - val_accuracy: 0.9737 - val_loss: 0.1570\n",
            "Epoch 18/1000\n",
            "\u001b[1m15/15\u001b[0m \u001b[32m━━━━━━━━━━━━━━━━━━━━\u001b[0m\u001b[37m\u001b[0m \u001b[1m0s\u001b[0m 6ms/step - AUC: 0.9902 - accuracy: 0.9483 - loss: 0.1729 - val_AUC: 0.9834 - val_accuracy: 0.9737 - val_loss: 0.1552\n",
            "Epoch 19/1000\n",
            "\u001b[1m15/15\u001b[0m \u001b[32m━━━━━━━━━━━━━━━━━━━━\u001b[0m\u001b[37m\u001b[0m \u001b[1m0s\u001b[0m 3ms/step - AUC: 0.9922 - accuracy: 0.9523 - loss: 0.1736 - val_AUC: 0.9837 - val_accuracy: 0.9737 - val_loss: 0.1533\n",
            "Epoch 20/1000\n",
            "\u001b[1m15/15\u001b[0m \u001b[32m━━━━━━━━━━━━━━━━━━━━\u001b[0m\u001b[37m\u001b[0m \u001b[1m0s\u001b[0m 3ms/step - AUC: 0.9874 - accuracy: 0.9428 - loss: 0.1865 - val_AUC: 0.9845 - val_accuracy: 0.9737 - val_loss: 0.1521\n",
            "Epoch 21/1000\n",
            "\u001b[1m15/15\u001b[0m \u001b[32m━━━━━━━━━━━━━━━━━━━━\u001b[0m\u001b[37m\u001b[0m \u001b[1m0s\u001b[0m 4ms/step - AUC: 0.9916 - accuracy: 0.9514 - loss: 0.1657 - val_AUC: 0.9855 - val_accuracy: 0.9737 - val_loss: 0.1504\n",
            "Epoch 22/1000\n",
            "\u001b[1m15/15\u001b[0m \u001b[32m━━━━━━━━━━━━━━━━━━━━\u001b[0m\u001b[37m\u001b[0m \u001b[1m0s\u001b[0m 4ms/step - AUC: 0.9922 - accuracy: 0.9579 - loss: 0.1565 - val_AUC: 0.9839 - val_accuracy: 0.9737 - val_loss: 0.1490\n",
            "Epoch 23/1000\n",
            "\u001b[1m15/15\u001b[0m \u001b[32m━━━━━━━━━━━━━━━━━━━━\u001b[0m\u001b[37m\u001b[0m \u001b[1m0s\u001b[0m 4ms/step - AUC: 0.9845 - accuracy: 0.9244 - loss: 0.1964 - val_AUC: 0.9850 - val_accuracy: 0.9737 - val_loss: 0.1484\n",
            "Epoch 24/1000\n",
            "\u001b[1m15/15\u001b[0m \u001b[32m━━━━━━━━━━━━━━━━━━━━\u001b[0m\u001b[37m\u001b[0m \u001b[1m0s\u001b[0m 3ms/step - AUC: 0.9915 - accuracy: 0.9436 - loss: 0.1652 - val_AUC: 0.9833 - val_accuracy: 0.9737 - val_loss: 0.1479\n",
            "Epoch 25/1000\n",
            "\u001b[1m15/15\u001b[0m \u001b[32m━━━━━━━━━━━━━━━━━━━━\u001b[0m\u001b[37m\u001b[0m \u001b[1m0s\u001b[0m 5ms/step - AUC: 0.9918 - accuracy: 0.9297 - loss: 0.1714 - val_AUC: 0.9834 - val_accuracy: 0.9737 - val_loss: 0.1462\n",
            "Epoch 26/1000\n",
            "\u001b[1m15/15\u001b[0m \u001b[32m━━━━━━━━━━━━━━━━━━━━\u001b[0m\u001b[37m\u001b[0m \u001b[1m0s\u001b[0m 4ms/step - AUC: 0.9881 - accuracy: 0.9468 - loss: 0.1762 - val_AUC: 0.9842 - val_accuracy: 0.9737 - val_loss: 0.1450\n",
            "Epoch 27/1000\n",
            "\u001b[1m15/15\u001b[0m \u001b[32m━━━━━━━━━━━━━━━━━━━━\u001b[0m\u001b[37m\u001b[0m \u001b[1m0s\u001b[0m 3ms/step - AUC: 0.9841 - accuracy: 0.9506 - loss: 0.1824 - val_AUC: 0.9844 - val_accuracy: 0.9737 - val_loss: 0.1437\n",
            "Epoch 28/1000\n",
            "\u001b[1m15/15\u001b[0m \u001b[32m━━━━━━━━━━━━━━━━━━━━\u001b[0m\u001b[37m\u001b[0m \u001b[1m0s\u001b[0m 3ms/step - AUC: 0.9926 - accuracy: 0.9540 - loss: 0.1550 - val_AUC: 0.9844 - val_accuracy: 0.9737 - val_loss: 0.1430\n",
            "Epoch 29/1000\n",
            "\u001b[1m15/15\u001b[0m \u001b[32m━━━━━━━━━━━━━━━━━━━━\u001b[0m\u001b[37m\u001b[0m \u001b[1m0s\u001b[0m 4ms/step - AUC: 0.9903 - accuracy: 0.9565 - loss: 0.1566 - val_AUC: 0.9845 - val_accuracy: 0.9737 - val_loss: 0.1428\n",
            "Epoch 30/1000\n",
            "\u001b[1m15/15\u001b[0m \u001b[32m━━━━━━━━━━━━━━━━━━━━\u001b[0m\u001b[37m\u001b[0m \u001b[1m0s\u001b[0m 4ms/step - AUC: 0.9920 - accuracy: 0.9495 - loss: 0.1536 - val_AUC: 0.9848 - val_accuracy: 0.9737 - val_loss: 0.1422\n",
            "Epoch 31/1000\n",
            "\u001b[1m15/15\u001b[0m \u001b[32m━━━━━━━━━━━━━━━━━━━━\u001b[0m\u001b[37m\u001b[0m \u001b[1m0s\u001b[0m 4ms/step - AUC: 0.9897 - accuracy: 0.9551 - loss: 0.1524 - val_AUC: 0.9852 - val_accuracy: 0.9737 - val_loss: 0.1418\n",
            "Epoch 32/1000\n",
            "\u001b[1m15/15\u001b[0m \u001b[32m━━━━━━━━━━━━━━━━━━━━\u001b[0m\u001b[37m\u001b[0m \u001b[1m0s\u001b[0m 4ms/step - AUC: 0.9929 - accuracy: 0.9345 - loss: 0.1636 - val_AUC: 0.9828 - val_accuracy: 0.9737 - val_loss: 0.1419\n",
            "Epoch 33/1000\n",
            "\u001b[1m15/15\u001b[0m \u001b[32m━━━━━━━━━━━━━━━━━━━━\u001b[0m\u001b[37m\u001b[0m \u001b[1m0s\u001b[0m 5ms/step - AUC: 0.9918 - accuracy: 0.9606 - loss: 0.1520 - val_AUC: 0.9831 - val_accuracy: 0.9737 - val_loss: 0.1415\n",
            "Epoch 34/1000\n",
            "\u001b[1m15/15\u001b[0m \u001b[32m━━━━━━━━━━━━━━━━━━━━\u001b[0m\u001b[37m\u001b[0m \u001b[1m0s\u001b[0m 4ms/step - AUC: 0.9849 - accuracy: 0.9377 - loss: 0.1853 - val_AUC: 0.9836 - val_accuracy: 0.9737 - val_loss: 0.1410\n",
            "Epoch 35/1000\n",
            "\u001b[1m15/15\u001b[0m \u001b[32m━━━━━━━━━━━━━━━━━━━━\u001b[0m\u001b[37m\u001b[0m \u001b[1m0s\u001b[0m 4ms/step - AUC: 0.9894 - accuracy: 0.9490 - loss: 0.1703 - val_AUC: 0.9836 - val_accuracy: 0.9737 - val_loss: 0.1406\n",
            "Epoch 36/1000\n",
            "\u001b[1m15/15\u001b[0m \u001b[32m━━━━━━━━━━━━━━━━━━━━\u001b[0m\u001b[37m\u001b[0m \u001b[1m0s\u001b[0m 3ms/step - AUC: 0.9882 - accuracy: 0.9557 - loss: 0.1741 - val_AUC: 0.9842 - val_accuracy: 0.9737 - val_loss: 0.1398\n",
            "Epoch 37/1000\n",
            "\u001b[1m15/15\u001b[0m \u001b[32m━━━━━━━━━━━━━━━━━━━━\u001b[0m\u001b[37m\u001b[0m \u001b[1m0s\u001b[0m 3ms/step - AUC: 0.9932 - accuracy: 0.9424 - loss: 0.1520 - val_AUC: 0.9844 - val_accuracy: 0.9825 - val_loss: 0.1391\n",
            "Epoch 38/1000\n",
            "\u001b[1m15/15\u001b[0m \u001b[32m━━━━━━━━━━━━━━━━━━━━\u001b[0m\u001b[37m\u001b[0m \u001b[1m0s\u001b[0m 4ms/step - AUC: 0.9969 - accuracy: 0.9735 - loss: 0.1253 - val_AUC: 0.9848 - val_accuracy: 0.9825 - val_loss: 0.1386\n",
            "Epoch 39/1000\n",
            "\u001b[1m15/15\u001b[0m \u001b[32m━━━━━━━━━━━━━━━━━━━━\u001b[0m\u001b[37m\u001b[0m \u001b[1m0s\u001b[0m 4ms/step - AUC: 0.9863 - accuracy: 0.9497 - loss: 0.1792 - val_AUC: 0.9847 - val_accuracy: 0.9825 - val_loss: 0.1385\n",
            "Epoch 40/1000\n",
            "\u001b[1m15/15\u001b[0m \u001b[32m━━━━━━━━━━━━━━━━━━━━\u001b[0m\u001b[37m\u001b[0m \u001b[1m0s\u001b[0m 4ms/step - AUC: 0.9956 - accuracy: 0.9633 - loss: 0.1317 - val_AUC: 0.9850 - val_accuracy: 0.9825 - val_loss: 0.1387\n",
            "Epoch 41/1000\n",
            "\u001b[1m15/15\u001b[0m \u001b[32m━━━━━━━━━━━━━━━━━━━━\u001b[0m\u001b[37m\u001b[0m \u001b[1m0s\u001b[0m 4ms/step - AUC: 0.9933 - accuracy: 0.9589 - loss: 0.1517 - val_AUC: 0.9852 - val_accuracy: 0.9825 - val_loss: 0.1394\n",
            "Epoch 42/1000\n",
            "\u001b[1m15/15\u001b[0m \u001b[32m━━━━━━━━━━━━━━━━━━━━\u001b[0m\u001b[37m\u001b[0m \u001b[1m0s\u001b[0m 3ms/step - AUC: 0.9927 - accuracy: 0.9636 - loss: 0.1450 - val_AUC: 0.9852 - val_accuracy: 0.9825 - val_loss: 0.1389\n",
            "Epoch 43/1000\n",
            "\u001b[1m15/15\u001b[0m \u001b[32m━━━━━━━━━━━━━━━━━━━━\u001b[0m\u001b[37m\u001b[0m \u001b[1m0s\u001b[0m 3ms/step - AUC: 0.9950 - accuracy: 0.9712 - loss: 0.1335 - val_AUC: 0.9852 - val_accuracy: 0.9825 - val_loss: 0.1386\n",
            "Epoch 44/1000\n",
            "\u001b[1m15/15\u001b[0m \u001b[32m━━━━━━━━━━━━━━━━━━━━\u001b[0m\u001b[37m\u001b[0m \u001b[1m0s\u001b[0m 3ms/step - AUC: 0.9884 - accuracy: 0.9367 - loss: 0.1712 - val_AUC: 0.9852 - val_accuracy: 0.9825 - val_loss: 0.1381\n",
            "Epoch 45/1000\n",
            "\u001b[1m15/15\u001b[0m \u001b[32m━━━━━━━━━━━━━━━━━━━━\u001b[0m\u001b[37m\u001b[0m \u001b[1m0s\u001b[0m 4ms/step - AUC: 0.9811 - accuracy: 0.9346 - loss: 0.2380 - val_AUC: 0.9855 - val_accuracy: 0.9825 - val_loss: 0.1373\n",
            "Epoch 46/1000\n",
            "\u001b[1m15/15\u001b[0m \u001b[32m━━━━━━━━━━━━━━━━━━━━\u001b[0m\u001b[37m\u001b[0m \u001b[1m0s\u001b[0m 6ms/step - AUC: 0.9980 - accuracy: 0.9790 - loss: 0.1151 - val_AUC: 0.9853 - val_accuracy: 0.9825 - val_loss: 0.1369\n",
            "Epoch 47/1000\n",
            "\u001b[1m15/15\u001b[0m \u001b[32m━━━━━━━━━━━━━━━━━━━━\u001b[0m\u001b[37m\u001b[0m \u001b[1m0s\u001b[0m 6ms/step - AUC: 0.9931 - accuracy: 0.9693 - loss: 0.1419 - val_AUC: 0.9855 - val_accuracy: 0.9825 - val_loss: 0.1364\n",
            "Epoch 48/1000\n",
            "\u001b[1m15/15\u001b[0m \u001b[32m━━━━━━━━━━━━━━━━━━━━\u001b[0m\u001b[37m\u001b[0m \u001b[1m0s\u001b[0m 6ms/step - AUC: 0.9941 - accuracy: 0.9575 - loss: 0.1469 - val_AUC: 0.9856 - val_accuracy: 0.9825 - val_loss: 0.1356\n",
            "Epoch 49/1000\n",
            "\u001b[1m15/15\u001b[0m \u001b[32m━━━━━━━━━━━━━━━━━━━━\u001b[0m\u001b[37m\u001b[0m \u001b[1m0s\u001b[0m 6ms/step - AUC: 0.9955 - accuracy: 0.9606 - loss: 0.1345 - val_AUC: 0.9861 - val_accuracy: 0.9825 - val_loss: 0.1351\n",
            "Epoch 50/1000\n",
            "\u001b[1m15/15\u001b[0m \u001b[32m━━━━━━━━━━━━━━━━━━━━\u001b[0m\u001b[37m\u001b[0m \u001b[1m0s\u001b[0m 6ms/step - AUC: 0.9920 - accuracy: 0.9482 - loss: 0.1453 - val_AUC: 0.9866 - val_accuracy: 0.9825 - val_loss: 0.1351\n",
            "Epoch 51/1000\n",
            "\u001b[1m15/15\u001b[0m \u001b[32m━━━━━━━━━━━━━━━━━━━━\u001b[0m\u001b[37m\u001b[0m \u001b[1m0s\u001b[0m 5ms/step - AUC: 0.9953 - accuracy: 0.9617 - loss: 0.1337 - val_AUC: 0.9867 - val_accuracy: 0.9825 - val_loss: 0.1347\n",
            "Epoch 52/1000\n",
            "\u001b[1m15/15\u001b[0m \u001b[32m━━━━━━━━━━━━━━━━━━━━\u001b[0m\u001b[37m\u001b[0m \u001b[1m0s\u001b[0m 5ms/step - AUC: 0.9928 - accuracy: 0.9624 - loss: 0.1427 - val_AUC: 0.9864 - val_accuracy: 0.9825 - val_loss: 0.1341\n",
            "Epoch 53/1000\n",
            "\u001b[1m15/15\u001b[0m \u001b[32m━━━━━━━━━━━━━━━━━━━━\u001b[0m\u001b[37m\u001b[0m \u001b[1m0s\u001b[0m 6ms/step - AUC: 0.9973 - accuracy: 0.9644 - loss: 0.1166 - val_AUC: 0.9869 - val_accuracy: 0.9825 - val_loss: 0.1345\n",
            "Epoch 54/1000\n",
            "\u001b[1m15/15\u001b[0m \u001b[32m━━━━━━━━━━━━━━━━━━━━\u001b[0m\u001b[37m\u001b[0m \u001b[1m0s\u001b[0m 5ms/step - AUC: 0.9934 - accuracy: 0.9501 - loss: 0.1474 - val_AUC: 0.9867 - val_accuracy: 0.9825 - val_loss: 0.1342\n",
            "Epoch 55/1000\n",
            "\u001b[1m15/15\u001b[0m \u001b[32m━━━━━━━━━━━━━━━━━━━━\u001b[0m\u001b[37m\u001b[0m \u001b[1m0s\u001b[0m 5ms/step - AUC: 0.9892 - accuracy: 0.9320 - loss: 0.1679 - val_AUC: 0.9872 - val_accuracy: 0.9825 - val_loss: 0.1351\n",
            "Epoch 56/1000\n",
            "\u001b[1m15/15\u001b[0m \u001b[32m━━━━━━━━━━━━━━━━━━━━\u001b[0m\u001b[37m\u001b[0m \u001b[1m0s\u001b[0m 7ms/step - AUC: 0.9946 - accuracy: 0.9547 - loss: 0.1440 - val_AUC: 0.9874 - val_accuracy: 0.9825 - val_loss: 0.1352\n",
            "Epoch 57/1000\n",
            "\u001b[1m15/15\u001b[0m \u001b[32m━━━━━━━━━━━━━━━━━━━━\u001b[0m\u001b[37m\u001b[0m \u001b[1m0s\u001b[0m 8ms/step - AUC: 0.9939 - accuracy: 0.9556 - loss: 0.1448 - val_AUC: 0.9875 - val_accuracy: 0.9825 - val_loss: 0.1357\n",
            "Epoch 58/1000\n",
            "\u001b[1m15/15\u001b[0m \u001b[32m━━━━━━━━━━━━━━━━━━━━\u001b[0m\u001b[37m\u001b[0m \u001b[1m0s\u001b[0m 5ms/step - AUC: 0.9854 - accuracy: 0.9378 - loss: 0.1881 - val_AUC: 0.9880 - val_accuracy: 0.9825 - val_loss: 0.1353\n",
            "Epoch 59/1000\n",
            "\u001b[1m15/15\u001b[0m \u001b[32m━━━━━━━━━━━━━━━━━━━━\u001b[0m\u001b[37m\u001b[0m \u001b[1m0s\u001b[0m 6ms/step - AUC: 0.9946 - accuracy: 0.9656 - loss: 0.1324 - val_AUC: 0.9815 - val_accuracy: 0.9825 - val_loss: 0.1362\n",
            "Epoch 60/1000\n",
            "\u001b[1m15/15\u001b[0m \u001b[32m━━━━━━━━━━━━━━━━━━━━\u001b[0m\u001b[37m\u001b[0m \u001b[1m0s\u001b[0m 7ms/step - AUC: 0.9963 - accuracy: 0.9781 - loss: 0.1261 - val_AUC: 0.9817 - val_accuracy: 0.9825 - val_loss: 0.1360\n",
            "Epoch 61/1000\n",
            "\u001b[1m15/15\u001b[0m \u001b[32m━━━━━━━━━━━━━━━━━━━━\u001b[0m\u001b[37m\u001b[0m \u001b[1m0s\u001b[0m 5ms/step - AUC: 0.9930 - accuracy: 0.9634 - loss: 0.1522 - val_AUC: 0.9818 - val_accuracy: 0.9825 - val_loss: 0.1353\n",
            "Epoch 62/1000\n",
            "\u001b[1m15/15\u001b[0m \u001b[32m━━━━━━━━━━━━━━━━━━━━\u001b[0m\u001b[37m\u001b[0m \u001b[1m0s\u001b[0m 5ms/step - AUC: 0.9945 - accuracy: 0.9591 - loss: 0.1353 - val_AUC: 0.9820 - val_accuracy: 0.9825 - val_loss: 0.1348\n",
            "Epoch 62: early stopping\n",
            "Restoring model weights from the end of the best epoch: 52.\n"
          ]
        }
      ]
    },
    {
      "cell_type": "markdown",
      "source": [
        "# **Task 9: Get the Best Epoch Values ​​and Interpret Them.**"
      ],
      "metadata": {
        "id": "NQTAKggHeFk_"
      }
    },
    {
      "cell_type": "markdown",
      "source": [
        "# **Task 9 Solution**"
      ],
      "metadata": {
        "id": "vpO8DuEnePvN"
      }
    },
    {
      "cell_type": "code",
      "source": [
        "best_epoch_details = get_best_epoch_details(history)\n",
        "print(f\"Best Epoch Details: {best_epoch_details}\")"
      ],
      "metadata": {
        "colab": {
          "base_uri": "https://localhost:8080/"
        },
        "id": "de4vV484eNbv",
        "outputId": "887c9086-7a0d-4d81-a8ae-9d4fe342d1f5"
      },
      "execution_count": 14,
      "outputs": [
        {
          "output_type": "stream",
          "name": "stdout",
          "text": [
            "Best Epoch Details: {'AUC': 0.9901621341705322, 'accuracy': 0.9560439586639404, 'loss': 0.1620844304561615, 'val_AUC': 0.9864267110824585, 'val_accuracy': 0.9824561476707458, 'val_loss': 0.13411486148834229, 'best_epoch': 52}\n"
          ]
        }
      ]
    },
    {
      "cell_type": "markdown",
      "source": [
        "# **Task 10: Visualize and Interpret Train History**"
      ],
      "metadata": {
        "id": "p4YhsnvEeShP"
      }
    },
    {
      "cell_type": "markdown",
      "source": [
        "# **Task 10 Solution**"
      ],
      "metadata": {
        "id": "sv5rxDybeWub"
      }
    },
    {
      "cell_type": "code",
      "source": [
        "plot_training_history(history)"
      ],
      "metadata": {
        "colab": {
          "base_uri": "https://localhost:8080/",
          "height": 957
        },
        "id": "ZK2hqkCqeYxr",
        "outputId": "18f6f89a-94fb-47b4-dde3-9174637b76b2"
      },
      "execution_count": 15,
      "outputs": [
        {
          "output_type": "display_data",
          "data": {
            "text/plain": [
              "<Figure size 1000x500 with 1 Axes>"
            ],
            "image/png": "[encoded data removed]"
          },
          "metadata": {}
        },
        {
          "output_type": "display_data",
          "data": {
            "text/plain": [
              "<Figure size 1000x500 with 1 Axes>"
            ],
            "image/png": "[encoded data removed]"
          },
          "metadata": {}
        }
      ]
    },
    {
      "cell_type": "markdown",
      "source": [
        "# **Task 11: What Do You Think About the Over-Learning Situation of the Model?**"
      ],
      "metadata": {
        "id": "yMy3rWBweZJ9"
      }
    },
    {
      "cell_type": "markdown",
      "source": [
        "# **Task 11 Solution**"
      ],
      "metadata": {
        "id": "DqJc0PaEehlF"
      }
    },
    {
      "cell_type": "markdown",
      "source": [
        "The best epoch results obtained at the end of the model training process are as follows: **'AUC'**: 0.9901, **'accuracy'**: 0.9560, **'loss'**: 0.1620, **'val_AUC'**: 0.9864, **'val_accuracy'**: 0.9824, **'val_loss'**: 0.1341, and **'best_epoch'**: 52. As a result of the evaluation of the metrics monitored in each epoch, it was observed that the val loss value generally tended to decrease, while the val accuracy value tended to increase.\n",
        "\n",
        "When the loss graph of the model is examined, it is seen that the training loss and validation loss values ​​follow a parallel course. This shows that the model does not overfit during training and maintains its general performance. **Therefore, the model provides good generalizability on new data other than training data.**"
      ],
      "metadata": {
        "id": "PPSokRQ-ejaH"
      }
    },
    {
      "cell_type": "markdown",
      "source": [
        "# **General Information**"
      ],
      "metadata": {
        "id": "tH9t6bFNwImS"
      }
    },
    {
      "cell_type": "markdown",
      "source": [
        "## **1-) Train, Validation and Test Set**"
      ],
      "metadata": {
        "id": "gMGHkZRuwlZf"
      }
    },
    {
      "cell_type": "markdown",
      "source": [
        "When training a machine learning or deep learning model, it is a critical step to separate the data into three groups: training, validation, and testing. The training set is the data used in the model’s learning process. The model learns to recognize patterns and update its parameters with this data. The validation set is used to tune the model’s hyperparameters and is important for evaluating the model’s performance on new data. **During the training process, the model can prevent over-learning by looking at the validation set, such as early stopping.** The test set is used to evaluate the model’s final performance on independent data. Since this data has not been seen by the model before, it measures the model’s ability to generalize in the real world."
      ],
      "metadata": {
        "id": "IGhdkK5awmdf"
      }
    },
    {
      "cell_type": "markdown",
      "source": [
        "## **2-) Regularization**"
      ],
      "metadata": {
        "id": "nTq5e6xFw8d0"
      }
    },
    {
      "cell_type": "markdown",
      "source": [
        "**Regularization is a technique that helps prevent a model from over-fitting.** Over-fitting is when a model overfits the training data and therefore underperforms on new data. **Regularization works by limiting the size of the model’s weights or by disabling certain features (such as the L1 and L2 regularization methods).** This process helps keep the model simple, increasing its generalizability. Especially in deep learning, regularization techniques provide more balanced performance by reducing unnecessary parameters during model training."
      ],
      "metadata": {
        "id": "nQSGPDZvw9OH"
      }
    },
    {
      "cell_type": "markdown",
      "source": [
        "## **3-) Dropout**"
      ],
      "metadata": {
        "id": "raE-Vcd-xRic"
      }
    },
    {
      "cell_type": "markdown",
      "source": [
        "Dropout is a technique used in deep learning and was developed specifically to prevent over-learning. **During the training process, certain neurons are randomly disabled at each forward step.** **This forces some layers of the model to work with incomplete information and is not dependent on specific neurons or weights.** Dropout increases the diversity of the model by creating different subnetworks and improves overall performance. Turning off random neurons during training prevents the model from overfitting to certain features and provides better generalizability on new data."
      ],
      "metadata": {
        "id": "zFvNZxl8xSQo"
      }
    },
    {
      "cell_type": "markdown",
      "source": [
        "## **4-) Batch Normalization**"
      ],
      "metadata": {
        "id": "tulMANk6xnD-"
      }
    },
    {
      "cell_type": "markdown",
      "source": [
        "**Batch Normalization is used to adjust the distribution of activations in each layer during the training of deep learning models.** This process normalizes the data with the mean and standard deviation after each mini-batch during the training process, allowing the model to learn faster and more stably. **Batch normalization allows for higher learning rates and generally prevents the model from overfitting.** In addition, training time is reduced and generalization ability is increased due to smoother updating of model parameters."
      ],
      "metadata": {
        "id": "EANI5ntOxn6W"
      }
    },
    {
      "cell_type": "markdown",
      "source": [
        "## **5-) Early Stopping**"
      ],
      "metadata": {
        "id": "XbXCN8lmx7HK"
      }
    },
    {
      "cell_type": "markdown",
      "source": [
        "**Early stopping is a technique used to prevent over-learning of the model. When there is no improvement in the model validation loss during training, the training process is terminated early.** In this way, the model is not trained for more epochs than necessary and the training is completed when the validation error reaches the lowest level. Early stopping reduces the training time, provides faster results and prevents unnecessary parameter updates. This method gives effective results especially when the validation set is used and increases the performance of the model on new data."
      ],
      "metadata": {
        "id": "aF19i9nLx7sB"
      }
    },
    {
      "cell_type": "markdown",
      "source": [
        "## **6-) Data Augmentation**"
      ],
      "metadata": {
        "id": "MbToIOvnyE0R"
      }
    },
    {
      "cell_type": "markdown",
      "source": [
        "**Data augmentation is a technique used to diversify the training data.** Insufficient data can lead to over-learning of the model, so data augmentation helps the model undergo a more robust learning process by creating new examples from the existing data. Commonly used methods in image processing include rotation, scaling, cropping, color changes, etc. **Data augmentation increases the generalizability of the model by exposing it to different variations and enriches the diversity of the training data.**"
      ],
      "metadata": {
        "id": "GI2hNyAXyHNI"
      }
    },
    {
      "cell_type": "markdown",
      "source": [
        "## **7-) Hyperparameters**"
      ],
      "metadata": {
        "id": "KJvHGIFtwNmE"
      }
    },
    {
      "cell_type": "markdown",
      "source": [
        "Hyperparameters are parameters that are determined in advance during the training of the model and directly affect the training process and model performance. **Settings such as learning rate, epoch number, hidden layer number, dropout rate are examples of hyperparameters.** **Choosing these parameters correctly significantly affects the performance of the model.** Methods such as grid search or random search can be used to optimize hyperparameters. Correctly set hyperparameters increase the generalization capacity of the model and allow better results to be obtained."
      ],
      "metadata": {
        "id": "lm6ukcGayWPs"
      }
    }
  ]
}