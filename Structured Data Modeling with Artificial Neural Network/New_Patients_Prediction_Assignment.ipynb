{
  "nbformat": 4,
  "nbformat_minor": 0,
  "metadata": {
    "colab": {
      "provenance": []
    },
    "kernelspec": {
      "name": "python3",
      "display_name": "Python 3"
    },
    "language_info": {
      "name": "python"
    }
  },
  "cells": [
    {
      "cell_type": "markdown",
      "source": [
        "# **New Patients Diabetes Prediction**"
      ],
      "metadata": {
        "id": "v-wGPgFKWGSR"
      }
    },
    {
      "cell_type": "markdown",
      "source": [
        "You started working at the hospital.\n",
        "\n",
        "Dr. Mehmet says; I have a model that I developed for patients here. I will share this model information with you.\n",
        "\n",
        "We want to see the model's predictions before we put our patients to diabetes testing. We want to consider it in order to give an idea.\n",
        "\n",
        "We expect you to ask the model about the patient information that will be given.\n",
        "\n",
        "Shared files:\n",
        "\n",
        "- new_patients.csv\n",
        "- diabetes_scaler.joblib\n",
        "- diabetes_model.keras"
      ],
      "metadata": {
        "id": "jzQ6sOqbWT1-"
      }
    },
    {
      "cell_type": "markdown",
      "source": [
        "# **Imports**"
      ],
      "metadata": {
        "id": "i6yyqI00WUvk"
      }
    },
    {
      "cell_type": "code",
      "source": [
        "!pip uninstall tf-keras\n",
        "!pip install tensorflow==2.16.1"
      ],
      "metadata": {
        "id": "Y5fs1c8hWWXt"
      },
      "execution_count": null,
      "outputs": []
    },
    {
      "cell_type": "code",
      "source": [
        "import keras\n",
        "import tensorflow as tf\n",
        "print(\"Keras Current Version:\", keras.__version__, \"Tensorflow Current Version:\", tf.__version__)"
      ],
      "metadata": {
        "colab": {
          "base_uri": "https://localhost:8080/"
        },
        "id": "eFE35e2jX12i",
        "outputId": "ab6ea49c-7608-40a8-ea23-406434e67fb9"
      },
      "execution_count": 2,
      "outputs": [
        {
          "output_type": "stream",
          "name": "stdout",
          "text": [
            "Keras Current Version: 3.4.1 Tensorflow Current Version: 2.16.1\n"
          ]
        }
      ]
    },
    {
      "cell_type": "code",
      "source": [
        "import pandas as pd\n",
        "from joblib import load\n",
        "from tensorflow.keras.models import load_model"
      ],
      "metadata": {
        "id": "Gv4tbDsWWYht"
      },
      "execution_count": 3,
      "outputs": []
    },
    {
      "cell_type": "markdown",
      "source": [
        "# **Task 1: Install Scaler**"
      ],
      "metadata": {
        "id": "4y5kwRfFWaN1"
      }
    },
    {
      "cell_type": "markdown",
      "source": [
        "# **Task 1 Solution**"
      ],
      "metadata": {
        "id": "kE9ds8bJWexf"
      }
    },
    {
      "cell_type": "code",
      "source": [
        "diabetes_scaler = load('diabetes_scaler.joblib')"
      ],
      "metadata": {
        "id": "elGR-9MyZEc8"
      },
      "execution_count": 5,
      "outputs": []
    },
    {
      "cell_type": "markdown",
      "source": [
        "# **Task 2: Load the Model**"
      ],
      "metadata": {
        "id": "R65qAdeOWgnM"
      }
    },
    {
      "cell_type": "markdown",
      "source": [
        "# **Task 2 Solution**"
      ],
      "metadata": {
        "id": "mNcETDSoWk21"
      }
    },
    {
      "cell_type": "code",
      "source": [
        "diabetes_model = load_model(\"diabetes_model.keras\", compile=False)"
      ],
      "metadata": {
        "id": "t0mZMG8mZLWG"
      },
      "execution_count": 6,
      "outputs": []
    },
    {
      "cell_type": "markdown",
      "source": [
        "# **Task 3: Upload new_patients.csv File**"
      ],
      "metadata": {
        "id": "UNt4uXqDWmPy"
      }
    },
    {
      "cell_type": "markdown",
      "source": [
        "# **Task 3 Solution**"
      ],
      "metadata": {
        "id": "yAaaW0XDWqNI"
      }
    },
    {
      "cell_type": "code",
      "source": [
        "new_patients = pd.read_csv('new_patients.csv')"
      ],
      "metadata": {
        "id": "ilMvKbLcZSsQ"
      },
      "execution_count": 7,
      "outputs": []
    },
    {
      "cell_type": "markdown",
      "source": [
        "# **Task 4: Perform the Necessary Preprocessing**"
      ],
      "metadata": {
        "id": "WTPXT6hZWsfV"
      }
    },
    {
      "cell_type": "markdown",
      "source": [
        "# **Task 4 Solution**"
      ],
      "metadata": {
        "id": "p0S_7-nbWwIT"
      }
    },
    {
      "cell_type": "code",
      "source": [
        "X_scaled = diabetes_scaler.fit_transform(new_patients)"
      ],
      "metadata": {
        "id": "mqTWEQy4ZXKO"
      },
      "execution_count": 8,
      "outputs": []
    },
    {
      "cell_type": "markdown",
      "source": [
        "# **Task 5: Predict the Diabetes Status of New Patients With the Model**"
      ],
      "metadata": {
        "id": "HYO1mhAkWyMq"
      }
    },
    {
      "cell_type": "markdown",
      "source": [
        "# **Task 5 Solution**"
      ],
      "metadata": {
        "id": "16ch19hAW4UK"
      }
    },
    {
      "cell_type": "code",
      "source": [
        "diabetes_model.predict(X_scaled, verbose=0)"
      ],
      "metadata": {
        "colab": {
          "base_uri": "https://localhost:8080/"
        },
        "id": "S4c66IkNZaPj",
        "outputId": "f9b536de-02cf-4bac-e4a9-8aec3cf08ca3"
      },
      "execution_count": 9,
      "outputs": [
        {
          "output_type": "execute_result",
          "data": {
            "text/plain": [
              "array([[0.27119368],\n",
              "       [0.9591201 ],\n",
              "       [0.561722  ],\n",
              "       [       nan],\n",
              "       [0.09041373],\n",
              "       [0.27349538],\n",
              "       [0.23833467],\n",
              "       [0.6694947 ],\n",
              "       [0.28508553],\n",
              "       [0.0435346 ]], dtype=float32)"
            ]
          },
          "metadata": {},
          "execution_count": 9
        }
      ]
    },
    {
      "cell_type": "markdown",
      "source": [
        "# **Task 6: One of the Predictions Seems Problematic. What is the Reason? Correct It and Predict Again.**"
      ],
      "metadata": {
        "id": "qSywSwKOW7tq"
      }
    },
    {
      "cell_type": "markdown",
      "source": [
        "# **Task 6 Solution**"
      ],
      "metadata": {
        "id": "IPlPlA2MXDWL"
      }
    },
    {
      "cell_type": "markdown",
      "source": [
        "There may be missing values ​​in the data set."
      ],
      "metadata": {
        "id": "Po8Uq7tFaDm_"
      }
    },
    {
      "cell_type": "code",
      "source": [
        "import missingno as msno\n",
        "%matplotlib inline\n",
        "msno.matrix(new_patients)"
      ],
      "metadata": {
        "colab": {
          "base_uri": "https://localhost:8080/",
          "height": 797
        },
        "id": "6h2jiNuPaD9O",
        "outputId": "369951f9-f423-4e39-9008-3435b42416b3"
      },
      "execution_count": 14,
      "outputs": [
        {
          "output_type": "execute_result",
          "data": {
            "text/plain": [
              "<Axes: >"
            ]
          },
          "metadata": {},
          "execution_count": 14
        },
        {
          "output_type": "display_data",
          "data": {
            "text/plain": [
              "<Figure size 2500x1000 with 2 Axes>"
            ],
            "image/png": "[encoded data removed]"
          },
          "metadata": {}
        }
      ]
    },
    {
      "cell_type": "code",
      "source": [
        "new_patients.isnull().sum()"
      ],
      "metadata": {
        "colab": {
          "base_uri": "https://localhost:8080/",
          "height": 335
        },
        "id": "Jc3EaRzjaj1i",
        "outputId": "29df0bac-8278-4224-9130-4a6653b29e76"
      },
      "execution_count": 15,
      "outputs": [
        {
          "output_type": "execute_result",
          "data": {
            "text/plain": [
              "Pregnancies                 0\n",
              "Glucose                     0\n",
              "BloodPressure               0\n",
              "SkinThickness               0\n",
              "Insulin                     0\n",
              "BMI                         1\n",
              "DiabetesPedigreeFunction    0\n",
              "Age                         0\n",
              "dtype: int64"
            ],
            "text/html": [
              "<div>\n",
              "<style scoped>\n",
              "    .dataframe tbody tr th:only-of-type {\n",
              "        vertical-align: middle;\n",
              "    }\n",
              "\n",
              "    .dataframe tbody tr th {\n",
              "        vertical-align: top;\n",
              "    }\n",
              "\n",
              "    .dataframe thead th {\n",
              "        text-align: right;\n",
              "    }\n",
              "</style>\n",
              "<table border=\"1\" class=\"dataframe\">\n",
              "  <thead>\n",
              "    <tr style=\"text-align: right;\">\n",
              "      <th></th>\n",
              "      <th>0</th>\n",
              "    </tr>\n",
              "  </thead>\n",
              "  <tbody>\n",
              "    <tr>\n",
              "      <th>Pregnancies</th>\n",
              "      <td>0</td>\n",
              "    </tr>\n",
              "    <tr>\n",
              "      <th>Glucose</th>\n",
              "      <td>0</td>\n",
              "    </tr>\n",
              "    <tr>\n",
              "      <th>BloodPressure</th>\n",
              "      <td>0</td>\n",
              "    </tr>\n",
              "    <tr>\n",
              "      <th>SkinThickness</th>\n",
              "      <td>0</td>\n",
              "    </tr>\n",
              "    <tr>\n",
              "      <th>Insulin</th>\n",
              "      <td>0</td>\n",
              "    </tr>\n",
              "    <tr>\n",
              "      <th>BMI</th>\n",
              "      <td>1</td>\n",
              "    </tr>\n",
              "    <tr>\n",
              "      <th>DiabetesPedigreeFunction</th>\n",
              "      <td>0</td>\n",
              "    </tr>\n",
              "    <tr>\n",
              "      <th>Age</th>\n",
              "      <td>0</td>\n",
              "    </tr>\n",
              "  </tbody>\n",
              "</table>\n",
              "</div><br><label><b>dtype:</b> int64</label>"
            ]
          },
          "metadata": {},
          "execution_count": 15
        }
      ]
    },
    {
      "cell_type": "code",
      "source": [
        "new_patients.head()"
      ],
      "metadata": {
        "colab": {
          "base_uri": "https://localhost:8080/",
          "height": 206
        },
        "id": "ilPNwiV7an36",
        "outputId": "7c042a48-5240-4a34-f394-56f71c07ef6a"
      },
      "execution_count": 16,
      "outputs": [
        {
          "output_type": "execute_result",
          "data": {
            "text/plain": [
              "   Pregnancies  Glucose  BloodPressure  SkinThickness  Insulin   BMI  \\\n",
              "0            2      139             75              0        0  25.6   \n",
              "1            0      180             78             63       14  59.4   \n",
              "2            4      147             74             25      293  34.9   \n",
              "3            0       98             82             15       84   NaN   \n",
              "4            1      107             72             30       82  30.8   \n",
              "\n",
              "   DiabetesPedigreeFunction  Age  \n",
              "0                     0.167   29  \n",
              "1                     2.420   25  \n",
              "2                     0.385   30  \n",
              "3                     0.299   22  \n",
              "4                     0.821   24  "
            ],
            "text/html": [
              "\n",
              "  <div id=\"df-4c847145-a4a1-4b95-a259-9b286907fb92\" class=\"colab-df-container\">\n",
              "    <div>\n",
              "<style scoped>\n",
              "    .dataframe tbody tr th:only-of-type {\n",
              "        vertical-align: middle;\n",
              "    }\n",
              "\n",
              "    .dataframe tbody tr th {\n",
              "        vertical-align: top;\n",
              "    }\n",
              "\n",
              "    .dataframe thead th {\n",
              "        text-align: right;\n",
              "    }\n",
              "</style>\n",
              "<table border=\"1\" class=\"dataframe\">\n",
              "  <thead>\n",
              "    <tr style=\"text-align: right;\">\n",
              "      <th></th>\n",
              "      <th>Pregnancies</th>\n",
              "      <th>Glucose</th>\n",
              "      <th>BloodPressure</th>\n",
              "      <th>SkinThickness</th>\n",
              "      <th>Insulin</th>\n",
              "      <th>BMI</th>\n",
              "      <th>DiabetesPedigreeFunction</th>\n",
              "      <th>Age</th>\n",
              "    </tr>\n",
              "  </thead>\n",
              "  <tbody>\n",
              "    <tr>\n",
              "      <th>0</th>\n",
              "      <td>2</td>\n",
              "      <td>139</td>\n",
              "      <td>75</td>\n",
              "      <td>0</td>\n",
              "      <td>0</td>\n",
              "      <td>25.6</td>\n",
              "      <td>0.167</td>\n",
              "      <td>29</td>\n",
              "    </tr>\n",
              "    <tr>\n",
              "      <th>1</th>\n",
              "      <td>0</td>\n",
              "      <td>180</td>\n",
              "      <td>78</td>\n",
              "      <td>63</td>\n",
              "      <td>14</td>\n",
              "      <td>59.4</td>\n",
              "      <td>2.420</td>\n",
              "      <td>25</td>\n",
              "    </tr>\n",
              "    <tr>\n",
              "      <th>2</th>\n",
              "      <td>4</td>\n",
              "      <td>147</td>\n",
              "      <td>74</td>\n",
              "      <td>25</td>\n",
              "      <td>293</td>\n",
              "      <td>34.9</td>\n",
              "      <td>0.385</td>\n",
              "      <td>30</td>\n",
              "    </tr>\n",
              "    <tr>\n",
              "      <th>3</th>\n",
              "      <td>0</td>\n",
              "      <td>98</td>\n",
              "      <td>82</td>\n",
              "      <td>15</td>\n",
              "      <td>84</td>\n",
              "      <td>NaN</td>\n",
              "      <td>0.299</td>\n",
              "      <td>22</td>\n",
              "    </tr>\n",
              "    <tr>\n",
              "      <th>4</th>\n",
              "      <td>1</td>\n",
              "      <td>107</td>\n",
              "      <td>72</td>\n",
              "      <td>30</td>\n",
              "      <td>82</td>\n",
              "      <td>30.8</td>\n",
              "      <td>0.821</td>\n",
              "      <td>24</td>\n",
              "    </tr>\n",
              "  </tbody>\n",
              "</table>\n",
              "</div>\n",
              "    <div class=\"colab-df-buttons\">\n",
              "\n",
              "  <div class=\"colab-df-container\">\n",
              "    <button class=\"colab-df-convert\" onclick=\"convertToInteractive('df-4c847145-a4a1-4b95-a259-9b286907fb92')\"\n",
              "            title=\"Convert this dataframe to an interactive table.\"\n",
              "            style=\"display:none;\">\n",
              "\n",
              "  <svg xmlns=\"http://www.w3.org/2000/svg\" height=\"24px\" viewBox=\"0 -960 960 960\">\n",
              "    <path d=\"M120-120v-720h720v720H120Zm60-500h600v-160H180v160Zm220 220h160v-160H400v160Zm0 220h160v-160H400v160ZM180-400h160v-160H180v160Zm440 0h160v-160H620v160ZM180-180h160v-160H180v160Zm440 0h160v-160H620v160Z\"/>\n",
              "  </svg>\n",
              "    </button>\n",
              "\n",
              "  <style>\n",
              "    .colab-df-container {\n",
              "      display:flex;\n",
              "      gap: 12px;\n",
              "    }\n",
              "\n",
              "    .colab-df-convert {\n",
              "      background-color: #E8F0FE;\n",
              "      border: none;\n",
              "      border-radius: 50%;\n",
              "      cursor: pointer;\n",
              "      display: none;\n",
              "      fill: #1967D2;\n",
              "      height: 32px;\n",
              "      padding: 0 0 0 0;\n",
              "      width: 32px;\n",
              "    }\n",
              "\n",
              "    .colab-df-convert:hover {\n",
              "      background-color: #E2EBFA;\n",
              "      box-shadow: 0px 1px 2px rgba(60, 64, 67, 0.3), 0px 1px 3px 1px rgba(60, 64, 67, 0.15);\n",
              "      fill: #174EA6;\n",
              "    }\n",
              "\n",
              "    .colab-df-buttons div {\n",
              "      margin-bottom: 4px;\n",
              "    }\n",
              "\n",
              "    [theme=dark] .colab-df-convert {\n",
              "      background-color: #3B4455;\n",
              "      fill: #D2E3FC;\n",
              "    }\n",
              "\n",
              "    [theme=dark] .colab-df-convert:hover {\n",
              "      background-color: #434B5C;\n",
              "      box-shadow: 0px 1px 3px 1px rgba(0, 0, 0, 0.15);\n",
              "      filter: drop-shadow(0px 1px 2px rgba(0, 0, 0, 0.3));\n",
              "      fill: #FFFFFF;\n",
              "    }\n",
              "  </style>\n",
              "\n",
              "    <script>\n",
              "      const buttonEl =\n",
              "        document.querySelector('#df-4c847145-a4a1-4b95-a259-9b286907fb92 button.colab-df-convert');\n",
              "      buttonEl.style.display =\n",
              "        google.colab.kernel.accessAllowed ? 'block' : 'none';\n",
              "\n",
              "      async function convertToInteractive(key) {\n",
              "        const element = document.querySelector('#df-4c847145-a4a1-4b95-a259-9b286907fb92');\n",
              "        const dataTable =\n",
              "          await google.colab.kernel.invokeFunction('convertToInteractive',\n",
              "                                                    [key], {});\n",
              "        if (!dataTable) return;\n",
              "\n",
              "        const docLinkHtml = 'Like what you see? Visit the ' +\n",
              "          '<a target=\"_blank\" href=https://colab.research.google.com/notebooks/data_table.ipynb>data table notebook</a>'\n",
              "          + ' to learn more about interactive tables.';\n",
              "        element.innerHTML = '';\n",
              "        dataTable['output_type'] = 'display_data';\n",
              "        await google.colab.output.renderOutput(dataTable, element);\n",
              "        const docLink = document.createElement('div');\n",
              "        docLink.innerHTML = docLinkHtml;\n",
              "        element.appendChild(docLink);\n",
              "      }\n",
              "    </script>\n",
              "  </div>\n",
              "\n",
              "\n",
              "<div id=\"df-5944e15e-5179-44d9-a2dc-dd317fe838ff\">\n",
              "  <button class=\"colab-df-quickchart\" onclick=\"quickchart('df-5944e15e-5179-44d9-a2dc-dd317fe838ff')\"\n",
              "            title=\"Suggest charts\"\n",
              "            style=\"display:none;\">\n",
              "\n",
              "<svg xmlns=\"http://www.w3.org/2000/svg\" height=\"24px\"viewBox=\"0 0 24 24\"\n",
              "     width=\"24px\">\n",
              "    <g>\n",
              "        <path d=\"M19 3H5c-1.1 0-2 .9-2 2v14c0 1.1.9 2 2 2h14c1.1 0 2-.9 2-2V5c0-1.1-.9-2-2-2zM9 17H7v-7h2v7zm4 0h-2V7h2v10zm4 0h-2v-4h2v4z\"/>\n",
              "    </g>\n",
              "</svg>\n",
              "  </button>\n",
              "\n",
              "<style>\n",
              "  .colab-df-quickchart {\n",
              "      --bg-color: #E8F0FE;\n",
              "      --fill-color: #1967D2;\n",
              "      --hover-bg-color: #E2EBFA;\n",
              "      --hover-fill-color: #174EA6;\n",
              "      --disabled-fill-color: #AAA;\n",
              "      --disabled-bg-color: #DDD;\n",
              "  }\n",
              "\n",
              "  [theme=dark] .colab-df-quickchart {\n",
              "      --bg-color: #3B4455;\n",
              "      --fill-color: #D2E3FC;\n",
              "      --hover-bg-color: #434B5C;\n",
              "      --hover-fill-color: #FFFFFF;\n",
              "      --disabled-bg-color: #3B4455;\n",
              "      --disabled-fill-color: #666;\n",
              "  }\n",
              "\n",
              "  .colab-df-quickchart {\n",
              "    background-color: var(--bg-color);\n",
              "    border: none;\n",
              "    border-radius: 50%;\n",
              "    cursor: pointer;\n",
              "    display: none;\n",
              "    fill: var(--fill-color);\n",
              "    height: 32px;\n",
              "    padding: 0;\n",
              "    width: 32px;\n",
              "  }\n",
              "\n",
              "  .colab-df-quickchart:hover {\n",
              "    background-color: var(--hover-bg-color);\n",
              "    box-shadow: 0 1px 2px rgba(60, 64, 67, 0.3), 0 1px 3px 1px rgba(60, 64, 67, 0.15);\n",
              "    fill: var(--button-hover-fill-color);\n",
              "  }\n",
              "\n",
              "  .colab-df-quickchart-complete:disabled,\n",
              "  .colab-df-quickchart-complete:disabled:hover {\n",
              "    background-color: var(--disabled-bg-color);\n",
              "    fill: var(--disabled-fill-color);\n",
              "    box-shadow: none;\n",
              "  }\n",
              "\n",
              "  .colab-df-spinner {\n",
              "    border: 2px solid var(--fill-color);\n",
              "    border-color: transparent;\n",
              "    border-bottom-color: var(--fill-color);\n",
              "    animation:\n",
              "      spin 1s steps(1) infinite;\n",
              "  }\n",
              "\n",
              "  @keyframes spin {\n",
              "    0% {\n",
              "      border-color: transparent;\n",
              "      border-bottom-color: var(--fill-color);\n",
              "      border-left-color: var(--fill-color);\n",
              "    }\n",
              "    20% {\n",
              "      border-color: transparent;\n",
              "      border-left-color: var(--fill-color);\n",
              "      border-top-color: var(--fill-color);\n",
              "    }\n",
              "    30% {\n",
              "      border-color: transparent;\n",
              "      border-left-color: var(--fill-color);\n",
              "      border-top-color: var(--fill-color);\n",
              "      border-right-color: var(--fill-color);\n",
              "    }\n",
              "    40% {\n",
              "      border-color: transparent;\n",
              "      border-right-color: var(--fill-color);\n",
              "      border-top-color: var(--fill-color);\n",
              "    }\n",
              "    60% {\n",
              "      border-color: transparent;\n",
              "      border-right-color: var(--fill-color);\n",
              "    }\n",
              "    80% {\n",
              "      border-color: transparent;\n",
              "      border-right-color: var(--fill-color);\n",
              "      border-bottom-color: var(--fill-color);\n",
              "    }\n",
              "    90% {\n",
              "      border-color: transparent;\n",
              "      border-bottom-color: var(--fill-color);\n",
              "    }\n",
              "  }\n",
              "</style>\n",
              "\n",
              "  <script>\n",
              "    async function quickchart(key) {\n",
              "      const quickchartButtonEl =\n",
              "        document.querySelector('#' + key + ' button');\n",
              "      quickchartButtonEl.disabled = true;  // To prevent multiple clicks.\n",
              "      quickchartButtonEl.classList.add('colab-df-spinner');\n",
              "      try {\n",
              "        const charts = await google.colab.kernel.invokeFunction(\n",
              "            'suggestCharts', [key], {});\n",
              "      } catch (error) {\n",
              "        console.error('Error during call to suggestCharts:', error);\n",
              "      }\n",
              "      quickchartButtonEl.classList.remove('colab-df-spinner');\n",
              "      quickchartButtonEl.classList.add('colab-df-quickchart-complete');\n",
              "    }\n",
              "    (() => {\n",
              "      let quickchartButtonEl =\n",
              "        document.querySelector('#df-5944e15e-5179-44d9-a2dc-dd317fe838ff button');\n",
              "      quickchartButtonEl.style.display =\n",
              "        google.colab.kernel.accessAllowed ? 'block' : 'none';\n",
              "    })();\n",
              "  </script>\n",
              "</div>\n",
              "\n",
              "    </div>\n",
              "  </div>\n"
            ],
            "application/vnd.google.colaboratory.intrinsic+json": {
              "type": "dataframe",
              "variable_name": "new_patients",
              "summary": "{\n  \"name\": \"new_patients\",\n  \"rows\": 10,\n  \"fields\": [\n    {\n      \"column\": \"Pregnancies\",\n      \"properties\": {\n        \"dtype\": \"number\",\n        \"std\": 2,\n        \"min\": 0,\n        \"max\": 7,\n        \"num_unique_values\": 6,\n        \"samples\": [\n          2,\n          0,\n          7\n        ],\n        \"semantic_type\": \"\",\n        \"description\": \"\"\n      }\n    },\n    {\n      \"column\": \"Glucose\",\n      \"properties\": {\n        \"dtype\": \"number\",\n        \"std\": 30,\n        \"min\": 91,\n        \"max\": 180,\n        \"num_unique_values\": 10,\n        \"samples\": [\n          103,\n          180,\n          158\n        ],\n        \"semantic_type\": \"\",\n        \"description\": \"\"\n      }\n    },\n    {\n      \"column\": \"BloodPressure\",\n      \"properties\": {\n        \"dtype\": \"number\",\n        \"std\": 6,\n        \"min\": 62,\n        \"max\": 82,\n        \"num_unique_values\": 9,\n        \"samples\": [\n          66,\n          78,\n          64\n        ],\n        \"semantic_type\": \"\",\n        \"description\": \"\"\n      }\n    },\n    {\n      \"column\": \"SkinThickness\",\n      \"properties\": {\n        \"dtype\": \"number\",\n        \"std\": 19,\n        \"min\": 0,\n        \"max\": 63,\n        \"num_unique_values\": 8,\n        \"samples\": [\n          63,\n          13,\n          0\n        ],\n        \"semantic_type\": \"\",\n        \"description\": \"\"\n      }\n    },\n    {\n      \"column\": \"Insulin\",\n      \"properties\": {\n        \"dtype\": \"number\",\n        \"std\": 138,\n        \"min\": 0,\n        \"max\": 387,\n        \"num_unique_values\": 7,\n        \"samples\": [\n          0,\n          14,\n          387\n        ],\n        \"semantic_type\": \"\",\n        \"description\": \"\"\n      }\n    },\n    {\n      \"column\": \"BMI\",\n      \"properties\": {\n        \"dtype\": \"number\",\n        \"std\": 11.027138240621534,\n        \"min\": 25.6,\n        \"max\": 59.4,\n        \"num_unique_values\": 9,\n        \"samples\": [\n          39.1,\n          59.4,\n          30.5\n        ],\n        \"semantic_type\": \"\",\n        \"description\": \"\"\n      }\n    },\n    {\n      \"column\": \"DiabetesPedigreeFunction\",\n      \"properties\": {\n        \"dtype\": \"number\",\n        \"std\": 0.7093145752532276,\n        \"min\": 0.167,\n        \"max\": 2.42,\n        \"num_unique_values\": 10,\n        \"samples\": [\n          0.344,\n          2.42,\n          0.295\n        ],\n        \"semantic_type\": \"\",\n        \"description\": \"\"\n      }\n    },\n    {\n      \"column\": \"Age\",\n      \"properties\": {\n        \"dtype\": \"number\",\n        \"std\": 3,\n        \"min\": 22,\n        \"max\": 32,\n        \"num_unique_values\": 7,\n        \"samples\": [\n          29,\n          25,\n          32\n        ],\n        \"semantic_type\": \"\",\n        \"description\": \"\"\n      }\n    }\n  ]\n}"
            }
          },
          "metadata": {},
          "execution_count": 16
        }
      ]
    },
    {
      "cell_type": "code",
      "source": [
        "new_patients.info()"
      ],
      "metadata": {
        "colab": {
          "base_uri": "https://localhost:8080/"
        },
        "id": "ojy1OdHyar46",
        "outputId": "2c4ccc5a-fc24-4e8f-d0ce-0e2d593af291"
      },
      "execution_count": 17,
      "outputs": [
        {
          "output_type": "stream",
          "name": "stdout",
          "text": [
            "<class 'pandas.core.frame.DataFrame'>\n",
            "RangeIndex: 10 entries, 0 to 9\n",
            "Data columns (total 8 columns):\n",
            " #   Column                    Non-Null Count  Dtype  \n",
            "---  ------                    --------------  -----  \n",
            " 0   Pregnancies               10 non-null     int64  \n",
            " 1   Glucose                   10 non-null     int64  \n",
            " 2   BloodPressure             10 non-null     int64  \n",
            " 3   SkinThickness             10 non-null     int64  \n",
            " 4   Insulin                   10 non-null     int64  \n",
            " 5   BMI                       9 non-null      float64\n",
            " 6   DiabetesPedigreeFunction  10 non-null     float64\n",
            " 7   Age                       10 non-null     int64  \n",
            "dtypes: float64(2), int64(6)\n",
            "memory usage: 768.0 bytes\n"
          ]
        }
      ]
    },
    {
      "cell_type": "markdown",
      "source": [
        "We prefer to fill the missing value with the **averaging strategy**."
      ],
      "metadata": {
        "id": "B9oOsxSka3Tg"
      }
    },
    {
      "cell_type": "code",
      "source": [
        "new_patients[\"BMI\"].fillna(new_patients[\"BMI\"].mean(), inplace=True)"
      ],
      "metadata": {
        "colab": {
          "base_uri": "https://localhost:8080/"
        },
        "id": "PqvZ0ZMXa2gS",
        "outputId": "69dcd4c0-966d-42a9-83d9-cb3e7dfaeb0c"
      },
      "execution_count": 18,
      "outputs": [
        {
          "output_type": "stream",
          "name": "stderr",
          "text": [
            "<ipython-input-18-f2df521158ab>:1: FutureWarning: A value is trying to be set on a copy of a DataFrame or Series through chained assignment using an inplace method.\n",
            "The behavior will change in pandas 3.0. This inplace method will never work because the intermediate object on which we are setting values always behaves as a copy.\n",
            "\n",
            "For example, when doing 'df[col].method(value, inplace=True)', try using 'df.method({col: value}, inplace=True)' or df[col] = df[col].method(value) instead, to perform the operation inplace on the original object.\n",
            "\n",
            "\n",
            "  new_patients[\"BMI\"].fillna(new_patients[\"BMI\"].mean(), inplace=True)\n"
          ]
        }
      ]
    },
    {
      "cell_type": "code",
      "source": [
        "X_scaled = diabetes_scaler.fit_transform(new_patients) # Rescaling data again."
      ],
      "metadata": {
        "id": "j8MX-TCXbC0e"
      },
      "execution_count": 19,
      "outputs": []
    },
    {
      "cell_type": "code",
      "source": [
        "diabetes_model.predict(X_scaled, verbose=0)"
      ],
      "metadata": {
        "colab": {
          "base_uri": "https://localhost:8080/"
        },
        "id": "ndXZDVWrbM7m",
        "outputId": "89423420-c7c4-43d8-b032-9930163a3c02"
      },
      "execution_count": 20,
      "outputs": [
        {
          "output_type": "execute_result",
          "data": {
            "text/plain": [
              "array([[0.2594727 ],\n",
              "       [0.961446  ],\n",
              "       [0.560199  ],\n",
              "       [0.03972007],\n",
              "       [0.0883154 ],\n",
              "       [0.26961944],\n",
              "       [0.23231852],\n",
              "       [0.67376393],\n",
              "       [0.2865101 ],\n",
              "       [0.04144972]], dtype=float32)"
            ]
          },
          "metadata": {},
          "execution_count": 20
        }
      ]
    },
    {
      "cell_type": "markdown",
      "source": [
        "# **Task 7: The Analysis Results of the Patients are Given Below. How Many of the Predictions Made for 10 Patients are Correct? Comment One by One.**"
      ],
      "metadata": {
        "id": "Deudg20_XGKU"
      }
    },
    {
      "cell_type": "markdown",
      "source": [
        "# **Task 7 Solution**"
      ],
      "metadata": {
        "id": "Ju507LmaXRzZ"
      }
    },
    {
      "cell_type": "markdown",
      "source": [
        "**Actual diabetes status of patients after the test:** [0, 1, 0, 0, 0, 0, 1, 1, 1, 0]"
      ],
      "metadata": {
        "id": "WdbrT52fbRd1"
      }
    },
    {
      "cell_type": "markdown",
      "source": [
        "**The results given by the model are the probability of the relevant class being one. In other words, in this problem, it is the probability of being a diabetic patient.**\n",
        "\n",
        "* Patient 1:  The model gave the probability of diabetes as 0.2594727. In other words, it predicted that it was not diabetes (0). In reality, it was 0.\n",
        "* Patient 2:  model 1, reality 1\n",
        "* Patient 3:  model 1, reality: 0\n",
        "* Patient 4:  model 0, reality: 0\n",
        "* Patient 5:  model 0, reality: 0\n",
        "* Patient 6:  model 0, reality: 0\n",
        "* Patient 7:  model 0, reality: 1\n",
        "* Patient 8:  model 1, reality: 1\n",
        "* Patient 9:  model 0, reality: 1\n",
        "* Patient 10: model 0, reality: 0\n",
        "\n",
        "This model correctly classified 7 out of 10 observation units."
      ],
      "metadata": {
        "id": "5hjRIObgbalU"
      }
    },
    {
      "cell_type": "markdown",
      "source": [
        "# **Exit to Live Systems**"
      ],
      "metadata": {
        "id": "9x8GuY5GdPbl"
      }
    },
    {
      "cell_type": "markdown",
      "source": [
        "## **Model Deployment**"
      ],
      "metadata": {
        "id": "Pk7AV66ddWv7"
      }
    },
    {
      "cell_type": "markdown",
      "source": [
        "![Model Deployment.png](data:image/png;base64,iVBORw0KGgoAAAANSUhEUgAAAq4AAAC7CAYAAACkexwHAAAAAXNSR0IArs4c6QAAAARnQU1BAACxjwv8YQUAAAAJcEhZcwAAEnQAABJ0Ad5mH3gAALDRSURBVHhe7J11XBXZ+8dpBANBBQQTu7tbULobxM51dXfVdY3dtdfutUkxsJO+hIqALWInJQjSHern95y5sCKy+7P2u4Lnj/dr7sycmrkjvufc55wjkZb3ChwOh8PhcDgcztcOF1cOh8PhcDgcTpWAiyuHw+FwOBwOp0rAxZXD4XA4HA6HUyXg4srhcDgcDofDqRJwceVwOBwOh8PhVAm4uHI4HA6Hw+FwqgRcXDkcDofD4XA4VQIurhwOh8PhcDicKgEXVw6Hw+FwOBxOlYCLK4fD4XA4HA6nSsDFlcPhcDgcDodTJeDiyuFwOBwOh8OpEnBx5XA4HA6Hw+FUCbi4cjgcDofD4XCqBFxcORwOh8PhcDhVgi8mrqFJRQh4XsDhfFFEzwsRk1Vc6TNXGak5JXicnFuOnPd49J+Qy/mqqOw7+mfY85RCz1dlz11lpL98gYwHF5F+P4zDeYeMz+EelfH4KtJyP/zvYlpmOrLiI4iwD+QCh1M5cRVIiKBn7MP/Ln4Jvpi4jruWC7NLHM6XxfpyLsJTPvwfRVJmIUS34xFwOwEB0Ynv4X+bw/kUkhB4Jwlx6YWVPneVkXk3BEXuFoQZh/NFKTg2g2Q0r9LnrjKyEq+iJMQcr4IM8CpYrxz6pZQ/xuF8OMUXHOklqqjS5+7f4ouJ65hreTCOzOVwvijmJK9hKR/esyCIa3Q8/KMT4H+LhKMCfiSvHM6nEHDnBeLSPlxcM+4EociNRMPVmMP5ohQc/e6jxDU76TpJqzExktAuZUTpPoN95nA+nuIL9lxcOZzycHHlfC1wceV8LXy+uA4XpOOtuJaXVy6ynA+HiyuHUwEurpz/niT40paLK+dr4cv3uFbG+5LC4VSEiyuHUwEurpz/niT43BaLa3xaQaXPXWVwceX8W3ysuLIY11chZeKqUwoTDy6pnM+DiyuHU4FPEdfA21xcOV+SzxFXCxIN03JULiIczsfw0eKaxMTVqFLx4HA+By6uHE4FPlZcE7m4cr44nyquweXElfW8sq2JIB4czufAxZXztcDFlcOpABdXzn/Lc6JUXG+nfJq4upC0upiTcDB55eLK+Xy4uHK+Fri4cjgV+FRx9ePiyvkivCuuHzc4q5y48h5Xzhck/xgXV87XARdXDqcCnxrj6nM7oYKAcDifRtkLz6fPKsDjWzlfCvGLT94niOvrUC6unC8PF1cOpwJcXDn/Ne+I60esnPVWXHkvK+dLIX6Wcrm4cr4SuLhyOBXg4sr5r+Hiyvl64OLK+brg4srhVICLK+e/hosr5+uBiyvn64KLK4dTAS6unP8aLq6crwcurpyvCy6uHE4FuLhy/mu4uHK+Hri4cr4uuLhyOBXg4sr5r+Hiyvl64OLK+brg4srhVICLK+e/hosr5+uBiyvn64KLK4dTAS6unP8aLq6crwcurpyvCy6uVZacUt49bhKZT9s8GJF8GZWeN2L7hHEE+0zQORP6/F7eCHY/iUvi/CaXcgSEMmi/LF35z9URLq5fDt/b4q2/wPO3lIpZRdhx8Tm2elQZZefFed89Vj3h4vq5GJVijGIXIxSXfn6XsnvEtoz/b5Wx98sodhFT2bnqg/iecHGtnNeiisd0UBI8AiVBI+lzGex4xf3yx/6/ffGxEpGO8JmVXRJcPt23BRfXKgWTUgaTySwSzHTapsHwUioMI9JhRtJpFl5MgloAA5IvAyaegqzmQf9SPn3OFz4bCp+ZqIqPlWEaWSBgdJnE9XI2SWsmTAmzS9kwoDqNwsUSa0hlV2d55eL6cQhSKggnE8t4BJJYBjBhvZMEHxIvv9tJdH+eQ0THywikPCxNQHRSOV6UQp/pXvrfiae84nvqe4s+EwFRcQiMiqW6qve95uL6cTA5ZfJYSPKZ52aMHHdT5LpaoJCkssRFHyWuBrQ1JIE1LM1TJqqluJgTFpTGhGB5xLB0rExxHnH5Ba6WAoUuDKqDleVmQJSVXd3g4loZTFjfBOkKvA7Sp2MGeBVMz0GIPoqC9VEcpCdQItITzr8OpnTlEOfVJ/T+Koftvw6m9CSlf6Vlx4TySVQDSdpEuiii/eJQQ7wSUbpSKmtjdYWLaxWCyaZYGrNgEpkBy4hk2IclYFpkEqZEvoRDWBYsLxaSvLL7kk1pSW5pK/SikswakfQKPa/CMSa1ee+IqxmlMYsohOnlfJhfTIdD6AuMC06ENUmxIYlyeXFlVGxfdYGL68dAgslk9VYcgm8SUc8QciuGiIXvnQR432XimgJ/kteAcrB9/9sv3uFdcSV5I9ll5fsxiSuV1rB7SQilskU3Yyq0o3rBxfVjMRSkMtfNEilujkg+9COSD85AuocNCtzpnLsB8mlb4EbySWLLEOdjwsuE04zyiyW0gM6Vke9mQpgS7LMZctxskek+Gmnu45DuPh5Zbk4kyZbIY3VQ2e+3qzrAxbVymFzqAYEkrCJz5AbbIzt0LPJDxqDonD2Kz5vhVSgJJ4lsmXyWp4TktoREVwwJLknqKzomnBfEleRY2DLoHAnwqwAmsPQyFWKKQhHlJ5Hl4vq/gYvrJ2DCRFOQ0WwS10xYhqdi5s10uGQV4nDBK+zPfoMtL17D/mImvruWg/GEaUQm5WWSKpZXJpusJ5aV8VZc82BKomvKwgQu5RMFJK65GH8jG255gA/d5zmP8ylNOokr5SX5NbyUw3tcy/EtiyuTVv/oWARFx+B+Ui5iskoQm/0KT7Ne4fzTFPjdfY7QBy+F3tjyP/+zXlpfklc/EtYymLyynlihx5alKRVXljYyJgMPSOBisksQl1OCm3GpCIyqvvLKxfXjKHQxQi7JZ+7hiXh10wWvHxzBmwfueH19DbL22yDngAMKT0xCNt2bAhLRPEFImZwaEUxoSVgpv3Dc3ZhElPhLXM2FPPkkxW+CFuLNvT0ouX8Qr56cRMm1bcg96ETpmRBzcS1PdRdXIRxA6BE1IpGaiJK4rXid5g682EPP3m8oOm+D4nBHvAqfQOJpSnJJ4in85M+2BigONkRxiK4gra+CDElaafsXOngTMkRMsLYgr0yAi/zN8ObuIry+MQ1FIhJm1tvLxfV/AhfXT0AsrlkkjUxGM+B4MRWHM4qx4WYKpgXFYer5RMy4lIbpl9LhGZePTU/zSWIzYB7BembT4EDnJl/LgHVEKkzps83FdDhR2lHnUzE6OAWO51JhfjUTBlezYHwlF3ZXMjE9NAFnUvOxMqEQVlSfcUROqbhW7/vOxfXDEYcGxODy0yQk579CxJ1YnIt6hitPXkJ0+xnO349DYiEQIsitmODbcQimfEF0v8pCB4JuJ9K5BITS8dDoONqPRQDdU3+hx5WOPUzGuftJCLoZi4t34vE8v4TSMXF9Tvc9Ubj3voLoVt7OqgYX14+jwMWApNQKxZc3IS/qKF54zkTGgcnIPTkDafudkBX0B0oeHcLLQ98hw30U0pytkb3XEXleE5C71wHZu82Q42GHzANOSHOzRfr+Ucj0Gkdp7ZDjaoNCV3NxWMDhSXjpPhEvDv+K189DURi2Adnu1oIAV9au6gEX179FiGU1xusnm/DquRcyQqcgP2gSiq/NRl6AA17dX4bXj7eiJGwsigP0UBxqjpILdiS1jsgPtUMu7eeGWiM/2An5IY4oCHFAQTDb0vMWOhJFocNLxVWXRNUYJTfn403KPhRecCLxNUGJiPe4/q/g4voJvO1xZT//Z8A+PA0Hs4rhnJyP7yKTMSr0BcZceImfo3NxMTMffnRu7bN8OIWlYs+LAhxPLcDR5CLsTS3C1PAELH+SjcDCVzhM+4dTCnE0pxizo9JJ2jJgfDkHRpezMDoiCZ7pBVgbnwfrsBRBXI0iCmjLxbU8XFxjEPnkOTJfvcaNx0k4H/WUxDSGeIo7z9PwsgB4nJKDyHsxuPn0BZ6lFeBRSi6e0vbmsxRK/xgxmSVIyC7Bs5eFeE7P7v0XmSS+sUL5vreeCzGu/iy+lcQ17F4sYnMLEXTrKbUhQbjvPnT/ubh+wz2urobIcqH/7MPXoujhIaQe/QFpe8cgzd0R2Ue/R/GDk3j1kkTz8i68PDAVeSGr8ebBUby644lXdz2R57MAmZ4T8OohHXt4HCW3PPHm/lEUXt1DQjwK+W4sjID11Fri5d7RKIhyQd7NQ0jx/B7ZHlQvi3GttgO0uLhWzkghLrUkyBRF91ehKOUwciJ+IgmlFyKRJQovzgBeHAXSLqDk4RYUBo9D8d1leBPvglfxbihJdkPu1dmUZxZeJx/F6xeH8SbpAJB8GCWUriCE/h2HMNnVRlEwfQ8RM/Em2RU5l+ai6MJYlJDcvmI9vlxc/ydwcf0ExIOp3sa4mkekYcr1NBzKLoJvwWscTi7B/MvJmHw+FgdjMrAqOhNO51Kx5G4ufNJfYUVkIn6NSIBnfC52P8zC1kfZ8MvNw7QLzzDmfDyW33uJk1mvYBuRSNKaA/0r2bALT4YHievqhFxYXUwmac0WYmVZaAFrS2XtrA5wcf0YniOApDLodhxuxqfjee4rJGQV4W5iOs7fiUHY3Tgk5Zbgwu0YhN54SOeKcfVRAsJJPq89SUJCTgnCbj2i7SvciktD8M0EBEXH4WlGHiKfvRTK92ESF/WcpDUe5+4kICanCFHPM+F344kgtn5Utx/bUtrK21j14OL6/yPEqgrXaUjXbIwcFxPke41HybUdeJ1wmgT0GHLPrULK/ilID1qP13f3I9l9DF4e+Q5vEgOQFLAJsUdIWM874/X900g+MB1vEs4j3W81Uj1HC/uv4s6g4PRMElYLFJQOzMo+MAFFT71INs6hIPJPpO+1o3aUDRCrvK1VGy6ulcFkURhQJaJ7c2ECChN24U3aMZS88ED21V+RFzoNhdd+Re4jT2QFT8bL8zNQnOSOjKvrkXaRzt91BhJ2IjV8Ad7knEbW1YXICbHHy3NT6CXLA5mXZ6M4xAAFoXr0HI9GSYIbcqLXIjf8RxLiIyhi6YLY/eXi+r+Ai+snwgZQsZ/qWXyqeXgmbC6+xOiwJHxPsrn+XhoCCt/gx8uJ8IjLIWHNgcP5DNrmIzT3DVxTgD3pgGcqsP1hPjY/zodPahblj4XppRRMjiQxyAHsw15Q+XnCjASOYck4kFaAVQl5sCSJNYpgvb1sIBcX1/J82+IqlixG4K0EhNxORMS9BCRkFOBJcjaJazySSErP3YolYpCYDzxMzScKcS85F/dT8nCR5DaWnr1Lj1NITlnoQDzupebgTnIO/FhsbKm0nr/7HLF0r2/GpSMoKg6+15+SuJK0cnH9i29WXAk2iCrbzRpprg54eXAS0n2XAfHeyAr8A+kiEtd7Hkj2oHNHp9F//KF4c9MZJde34dUNF7y+shNph6biTWwQbX9CFslo8oHJKHp2AiUBC0lcrZHnzsTVDDnu1kg+OBGpZxbjTdxJJHtOQK6b1Tttq15wcf07INIFWAhAkAmyQ+2Rd2Eysm/8jDeZZ1B0dRGKry1A1v0/kX3OGtmRs4H0I3j1ZDuKY//Am+cbgMcrkB42H2+yjiMnciaKgk2QEzyKXqB2ISfiZxSG0HMdakovYWuAbD+8Sj2D12k+QP41lCRTHVe+QwHJbbEQO/vtyCsX1yoDu1bxdFisx9OGxHXuvVx8fz0FUy/GYBn95y4qeoNZV5Kx82k2/kwowIzr2Zh7MwtnMl9hw410LIlIxur72Zh64TnWxxbgckE+VkUnYfa1FLilFMCZ8thdyBDqYHPAOl5IxYHUAqx4XgiL8JeCuBpSO/g8ru/CxTUR5+4n4/LTdJy/9wJhdxLw+EUOHiZl4/ytOOGn/ysPk0hcn+JpegGiE9IQeT8OV54k4npMMkJvPUJc7is8SsvHxQfJiHySjNisQiqTZDgqHiIqI+R2LOKzC/EkLRcRj5IQdv+FcDyASasAu/dcXL8pcaVrZIOq2BRXxSSxuS7mKPb9GTne80kspyH5xAK8ivVGuv8yZAQsw5vHR5B++hckH5mJkmenkRm+Gy+8FyEraC3yzi5AqudEEt2LKLzijtwzC5AdtAavnvmhkCS1gO5pnps5SnxmIfv4T0j0+gEvff/A6yeHkXn4exJXa2pTdb3nXFwrRwfCyH+RAV5fn4ncK78g68IMZEb8hDcZvii4sRxF1xYiP3YvsiNmIyN0Kl4nuSM/ejsywn9H/q1VyLs4CWkXfwRy/FB0fwcKw39B4XV6rhL2IC+MXpyCjQhTFEVMR97l2ci5PA+5l1fgdeZV5N9YiaKLo1BMbWBtqbyN1RMurlWKsnlc82AdmYk1ScU49Qbwe00vfUXA2sf5GH0hBTMiUrEv7zUO5AH2F15i7u1MHMsB/IuBbSlFGHM+Dhsf5yEyMx8BmQUIpjK2v8jH+AvJsLzIprwST5tlezETO14W4fekQphEppK4soFhlbWresHF9eMJuZ+EZ1mv8bLwDciziDcIu5sE0Y1nuBWbgcS8NySsmQi68RhPM4uRUvwGz+i+Xbj9hIT2oTBTwP2UbCRSvtic17gRnyme75XENYgE9VZCOtLpxex5bolQRwKVd5EE15/Fwd6Jpy0XV8a32OMqzM/qYox8Nher7xzg2REgwRt47oeCqzvx8sBkZHlNw5toF+DhAaQfm4nUg9/hzV1PICUAr+95IvfUT0h2G095Q1EQ6QE89cGbJ6eRfWI+ClypXDcDFO6zxevINUL5r5N8gYwgvIpYI0yRxabKqqyN1QMurpVREqyDolAdFIQYoTh6Ad68PIBXGV6gNxm8ebYFOaGjkXduHF7Hu+BN0k5kXxiP7DB67pIP4E3KQbyJdaPzo5ARRqKbeY5ekg4CLw8LcbGFl+cgX4hhJSkWpsrSR1GILtVljIIgB3o296AgdCJeBZI8B2kLfEvyysW1iiCOcRWLqwFb2SpSHOc66lIGxl7OhFNEFolmFqxoaxmWCQvamkfmCFvTiHRYRmTAmtJZCDMKvMTqp0U4lVqA8ecTYXMpE7ZXM4XwAzYAi4UisJ5VNh+sQ3g2rNgiB5EZQo9rWawtDxV4CxdXEi02bVVUHM6x6a+IgFtskQASSpJOYfYAOudPEup3K0E4J7r1FEHRzwg2iCsGT3Pe4MKjJATejYPfHTYVFpsa6wXlofJZntvP4cvKiI6ne52AQErjGx0nzBXryz4TXFy/3cFZwiICznTNHlYodLdFwcHxyNs/Dvmejihwt0GhMx1nvaKe9sjzsEQe3R/203/ufitk77NGzj4rZFBaPD2DtENT6Lgjcg/YIMfTWpgOi0kymz4rx8MMhQfsqfwxlG+0eEYBNuMAq7/a3nMurpXBxLUkhDFC6BllMwEUhduiKIxecEgwS0L0UXjOiITTHMXnLPFaZIaSIBNKR/fznA2KQ+3onAFyL0wm2T2OgogpKDpPaYOsqHxTYeDVq5DhBNVFCPtCTKsJXrHBXwEGeMOklc0swMX1X4eL62ciHqAlnou14rm/F8qy+VzFfPekEH8kFMOWJFeY71WYZuttmeKFCt7mL6uvuksrg4vrpyAe+V/xmLCAwDvHymDH33IztRghj9hgrLfp/W8lCVs2q8DbfG8RZhugLbvvvtVIWn2jk7i4fgLFzmxp17IlWMWULTRQfmnWYrYIgbCKVukiA+6GJLNGyPUwx6vLq5F1gMSX9ea6GQgLC7DYWfFiBKW9vKWU1SGmbHWt6kPF+5h7/FPElc01Wrl8VB/+XhjZXK9ln98ZQCVi878akOAOR8k5O3ph+gOvzo16e14ok8loeUrz/bXEbPmYVh4q8G/DxfU/4V1xZVNrWYdnwTI8E5YkpSaRmQQbfPW+DH9rcHHl/Jdwcf3fwmYEYGImDO7ytEKuO1ukgC0oQELrLhZW8WIFb6X1fXGtfnBx/TcRzwTwOpjFyRqSxFqSxJoKxytPzykPF9dvhnfFtQzLK7kwjcgWYDJbed5vCy6unP8SLq7/W8oLWjGbi1WQ1reCWtbbysWVi+uX5LVAaU9qCN2ngG+r1/Rz4OL6zfCusLKf/g0uiz+XSas4HKCyvN8WXFw5/yVcXP8r2Dys4qm12H6ZoHJxFV8vF9d/g1Jx5XwUXFy/GcSDrspg010ZCqJa1tPKVuVi8lpZ3m8LLq6c/xIurv8V4vAA9pnFv7Iti3Mtk9fy0sp4N2/1g4sr52uFi+s3jVhaubi+CxdXzn8JF9f/jveF9G3v67vHqz9cXDlfK1xcv2Gq++wAnwoXV85/CRdXztcAF1fO1woX128cI0ZpLysXWTFcXDn/JVxcOV8DXFw5XytcXL9x2JywZVR2/luEiyvnv4SLK+drgIsr52uFi+s3DhfX9+Hiyvkv4eLK+Rrg4sr5WuHiyuFUgIsr57+Eiyvna4CLK+drhYsrh1MBLq6c/xIurpyvAS6unK8VLq4cTgW4uHL+S7i4cr4GuLhyvla4uHI4FeDiyvkv4eLK+Rrg4sr5WuHi+s3C7p34/hn99ZnfTwYXV85/CRfX/xVsidd394sZLuLtu+e+Pbi4/i8ZiRKRDjFC2FaehlMGF9dvCDZPq0mEWFANI/MFjMpt34qreCWtt7xfVnWGiyvnv4SL679PoZt4edd8NxPkuZkj151hikIS1lcuhigheRXfQ9N38n1LcHH9dykhioN1CNoP1qVjBnSMnj8BPfqsi2ISWuF8hbzfOlxcvwHKhNU0PJ+2TFDzYXCpQExkIYwjCoXjYqnNIbi4cnH9svjfTqr0eMDtRIjuPP/b898iXFz/fYpJXIvdScb2WiFhjw2iN1ogbqcjMlwdUeBqQdLG7iGTVi6uDC6u/wbD8TpkKApDRiA/xAw5wfZI8bNDRhA9gyG2KAo2QFFQqdhWmv/bhYtrtSRP+PnfjITVPCKbtpmwvpCGUUGJcAqMhaPoKeyCHsM2OAa255JgdzEVlhczYHExC2bhJLkkq0aR9PlKmcRWVkf1hYvrl6dMTP2jn5OsxiMgOh7Hw6Lw49J1+HnlJpy6GAURO04iWzHvtwYX138fFgqQ52GCa+sMYdpNBc1UFDComRJOzDVGhvsoSmNOcHEt+8zF9Uujg9cEgnWR6mMOnw1DMVWnHgzbS8C8swQWO7TA7f1myBYZooSL63twca1mGEXkwCQsDTbhKRgVlgCLE5fQZ6U7lK1nQKK3MSQ6DoFEh0GQ6NwfEn1GoKaRE5rMWIwBfx7BqOCHsD6XSBKbC7MLxCXWO1t5PdUZLq5fFiatYnFNICGLQcD1B9h24ATa9BwACcU6kJBVRNs+g7H72FkERD375ntfubj+b8jYZwanASqQb94RfedtgVKPARjRth7iXMagwI2LKxfXf4/XQSMFaS0JcYDzTx3QUlYSY7W1cHDDeGz/1QY9Gyujq5o8ru8dKYQUVFbGtwwX1yoP3YMI2jJhjcyBRXg6TLzvo8u8zWgwwBJSjXtAqfMQaBmPQtfvFtAf6DXov2AT+s/fhD4zl6Od7TSoDjSCjFZ3yLfsAQ3jcRiw2gs2/vGwCcuCeXi2uPzS+ozeqbt6wsX1y8Nk1DcqDu4+56BvPxZ1G2mh+6DhWO+yD+v27EO3oSNRV6M5LMdPh5foCvyj4infc/jefi5sWU8tg5XlW817Zbm4fgpGQnyqGENhv/J0b3npagHTLrVQa4ABuv0Zhno209G5SV083j3qg8S12M2UMBGkrrLzVR0urv8er4niED08OGSJEVoK2DxnGPYtGY5JQzpism47uC8zhEWv+phs1gQ5IstKy/iW4eJapWHXnw/T8FxYXkjHqLAX0N5yDLW760GhcW80cZyJkZ7BsD33HHYRabAKS4ZdWCrsz2fB4XwOHC5kwyEsDWPOJ8Lx1C30W+EJ1WF2kNPsBJW+FjBxPw/zsESYXMr6q062NKxpOZGtjnBx/fJ4X3uCpVs9oNaqM9S02mHWotUIuvEYgTeeIPDmE/hdeYCxcxZDWa0VGrXuhqVb3OB99QF8omNJeuMQeCseAbfY/U2g+1y95ZWL68fAJLUUF0PkuRghz80QhS4GJFtl8vr+vWDCme9hiT0T+qJeHSUotB2IGsoqmGXQEi89HEh+y9IyMSVIYMtgMiuWVirHnepwp/qozop1VCfY9eUe4+L6pXgdzAZdGcLl574w6lgLUSenomfjmpikrQEzElaT7so48+codFKXwdNDlDZITzxQq5TKyvyW4OJaDbAIz4RdSDy6zdsAmUYd0MxyIsy9QmBzPh4m4RkwjMiBQUQeDC8XwCSykI7lwIgdv5gFIxYWEJYHG9raXSSZDYqH6W4/qAw0h3Tjruj+61Y6lwRzOmdIdbGBXkIcbDWWVy6unweTLe+b8X+FCHh4n8cgfUvI1VSFroUjDvqcRxALCYh6Cn+SVmFL+F5/DNcz5zDY0AqK9TUx2NgGeymviIUXRD8leY2Df6m4MiqruzrAxfVDYWIqltYSut4SF3Nk77FElrMV8p1NUfBXbym7FxXvhxHlMUey61isHauD+tJSmGHQDY92OqLAndK6GVAasYxWFFdGHh3PIUnOpTSsl7e6T5/FxfXLwsQ1L9QUC+ybY8JwNQTtcURXdTmc2zcdBzaMwSAtSZzbOwWd1eXxYJ8+ioLoGSsnr2z6rPepvK7qCBfXKo5JRAZswpLQY8EmyDTpiK6zVsI++AH0SDYNSGiNSVJZOtNL+bANK4JtYBoGbfVD7z88YHzgCkyCn8P0QhoJbDZBacNyYBGaCpvTd9Fy/M+QatUVPRdsg8OFVJiGiQdqVWdpZXBx/XyYsB4KvYGpPy9GgyZt0LpzX/y2did8Lt1BQBSJaFQsAm49ewd/xp1Y+N14iLkrt6B5u95opNUFcxavw9mIWwi880w8A0HUc/jeIiqptzrAxfVDEYsrk6o8N2vcW28O9+/6w2P6EDzc5IgsVxs6L5bWij/nM9EsdDNFroc1zq91RCtZKRyca4x0d2sUsB5bEldWrjBtFstfQVxjt1ni6I+DsP+7fri22ggZVD8T2PJ1VCe4uH4ebGor8fRX2rTVQVHISKSH2mPbXF2MaKOIq15TYNhFBdrtFdG/uRymGjaF1yortG0gjfv7rCmPKUoC9PFKpIuiYFYeF1curlUUNhDLPJyk0zUIEs07odeCrbA+9xzGF9OgE5YK/cgMmFzOhElkJsxIxsxDktFu2mpIKHeAhGZ31OlqBIvT0bCITIPhpWwYUjpDNgtBWD5JaiqcLjxH+2mLIKnRFUY7/GAdliaIcHWPc+Xi+ukIvay03Xn4LMlqb8go1sfYGfPhE3kPfteekKDG0vk4+NHW5/ojnLp0F743HkN0m4T15mME3Y+H393ndD+TcPbiXVjbT4ViHQ207zkIe475UroYktYYys/uN5O8yttRleHi+qGIxTXP3RB3t1mhV0MpyNatB6k6taCtpYjH2x1JJuleCAL6bl4mpAXupnTOEmFrrNCaxPXIz7rIcTET0v4lrpVIK2NMTxXIyNWARM36aFlXFueXGyOH5LV8HdUJLq6fBxPN4uBhKAwZhvxgY+SJ7HDrgAOGt6sBZWkJ/DahBy4fmonN9Axu+d0I5/aPQ/cWMlCSkoRhJ3lc2j4C+X62KAgyQ3EQCex70lpeXLXLUT0XM+DiWsUx8XmK2t100dRuOhwuJMHkfDqML6TDMjwddiSwjiSb9hdSYRaeBDOvCMh1GIjeC/eg964QKPQxRCOnn2ATFAOL82kwu/gSlheTYU75zC5mwoLk1S7oGdo5zYFcm8EwOhgOk/AsQV55qMBbvm1xLRs0Jd7uD4iEudNU1KrfGL2HGWGz52n433hG94edT8CJS/cx0GYCWgwwhko/XSi36Ykth31x+vI9mE6ZA8sZC7HByw9nr8ciMPoF/K/FYvWuQ+g8aATqNWsNq/Hf44joiiDAfreevxMywKT53bZVTbi4fgxGwsIBrt/3Ro36yugw50+0/GkT5Gor4+is4ShwNSfp0iMq9oayn/dZj6sZzq0zRzsZSRz/eTjyhfTlxZVEltIJvbb0ucDNFPdW6kKzdk1oTF6MLsuOQFqtKRY79EK2KxfX8nxb4vpPgsjOaaMwWBf5IRZ4fMwMC53aooemPMZoN8fyKQPQUVUOtn1bY+GY3pg1qjv6tFWGYZ8GOLxKG9NN26KzqjS+12uOay66yA20QrFIj8ocKcxOIEiriGQ20IgwFj4XB9MxYRotLq5fCi6uXwiziBz0W7kfUppdoLfvIkwjMmEalgWb86nQ234SjfVGQW2QNYb8ugc2p69jwJzVqN3XFP3PxKOpVzw0vl8F+U4DMOrgBQzfeQotbWZCbbAFOk36HTY+j4SeWvMr+bA4eR+KWr3RevJC2Fxi4QfZQm9vZW2qDnBx/UBIHP2i2dyrcfC5+gC/bdgN9ebtod60LX5YtB6nLz1E0J1kHA+7hxmLN2DG8s04ee4WehnYQ3XkWLTadg5Sbfqjh4EjSesvqNVxJFSsf4SUWicYjf8B3kxebyeTvMXhzPW7mDx/CepqNkeTtt2wersnzoTfhYjJ6/U4iKgeJq4+JH1M/CptbxWBi+uHw4Q0380KXjMHQl5BAR1/WIOOP66FnEJd7J3LelVtKZ0BCSwT17f3hMlpCdu6GyF8jRm6yUrixKyByHGzpPJMxdLKBNbVQhDXEmFBAjNku1vgwrKRUK5ZE63H/Ipev3lBRqUxlnBxfY9vQVxfi0bgTZAuSeJIlITqI09kgQxvI2Sc1kM+SWRhENvS8xdsgZfeVji6fAiGtKyNIU1rY+/CXkgNHIXckPG47WKEWabN0KKOLLo1qoUN09sg6ZQJcoMskCayQdD24bDqqYzOKrL43akTbh/QR36QJdVridSzDji/0xx7l4zA0T+G4N4xPSF+tihYX4ilrazdVR0urlWSPJLKXFiHJENT3wEtbH6CdWgyjCOyYHYxC6anH6JG8+5oajQGzcavgEx7HSh1HAyF1h1Q32QWGpO01tr3FOrLTkBKtQsadNeBdMMuUNQZh6ZTNkJaows6T18lTIVlFJENywup6D53PRS76MDa9zFMSeyMhFW2Kmtb1YeL64fDFhJwORWAnkN1UaOOGowdJsHT56IgXv5MKq88Rl9DOyh2N4I8PWeqPQZDvqcRakz5E433P0SjtT5oMs8NijN3ov7vh9BixXFI1+uAyQv+QEBUHMkrCwuIIZmLgU9ULHafCcUgCwfUUNFE/6FGcD7kD9H1ZxBFiSWP9cB6k8BWZXnl4vrhCL2hLpZ4ts0atn3VoKhcGzWU6kBRUgqzTLoh2dkJ+e7mKHAR/8QvTG/lYk5yai7EuRa76+P+VnP80LUGrq8cjmwPS+QJS7+WDsxiCxFQ+cVErpsFkj3s8IdtJ9STloR0nVqQr1cPfZoq4No689LyK29nVYeLa+WwVa2Kg/VIMM1w55AVvjPUxIjWStBuVROTRjRE6B5dpATb4jK9+Izur4p+6jJYO7Ydnh6zRd45eg5D9VDAekuDTEhiJ8BxRCv8Or490kXjUcziWUVDSH5HoCDUDIlnLHBm1RCY91BE3yYyWDiqFU5ttIVlDxV0aiCN4e1k0F9TAr3V5LFtVhuk+RlV28ULuLhWQViMKesNNToaBbkm3WDkEgoztk+SaUKyqeMcAqkGLTB46wm0PxGPxlsvoIb2FEgoNYWS7a9ouD8RGh5xaLBFBCm17pBvNQgtfj+Mzvtj0dLjHmS6j0Bz+59gQYJsyCT5UgZGnb0L+Y7DMXStF8xJjitrV3WBi+vfc7Z0tgC2+pVX6A2Mn/0blDSaoUPvQVi21Q2nL90Xpqryvp0M/xtx2HbwLOppdUQjk++gteIQVH5zQceNZ6A51w1ydksgYfgjZM3moM6ENWi29BCabPCHnPZYdDB2grbjD2jaxxDLXI5RneLQgMA7iThz9TEWbHZDmx4D0UCzNab9uAhHAq8giPX+3ouDz53YKi2vXFw/FHaNTBZNkEsS+tzNDmcX6uDo7/TMTBiEHirS+MOqA57udkC2q4Ugq2w51wIS0Dx32npQPhLVZHcHJLk4INXDFhkeVnSO3T8qn81j6mJBmCGP7mmSswO2je2JDspSWGjcAcd+NcLx+cNxf5sNnbeo1jMLcHGtnNeCtBogYKsO+mpKwXZAUyyeMhCLZwyA1XBNdG0ojUnGzdCvsRRGD2qI85tHIkdkjXzKVxyog9f+Onjjx7YjkR0yChP0W5CQaiIn2AYlohHEcGEwl9CjG0wiG2qMpFNW2P5zHwxooYRGClIw7t0Y+9eOwpE/J+HktqlYMW0I2teVwbElQwX5razdVR0urlUQo8gckslU9Nl0FLW1+sDi9D2ht5VNeWUcTrJ5JBpyat2gMWMzah1ORo1jOVB3uw8Z45lQGrsSDRafhpTpbKhvDYFEd3toLD4OVc84KHulobH7TUi1HYiWM1bC7HIxiWsBDMMzYX/+ORqbTkYT4wmwPJ/KQwXK8a2Iq09Ugpirj7DB7Qg02/WAvJI6xv/4G7wj70JE4uhDnGVxp7eSEXST0l66h52nfCHfuhsUlx2DpuctSGk7oFEPbfy0chv2nA7F9qMBGPfLCig26Yi69svR/WA0ao5fh7bTlqCD/Q9o108fJyJvCIO6ygi8kwDfq88w+qffIFFDGU2ad8I2j2PUhifwv/NYkFcWNlAVp83i4vrxsMny893E5O01xgsPa2x26oTmNSSw3rYX0twdkeNmSlJqi5fONkj3sMOTbaY4M6cntoxqhg32TbHerjlOzxmA6I3meLl3FDLc7ZHrZi2IbMZec2wb3QlaMhJYadMVqW6OyHVny8bqI9/dkOpncHEtT3UXV/Yz/OtAPaQF2cOqXz046WnB708nOPSSg3lPORzeqot5Y3tBQ14Szr+MRJpoPApDTVEcoIc3JKzw08PrAConcBjgPxwFAVaYZtkKs61UkBlgiyImnYFUh78hSgL1hd7TNyGsbpLfIDO4zuuPQS1r4Jr7ZKq/ATRlJNFYVhJuy7SxdEwbGHWri1yR0Xvtrg5wca2CiMU1BS3mb0K97iNgF/gMJiStBpfySChz4Rj6Au0cfoJMJyM0+vMG6h/JRu1FIqhvDIHGSn8oGP4IiRa9oDLHHRp/hqDm72dR1+U+VA8/Qp1xKyHTYhD6bfUmYS0gGS6AKdVpE5GODt8vQ622g2Dm96zSdlUXuLj+DVGxcD0VAm2LUVCo3xTDTB2x/aAPAm/EIpDFu94iUSWp9BZWu0rErxv3Qq1DPzTuPxxyfXSg4R6FWhNWQ2uQMTyDo4W41OA7iRCRXAbcjIHz6XNoPsAYyr/uR3P3aNSzWQilrtpo1m0gDoVEkKyKZyQQk4BAxs147Djsj0GG1lBq0BT6lmPgdkJE558I8upbutpWVYKL64dTTJSQtDJxZTGpBW4kk676yCKpTNhjiy0kDr3ryuDg5A7IdiUhJWk9PXsoJvZqhIHqitBvUQ+j+zTH5CFtMX5gWxh3qo9+6jVg10UdHlP7ImaPNZVljYB5Q9BTSQp/mHelctkCBSYkySy+loUTsBhYEhKX6nvPubj+DSJj3PKyxaDGkvB2noKR7VXhMKIF7HW7YFj7mgg+NBPdmijj1KqhyAq2QAHraRXpCEJaEqhb2qs6jMoahJwQfcy0aYMfzJRIXK1QHDQMr9m5AJbWgCgdkBWsjeJzppht2RITRzTDiZWm6N+8Fs5us8Qki46wHaSJkF2m6NFICi+9Hd5tbzWBi2tVhMTKLOIFGk1bCvW+RhgVEg9DEkwDOm4ekQyLM3dguus4arfvBNnepmi6NQI1h06CRKOekG7SCwpNe6KWVh/IaXSEXJs+kGo5Ak3+OAvVmTsgqdYGDU0mQ3fvJVgFv4DJxUwB84hM9FuyA4pNe8HsxP3K21VN4OJaOc4krUpqTVFbWQO/rt4Bv6tPBGH1vZkA36iyEf5xwn1g8a3fL94A2bZ90Gbedqj/cRgqB+6hpsVcWE6cg6BbSRDdY2JGaUle2fRY/tGxmDpvKSSsf0YrtyhI9BoNp1krcTAwnCT1GbyjHgvxrmwqLF+2khYTPBLXEGqb7+U7mP3bCsjJq6BJm544GnYNvneeUXu4uH4riGcDIHl1NUS2mz5hiZeeDgic1xdX1ujiibM9ftbTQufaspip0xDnl49EktsYJHuMQwqR7m6Pl+5jcHmNNZaatkIfFUWMGdQMUVsscH+nPoJ+6Y8M99HCtFdldTFY3UyeK7anOsHF9W8QmSBoqyGGN5VF2MGf0KW+PJzXG+K461T0aySN817TMbSNJtzmtkVeKD03IXooJPksChpeKq0j8DpkGLJ9+yM3xBxzHLpgtJ4CsgOdUBJKz1XpjAGvhRkDDAES5eIAHeQxcR3VHo5Dm+DgWkN0p7qOrLWBk3572A/WgGizBfq2kESyt0nl7a7icHGtgphE5sDifAIaj1+Ihn2M4BCaAJNLRbASJaLn4h2o3WUEpFp0g3TTLpBuPhyqP+5C6xmrIaXSAS2c5mL2yQjsvvgAiz39odp6AKS6j0TXbecg28cR8o16kOD2hlzzfmhkMAaW+y/A4mIGDC9nYciavVBQ7wyTg1FCGyprW3WAi+v7sLhVr3PXYGhti5p16mKgthFcj/nD+9pjoffTl/AmCfW5HUfpSUaJVbv204tQC0i1HwrpzvrQ2HEJKt/vQb1OA+F8NhxnbsbA+2asIKG+t+JwPPIBuhhYQO6nXdDwfAJ5q8Wo1dEAzbsNwc6TQVQHlR1F9zhK3Cb/Wy8QQJ9FUXHYfdQb3fprQ66uKmwn/UAy/ZDaHEvpuLh+axSwFa1Yz6u7KdJcLYSwgIc77GHXuT5MOyhDtNwMybvtUeBsIayeVeBC7DHFq916KHY2Rg6Le3Wzx7W1drDrqALj1sqI3myGLE9bOmciLFAgnkO28vqrI1xcK+c1yeS9ozYYoCGJs7snw2FwY3RXr4HuDWvDcVADXPCagPZqdXBg2TCkhziSvBqiIJgtQDCIBHYYCgP0URRgiDR/JwRvsoJh36bo2Uoenov0EL3fCtkh9JwGWZLAksSK9Ehm6XsQGSHebyymWHVCF01ZeLtMxAzLRuiuKo1hreRwcrU5Jhk2gN2whkj3oee6knZXdbi4VkFMSRqtwxPR5LvfSVxNMCYoAdYXctBl/m7It+yL5k6/oftaf2htDoDWej90WnUctbUtID/EBr+HP8H9V2+Q+eYNMojTwRGopdUDLeftQsv1p6C17QK01orQYOZWyPU0Qu1+pjD1i4fR5Rxob/CCtGp76O6/DhMe4/oX30qPa8Cd5/C9dhe/bdoDrZ4jUKdJezj9tBD7ROF0nv00T+J6J54+JyCAyevVhzjoHQaXY0Fo1tsAMuNXo9nuu5B3+B1NhtvC/peVWOR6DMs9T+PHDe7orD8GciOnounOq2iw1BtqE5ah69SFqNO8MzwCwkmGSUKZtEaR2JHcsXleDwRexdjZS1C7UVu076eNpTtcSWYfURuelUo0F9dvDbaCVT7BBmzlulsgaY8tZgzWglkbFVxdR2K71wGvXM1Q4maOjL1OeHhgBq4dXoDoQ7MQ5zkJqR7myKS86bsN8XC7Bcb1V4dlOxU82MxiZNm8rlxcP4RvQlxF+ngpssT3Bpow6qaB49tssX72MKye2Q9ndjphrKEWmtaTxmAtGfz5YzfcPWSK3FALktERKBSNQLK3Kdzm9YNBx5oYpikN3c7KMOxeH8Pb1UGfppL4zlADkfRvOSfAHiUhlkLs67Gl/WDRVTybxfD2yhjUVh6uy81xdtt4nN00CnPtuqO9qhx81msjx5/HuH4puLh+LhFZsDgXh2YT5kGjpwXGBsXDKiQJEv2s0HfyLxhyKg61jtL+8XTIbgyHlNZISNZtihY/rkNI1mvkAyh5Q7x+jUL63KFnf0iotoGs4QLIH86E1Il8qBx6gVZbgiHduDe6bQ0mWc7HoJV7IaPZEXrHbsGUi+tffCvi6h0dh1N3Y+F+JxU/nL0PTadFkKTnRq1VV6zedQAhJK1stgHW28oIuBWPY+ej0azrENRu0Q3t5u1Fs63haLY9BO03HoeC9Q+Q7G8OyT7GUNSbhNbz3dDKMxYq8w9CuuUAdNY2hzQJ6VCrcTh78wHJ8AshLMHnJpse6wlWu+6HesvukKjXCc2t5uOXwBgcvZdHbU2FN4mfdxWUVgYX18+HxZ4WuJkgb68dPCf0Qv/6NXFnqyVyPG1Q7GyALGcTRO2bhsMHVuA39z8xwX0/Jru74s8DfyL82BI83z+FyjBHlqspbm21Rv968vjDog0y3a2E+NbK6qzOcHH9G0hc4WdGLz820CbR7KQiidnWmphv1xg9G7H9mvDbZIvtPw9G5/py6K0hCa9FffHSbwwSA0djvLEiWqhIYOnEjnhw3BFJwd/jQdgC3Ly0HgcPrkKvAa3QvJEsfLabIdrLEWN1FdBQVgLTTJviwckJiD05FvOMNdGihgSaKUrROXn0byqP0A2GyPe3QkkAWz2rknZXcbi4VjHYaH42yt888BEaDLCF1qjZsLuYDKuIFDSbuhR12+tBY95uqLlEo75njLBtRPtyHYegrsk0XEkrFMT11es3JK6v8CgmAQ3b90TjCYugudoPqgdjoOL+EPXWBaCW5Y+Qad0POl63YB6ejx4Lt6OGVg+YeT/iPa7l+CZCBdicrFHxOHwzHtNCYtFq/wM09byLFnPdIKXaEopK9THI2A67jwWSYLKf6ElehfvxDDNWbUTdzr3Q0HAcanbURe3ueqivNw71V56BpttNqKzwheocD6h/txUaO/xR32ASGvUcBveAi3ANisTRizeFgVaieykQUbkbvc6ir6E1FOs1hgw9j23me6KJx1O09nqIaT4PcfTmS7G4lspfVYOL6/9P4Tsj+NlnIxJV1tvKVrgyQb47WxnLHEl7HGHVqh422LRHiss45NKxLDcLXDsyC7O8DqHjwetQOZKI2keSUYdofPAeRhwIwe796xC3dyxyPIyR4W6J/T8OwshminjubEv1WAq9uuLVuMrzbhuLSZyLS2NgqzpcXP8GNvJfZIDXgWZ4csQSG3/sA/0eTdG8tgSWjO+DO+7GyA22QFaAOe4fMsGqSR3Ru4ksDHuqw3ZkE/TQlMDR9dpIOT8az4KnwtdnMRae3A3H46dgfkIEvQMnoOU4Fo0aK6FLk9rQ710PZzcNQ5q/PYqDzZAfYITMAHoJo3/zY3RaYNSwmkg4YYcCkQUKAvSEGFlh9oNSKr2GKggX1yqCCckUm01A6G29mIrBm45AslEP6Hj4wTQiFSbhabD0uQcNs++goNYNklr9IdNdG1J9LNBsgTOak9RKaHTD+qM+yC1+hdev3iA1LQPjJs2EQvvh6LgxBAr6EyHZxwhSbQZR2V0h13Qgui89CpsLGbAKy0Yrh5+g1FsX1sHxfMnXcnwL4sp+pmecup4Ej1u5mCSKRed1R1CntxEklZuhDgmpnGZfKGl2xNxV23Hi8n343nwG0a04ks2nWLf/FLrqWmOl63F4nA2DRpveUBq3BJ0WH4Rs42FoPtgG9duzl6vx6Gj7PRQatxNW2zp9/RnO0L31vhOPoxH3MHPRRtRq2B6yTbqjVjddkuYOkO1rhs4rvWEfEI99d3NwJjpFkFbfSq6jKsDF9X2YBIq3LATAFCl7jJG02xA5JIxsKqoSEitBXOnaWU9rEe3nu5ohfPFIDFOTwv1dbDosO+STtEYd/A5zvTzQ/NBTKBxNhdTRHEgdyxOQOZwKpUOJ0CV59Tq8AWke1ihwN0fCrjHQ1VLEzim9kOtOx6gdhUKbzFAizCZAkkqfc9mAMFdrxG+zFK+kRXlZu0vcq/biBFxc/xkmhUwS84KscXDxcAxqLoX4s6NIakkeg0eIFxEI0kW+rykeHLKGed8GUK8pj6MrRiAryJakdQbWHV6LfpsPocMWfzR2i4DqwftQ2Xcf9XdGQ7bbEIwYoIFE38koDrKgurSJ4XgVrEMCq43sEEvMG9MXU82kkCViMxKI530Vz0KgW4GqL7BcXKsMOTCIzITx5WzY+NxFja4j0NR6HGzOJ8HkwksYnHsJ84vZsA2MhZl7CLTn7oC8WnvItBiGpmsDoWyzEJIqrVGrWWcYOozDhCnfoUe/IZCro0GiOhSt1wahhsVsStMKKgaj0f53Zww6cB0m59NhdikLjqHPodRPDwPmrIVtWFIl7as+cHF9HyG+lA2iioqB1/ko6E2ZBdmm9Kx0GoiWv+xG091RaLYxEvJ6UyGj2hrtB47E9gOnEELiGsBmDLgVA58bMZQ/AfsCrkK9w0DIag1AzXbD0KRdf5wKv44NJ86i5Qgr6E78GesO+ZL4xiEoisT3ZgzWux9Hp56DSZKbo4bxTDSkF60mHlFoPt8Fsh2GQV6zE6x+XATvK0/gz+Jgq2hvK4OL6/uwHta83QbIc7PClVVmGNNLRYgDXGreEgm7mZCaoMSZ0pBQFrBrJ5nMdDXHn3at4Ni7IV7stUWRs4EwuOrUgYXoceAa5L0yIHEsF5JH84hcSB9jApshfG7gFYvph44j1n0iias1Ut0cMHtEc0wYqIkMF2uqzwx57mw6LDZYi9rnbox8d1uIlhjDorca+rdSxu+W3YUe32K2Ehe1v0y+qyJcXD+MgiBzeC3RxpCmkog7UyquJI9MXIvYVFhBhkgNdsJ3lq2h31kdMd5TcPf0aMyY2g8NOneHxKDRkNGfB8m+jpDWmwHleV5Qc32Mlktc0bitJi56OSE3iJ4lNiVWOZi4/jqmDybpSSFTZEN1kZyWiuqbEL2/4OL66XBx/QSMIvNIXNn8rRno+eufkG7SFXrufrA4nwyTiCzoh2fC9EoerC8VYvTFLPSZ/ydk2/RHu5WnoekZD7nRW9FwxhaoTVoGuS7akFJujAbm09GZpEPBdiFU1odAw/m2EGso30MfZj4PMfJyFoyoPvPIVIzYdFBYV97mcAQswzOoTdX33nNxrZyzVx5g6XZXtOk1AKqNWmP0D3PhfOEBZtFLU+/jL1H/SBLq73uMOnP2QKrjECg3boMx3/+C/YGRwhywflHimFMmZcfC7mDPSRH+3O+N7ceCEBj1jISNzTIQT+IZJyxkEESifMjnHGwnToe8qhZke+hBeb476u19BOWDKWhxMB4TguOx/eJ92JNIN2jUHO269sHqXfuoDjbXK49xrU6w3tQUjzGw6KkOxZadoaTriFr16mGebU8ErjDDeSJwtQmC/zDCnQ0GSPG0x3c95PGbbV+kuDsg38UCiSSwezzXQf1gImQPZ5G45kDiL3HNhuRxktnj+ZA5nImhnsG4vn8m8j1skOFshj/HdsPQJopI3GmN5F1WiFisg/NLDBGw3BRBS81wfKEZujevg5ptekB5hB1q1lXC1nEDketO8krSKpbXyq/ta4eL64fBxPXI8hEY3FgSsacd3xHXQtbjGjASLwLsYdhVHT/bdsLeJQYYZtAWatp6UKFnpuOszWg+bjkaOy2AZEcjkthZqGG/Dlp/eEGmbU/MmWuJ2BAnFATrvyeui8f1w7hhksgQ0UsaF9cvDhfXTyIPhpczYBdwHzV7jYCG/XRYX8iAKVt+VVg1KweG5zNhdakA5n6PId+uDxpNXQb1E/GQPZSORntjUGvBYcj/dhSK8/ZBqr8ZGqyPhKzjOmjuvA7lky8gdzwX9TeGQLJxH3SetxlWJMNWlzJhF/wECr110cRiGizPJ8IsIrOS9lUfuLhWxnOs8jgGOeWGaNSiDbx8QuB3MwY+UUk4HZ2NHdGFMPRPhPqhRNQ8moxGng+g6LgQEsrNUL9FRyz5cx8CouIRSCLGem4Do2NJVuMgimILCTync7FU1jN43yDhvP4MPtfvYcn2HVBp1AwS9VqijtNSqHs+hMKhF1AnQR7hk4ZND0tw6m4Kgq6/QOidROzYfxQKdWqjjqoavEIuk7iyGQ4qu5avGy6ulcOWar2/wwFNVGug808b0M45DA2Gm6GWrDQ0JSUFNCSl0Iy2Bg0kcffPcRjfSQqrxgzDS5LHPGd7JOwbSy9Lf6Lu4WTIHs0mSSVZFXpa80hcc2lLInuikAQ2G728QnHu8GwSTxvkOBvBeVJP9FaVR+wOG5z9qR86ykqiaWm9WqVbKXkZtPluGbrv8IFSpx6YPkgTmW4kEu4mKGBxsLSt7Nq+dri4fhhMXI/+MRIDNCURc8rhPXEtCTHAcx97DGymDL32NWAxvAmmue2DzMRNaDdnJ+QHjYbWuCWobzoTMiOno9FafzSbuwsSHYwg1WEYBjiaIShkFrJIVCuK6/JJ/TF2kCTSA7m4/htwcf1ELC48R88fF0O+yxBYnoqCxcV8mF1kq2Wx2NdcmNBnsws50Nl3GdIaHdBt03E0OBqPegcfQ2XSVsg06I1a5oug4vIAtXZcR/31fpBQ7wT5/paovz0CdQ7GkuA+gGwvYzRznAPL8GxYnX+BQUs9INuoO0bsOgujyDSYkiiz0IXK2lgd4OJaGc9x5vID/PDbamg0aw+tjj3x08qNOHXpHp17Ad/bL3DkTjbmRqSi/+kk1D2SBuWDz6H6xxkoDLNDTfW2GGQ2FtuPBSPkdixE0c8QdEssr2wRASauvrfYbAHx2HzAGwMNLCHXoDkUdBzQYN0p1KJns/6hl+h+Igk/huXA424Bzt5lg7Di4H31DmYv3YSm7TuRVLfGL0vXCQsV+JSu4FXV4OJaOQXupojd6wSdLqqo23kQVC0mo5a6Or4z7oTjvxng1K8jcPLXYTg1rz+u/TEUSa6OmNKtBpbb9Ea6qy2K91jg5V5H7Nm3Bmr0PDFZlTiRRVuGuMdV5lgmJE8UkNSmY+B+ESK9fhAWHMgncd01sScGNa4hhCYk7zBD+NLBCF06DOeWDEfYIh0c/1kX7ZvWRO02naGmbwVFlbrYNqUvsvZa03fCBo2ZC1TF7+bTxdWwUvGorhQEmeH4Kl3005DEs5P2FcSVtqIReO5rhcEtlDHOSAtG+o3R5bs5UJiyA82mrkA985lQ0h6Hhg7zID1wHJQWeKKu6Tw0tF0ImU566DdhItxDN5K4WpOwsvhWMdkhVlg1ZSDGDJRCaoCdEOMqllQurl8KLq6fiPnJKMhpdUbPmStgHxQP6wt0LCy/dIR/nnjA1MUc6B+8CdlmXdF2wm9otcgV8sMdIN20G2TqaqGm/k+oszcGykfSobHWF5Lq7aHYpBWkmnaHxsQ1aLf0CGTa6kDL6VfYnkuFidcl1GgzAt2mL4Xt+QQYXWZhAlkksNkwvPQulbW5KsLFtXICSQSDbsbB83Qo+pvYQFZFA4NH2GLP0XPwu/EEIXdf4OyjLOy4WwiH4Aw0O5aGukcz0cDzHpSmbaRnsA/qabXDD0vW4OSFGwi89YykNUbouQ25G49jYVEYN2cxFNWaQLrNECj95Iz6Bx6h1vE0NDmeCsuAdGyLLsKZ6Ez4kLSeIfF1ORKIPjrGqNFAE4NNbXEo+AoChJ7WBGHRhMqu42uHi2tlsN5KQ6R6WsJ7uT50OtZFa41amDa8KWJdJyDD3R65LmbIo7R5dO2MTA97bLPtgAk9miLd2YHE1YiOWcL3wFJ087wGWXo+JU5mQuo4yerxXNrmkLRmEZmoezgO0w4dxsP9k5HraokSKn++USuM6tUAL3bboIjqKnJlA67EFLM5YfeNQfBqKxh2V0P/JrWw2KoTUj1GIV+Y+5VJq0Vp+squ72vk7TP0KeKaSeJa/M2Iqw4xXPgJ/9RaPfRVl8T9wzYkkCyulUSLzpeItFEcMBTpIlvYD2iE0cYtEezzG3rbG0Kqlz0kWg1Gu+9WoNfczVA1mggJrT6QHjoeNX/bh87rvCHZdgSG/fEH1oZsRXooi2OlckvJJpHd8N0g2PaSRKo/PetBJKxU7xu25eL6ReDi+okM3R0MyYZtYLv5IEaHPIVdWCqsw7NhcjlbiH8Vp8uBjSgRHaYsh2zLwcLDLk9vcJ2XuqOV7QzI9LWDxsGHUDqWhMZz90Gy+SAMWO6K1rPXQba7GSSaD4dUXyvoe16FfWA8mtr/DJVuxrDzfgizsEyS48z3hLWMiu2tqnBxrRx2fWdIXN1uvcSs8AS0+/0ApLrooW7DlnCaOhMnz0fjzO1HOH03EQce5OL3m3kY6psMlaMpqOOVAI2t51HL8HvINOiAdr1HYvnOffC98Yik9xFW7/FCy25DIKnWBXLWP0NtRyiUDz6BEklrL+80/BpVhP338nGapM7ndgwJ6iVYT/gRdZt1glTnIWi53BPfBz2G++0UeJNAs/Yy+SsTwKoEF9f3KXYxwisXQ2EwVKa7BeL2WOHxTlukutiRGFqRqJoLK2Wx+Vvz3diWBHGvLSIWG2CIai08XGeFXA+W1xRRXrMx88AhaHrdg9xR1suaC4njBZA4ViT0wioeSUK//Rdw4sRGEmVHFFB9yS4TYdJaCc5ThiKb/fRfSRsLSUrzPGwQS+16ut0cac6m4oFibhalPa1syiy2eMH7eb9OvoC4hlTPCfDfZzhd61AUBhvCe6Me+qhK466XHYqC9EkwdWirg2IRyW2wHnIvjMPiSb3QQbMWfA7NwpT9W1B/cwBU5h2AxNg/IeW0BXLTdkL5Dz8oe9yB6r67ULGaBSmNjhi5cB48fdfg5TlbFISIZzJgMwdkh9hgww/9YdJNBs/9nMTiGqxN4jqSi+sXgovrJ5EHvdMPUWuAIRS6DICythWURoxCm2lrYBH6oly6bFiSXDoFp8Dy6G1YHL0Fi/MpMIpIg75rECTbD0ez5Yeg5XoDtYePR43BozHs1B2YXXwJR+9nsD58E6Z+92EVngqLg9eg0HoQei50hn1oPswiC6h8JshcXMvzrYir3714HL/xFL8EPELPw3eg5XEbXedthZy6FqTk6qBlj4FYuMkVJy/dFeZdPf7gJfbcz8XESxloeSYJioeeQ9XtEdRne0K+kwUUGneH0eipMBw1CXIabaDQ0xj1Fh5E/YNxUDmUgvZHkzA6NANb7+Tg6J2XwmwBvpce4edVG9Goc1dIyteEbLMOaL/EBeoHo9HGMwrfnY3CydtcXKuduLJpr0j6CoUpr5j8MdjP72aCpObRNbOtcJ4EkvGK9l/ssYeRljLW2HVDMkllPh1P2+uAc/vnYsrhI2iz7waUDsVA+vhLyB1LRcNDDzDogC827luHmEPjSVLNkO1qCa95etBtooA7m1kPqjXVXTZ3axmsXhMSbCbOlsIKW/nu5kJcLmvjW2nl4lodKWFiSiJZEGyFU5tM0KuuLG7ss0VusDEdK50OS2SKGC8zbJjaDd0byaKdWk3YG7cjcd0L5SMxqHk0F7UOZULJKxWKh9OhcCRd+GVUafkJSDbtB4W2/SDbpCnGjO6LS56WwuwB+cGWyPKxxLltOnDSaYlOGjLYt2Qo4k+YoYCk+TWJ8psQ/b9g+1xcPw0urp+AyaU8mEfkweLsMwyavwUDZ/6KZvrWqNdtBEaFPofZJSaVpWkjcmAengszgu0bXMqCQWQa7EIToGY4DpJN+kC6pxGk1Lqj9ZaTMCDRNY3IhtmFdJifewmzsJewCUtDp9lbULPncNgHJ8I8soTktpDKy4ZRJdLKxbX6i2vAXZKqO0lwI5H8ITIVKj/shGTj3kQvNLWZC6muupCv0QjDtC1xKOQ6/B7E4HT0Mxy6n4bVD4oxPCANDTyToOTxAmou91B/8jpIaHSCZKOOqDd5jTD4SvVwKuodSMGA0ylYeTMfJ6IyEBiVBL/bMdh1MhhdBulBqnZDKPQ3QqMJSyDZsi89zz1Qb8Z6TAiNg8u9DHjfSxbay8W1oohUbVivq1hK2c/uZiRT4rlUxT2s7Of4sp/hS3++dybZ8rTGnond0KeBIiI22CDXg/JSORkkn2zGgC3Ht8Nu3xEM8/SH3r5TmOt1EGePLEei5zgUeZCEetri7mZrdFNWxGKLdsj2pDKcDaj8Mgl9S6GbAcmqgTBNFuv9ZQhzyr6X9v1r+zrh4vrBBOsjL9AYPisHwrCnMhpLy8BhiBz8N/RGWpADMkROCN00HH0b1UD7+lLw/HUE/HeMInmVResRA9DRNQhKB2NQ60gylA+/gPKxZKjvi4HiAi9ItBwGGfOZGLj9KJyW/4r+7eujZe0amG+vgUcHx2C6QV20qiWJAW0VMKJ7QzSrKYlh7WrglpcFtY2ENdjgL8TiyuZ3reQaqhBcXKsIbACWUThxMRvm55PheCEG3ZftgnKXgRgVEkdim195PsalHBhGZmBE6AuYnLyGNuN/Q0cSjX6r98GEHbucRVKcCcuwTJLdTFhQWkf/J5DuoI1e3y+ERVgSTCLZ7AWsDiauuVxcy8HEVRRd/cXVO+o5fG/EYKnzIbQcqodaDVuj95gf0HG7CI3oj66q210of7cVUq2GoKFWZ0yY8xtORkTDl6Tz9N0EuJNU/nQ5Dz1Pk5x6JaCe53Mobb2OOlvDUPPIM9Q7koT2J19i8oVcON/KJml9AX+q80ToLYybOg/qzbtDqu0Q1P1xG+q53YfK4WS0XOePHqPmokbDtug8whTr9p8Rpt4SFky4xaj8Wr5mPk9cg4V4y+oorgxBWF3ZylUkoGzO1lJxLSiTVUpT4mIqUEzHM531EOtshWkDmmNUdzVc32iGTDdLEkw276olUj2s8GzfeNw7OA2PD4xF8r6xyNrrIPSU5rnb4fEuyju8EQxa1UL0NlvkulvRuVIBJVFlvcBsAQT2mcFCGXIFaRWv5CVud5mwlvHuNX29cHH9EEqI9DOGmG/RBH2ayON7615Y+bM+Jhh1RnsNecy0ao4Jes3QRVMWv1i2w4N9RigKtkZesA3C95hAd4A6ZJtqQdlkPOpOWg3laVtRf9xK1OhjDamWg6Dm+Cva7w7FuKOeiLy4EE9O2cJ1bk/odlBBWxU5dNVQxOFlBji4YhjcFvSFz0Yb2PVrDoeBGsj0McbrcvLKxfXT4eL6CYiXes2GAZv+ivZtwlLRdaUnlNr1hJX3Q0FQK+Z5F3EMrBnJr2lpbyzDJDyDpJSOkdyaMCkl2EIG+rsDIK3aBSN3+ZP0vqTjGTCgc6wcQzY1lyCv7/J+nVWTvxPXlOwi7D98AivXbsTz1Jy/jidlFiAoOpYELb5KitKHcvDiHZhP/gk1G2iifa9+2OrhBe/7KfjlSgZ6HouBysF41COZ1NxxBXIGMyDVoDk69RmIDXtP4Oz1Z/CNSsSxO2nYfLsA5oFJ0DqWAsVjqZA9koyGxIhT8dh8sxAnbqcL5XrfeIx17kfRokt/YWGMmqZzUW/XZSgdew5lr2focPQRfrqQhOO3XmKj82F06dEfckpqGDVjPryvPqbvIl5Yqraya/ma+RBxjU/Jwh9rNiAgNBwvc94+q1kkrq+q3CCgj4HJFJNXsVSJQwcYJsK2fFqWJtfZGFnutri7zQb6LZVh0UUFkatNkbaHxJTkNN+VRJTuFxNhJvyFdKzAw47yOCB6ix0m9dbEyKYquLFlNGJ2W8Nnbl8k7jZAgbtYQguFegxJgg0pH8mqO4m0hykh/ixMf1WRcm38unnb1n8SV/a3cM2GLTh+1l/4G1l2vLqLq/CTe+hIFAQaYM+c7mijJAOv1YbYt8YaP4/ujYNrreG1yhCtVRTRX6sOwnabI49NVRVIL5aBZgS9PAUZ4oW/Gdx/6wbdfvWh3qQBpGo0QO02A1DHeDo0VxyF9r5AzD/xJyJDfkROED2vIcZUpy3ue09Fd3UZbP/dFAtsu6BVHXm0Vq4Ju/7NEOAxCR1VayNgRXsUsSVpQ8qLKw8V+BS4uH4CQo9rqbwyubQkce2x6gDqtukJ27MPYUznKstXHjbrQGWUT2N4kSQ2LAN95++EXKMeMDt1m4SVSSsLN2A9q5QmMv89aWWUL6cq83fi+jQxFR07dUYNBQUsWr4SKVnifzhicY2B3+3yk94nlPb6Jf0lJFWdLcdEqKHeHErqGli6aQsCr9+Dz604HIxOxo7oLDiFpKDl8STUP/oS9Q/Eot7C/ZDuboLamm1gYD8RXiHX4U9yf4Zk8sC9bPx6JRsjvWMx4PQzzI/IgvudIpy6lYpAuncefmEYbmINBdXGkOptAJWlx6C0LxYKR1KhdjQRJv4JWHs7D/vvZCH4fioCLt3DwuXrIVdbFaotOuNQ6HWI7rB2V09x3em6FzVr1YKaekOc8A7463j2bRFel8kGyevbn8+rJ2/FVQzr5RR6YUluc90tkeJhg+M/9MaVNaaI3mGP7wdpomddWfxm2A5ha60Q4zoeL9zGIs3NEdnuo/DSfTyito7CHza9MLh+DUzopYpL662Q7uaAqD900UtRGj8NaYKEnQ5Uh7kQopBH0ppHQspEtSLfgrie9AmEgqKi8Cx6eh3960WqTFzFA4gqF5CqzuvzBsj2M8UkbTVMtOqEDSSwPVRlMHaEKvpp1IDLckuMG9ES4wc3RkbgGLwRGeF1oC5KAg3xKkCPpHIk8kkkWSzsywA7eK03RAMS4DUbf4LryWXY67cOgef+wNMLU1AQTC8BIm0UBmvjlb8xru2zx+Bmcgje/z2GNqmHLbN14Oc8AwM15XB2pxP0OzaC28ymyBOZoCSE6uODsz4LLq6fyFtxJbkiuey2/ABUSFztz96HSXjWXz2mleVlVCatjLdp6H6G58L0YhraT1gEpd5GsAyK/0tcDVnIAZPUb1RcGR4HjkBFpZ4gDYuWrURSet5f4upbGioglg6xMFWnHljfm7HY4nkS/UYaoaaqBowdJmD3iRB430rA0Vsv4HUvHUuvZWKwN8nrkWTUOZICTZdbqGW7ANJNeqJR276Y88cOnLz0AD5RCThxOxV77xfgz9u5OPIwC94kwMcuRGPm72uh0b43JFr2gcKY36DuHoUah1+i7pF0dDmRgB8u58DtQTZO3Y6Fz40H2O8dAl3L0aip3gJ9dS2x47AvfK+Je1z9K7mOr50PEdeEl9n4YdZcyMvLo3WbdvALDhOEIfM2CxVgg5RYbyAbvFSVROnjeUdaXY2Q62wENv1UvrsdEp2dsGdyX3RVkYHbuHYkn9aId7aF54wesO2ogqEkGHYd6mD6QA38atgas3VawL6LMgapScKivTK2jG2P2F3WyPCwIAk1Q46bLQ5PH4aeKvKYRSLy7E8n5LrZocjFAsVC6MK3Ka6JablYuGgpateuA81GjXH4xFkkZxWSuF5HUQhJUyXiUS1gU1EF6SE3wBaWvWtj6RxTTDRoCZtBzfFQtBx2g5pginUHLLRvA8ee6kjxdsCrQD2SVjafq6HQE1pAUp8XokPyOgJ5QYY4v0MPbWpL4fy+CUi+MBo5IbbIp3vIZiV4FTSM6htO+XVQQuIafWwUBmhJ44zzdJh0UsM03TZYPnUYBjWSw4X9UzC0VQMcmNcGuYEm9ALBxfVz4eL6iZT1urLlX83CstFthRfqd+gDe+8HMCVxZQOsmLy+K6NvqSisZbxNkwdTklLLiy/R1Ow7NDOZDIsLL2F0mUkr623l4srk4JSvCMp1laFQQxHLVq5HAv3hFocKMFkt62EVx1dWpx5X4Zqi4+B9/RF+27QDKo2bok59Ncxesg4+JIpnouJw+n46PO7nYsLFTLQ6kQSlQy9Q1+sFNNcHQ6qnNaSVWqDrQAO4eJ+j8uJIzBJxhsTX+/oTOJ8IQtv+gyFTRx3ygx3Q6M/zUDr6EjWPp6PR8QRYnkvHjntv4BOdCx/K53/nIab/tgyKdeujXpNWWLrVHT5XH8L/xlP43XiGgNLvoPJr+Xr50BhXJgzTZvwIGRkZqKqpI/jCJaTfC0buXhItQeYMBOGoWnGVH0d5cRXkleQx28MaaV5TsX3yQLSSkcRKm2544WyD9F1GKCYBZWleksTe2jwanjOH4Q/7Hpim3RbzzTrBZYYOLm9yQLKHI3I9LIWY1ULKU8x+/mexq/sc4DV9IDrJSWFUDzVc2TwGl1eaIGk3CzEw/SbFlcFCBBb8vkR4kWICe+jISaQm3kFhiFm17XEtIdksEumiQGSF8cMa4HunHlj7Qxd0qisNq/7y6FRHEntWWGOSnhZGD2uK9HOTURhoiBIR5WUCKyIBDWJTaA0hcdUhcdXH5T0j0UlREpfYFG/n9KkO8TysbMumuCoK1iMJ1UduqANunpqEHk3lMcm8E45utcXQ1rLo1UgCf87Txr4VZuisIYnre7UFIWYrdonFlS1MwMX1U+Di+omUF1fTiznot/YkFLU6w+b0XUFczcOzYcbk9R0ZJTm9JL5PFYW1jLdp84X4V5uLKaivMwodnObBksozvMTFtTzsj7Tr3oNQU22IGjWUMOfXFWJxLZWOt/Ja3WDiGgu/W09p+xRuvqEwHz8NivU10XeQHnbt94XoZhz87ybh+P2X+CMqGyP906Bx6DnJazLU3J9AZfoWSLfpj3rN28J25lycvBiNY6E3YDvlFyhptIdspyFQ/mUXVNwfoM6RF1A7loh+vslYeCUPB27n4uzdVATcTsJal8PoPWg4lNQbwX7yDHj4nIdfVAwJH9VPAs0WSwggqrO4Mpi8sp5XJq8dW7dF4K6lSHcfTcJFEueuR8JRJq8VpaR6wGRV2JJksWVZb/0xGOeW62P9uMHoUk8Ov1q2R9wuC+S6sEFcTFrZbAQsRtYM+S4kpq72yHV3RJabI9LcRiHLwxY5e81IWtngLSqXZLXQ3ZyE1wIlBJPYTBdr7JsxEs1qyUOtrjyUlGqjf0tlXF+qTXmY6JZJqum7wlpGhWv4ennb1n8S19TcEgH2K8DvS1dAsWZNNG3aDKcO70B2qGP1DhUIGYk8kRF2ze6ODg3kcWSjEbb8ooOZNr2w41ddHFhrjLYqtdBGszZWTuqE2GMsrpVegkTGKBbpk4xqo1CQ16EooPKuuo1AeyauLvSshlAdgrjS/QvRJbk1ROE5UyT6mGD7jE7o37gWBrath7Z1pDDVpA2OrRuOwC1GWD62F/poyGD5dx2Rdt6aZPftIgRcXD8dLq6fgVheSThJHvW9oiDTsg8GztsFhzMPYCWKgXVgLKxF8bAKiodNQAwsz6XA+DLLK55/9V0qlp8nDNiyD0tB7QGW6DZpMYkrGwz29+EH1RGLy3n/KK4M9ofa0+s4lOuqQkZRBVMXLIPvjacIvJtMspFMYieWj6ooTv8fvrcSCDbwKV7oKV3l7IUWXfpBUaUxZsxfgSOBl4TlXL3vvYDbvSxMu5iGtsfjUet4KsnoS2hsi4SiwVRIqTRD8+59oNVhAGTqdoCc0Ryo7bqEmiSrLF2zw7EYHRSHPXeycYLN40rCeijoGhym/YJaak3RokNnbNztiXO340hay2JZSVhpW5Xv/ceIKyM2OQOjnMahlpwcejaqh/DlNkgjuWIDhpjAstH37wpJ9YFdY7EL/We+2wbTtTWgpqgI1ZoKUJOWxCzdjkjY6YQCFzZYzYS2LHTCVNiywWuvKN8rEoRn2+3wXX9NXFtDcuBGad30Sfr1hemsWI+rML2YAAvBoHpJPu/8aUNCogSVYdZov8gT8s3bY+bwJshwMad0ZXnYgC+T96jsOr5OPkxcy8PkdcLEqVCQrwH1enURvMMcOSHmpfJa/QSWSWAxkXLGEmMGa6BvY2ms/F4fnmunYNFEA3RVkcNYwzZYMaUX2qsrQruDMo4uG4qUs1YkrfQ8iQxQROWwkIHcEFNcoeerdS0ZXNxjgleBdO+D6JkM0qFzBkgTWeLqHkNY92mA7vRSttS+CeJOOuL06v4Y3q4OWijVQKu6iujVqCbWTmyD9AB7lISORAkT31BdAfaZi+unwcX1M3jb65oPywvZ6P37bki37AuFdoOh3NsIdbuMRN3u+lDqoQul7trQtJkOw+AEyltRWt+XUSEEgQR31IUU1OlnRuL6u7CYQcV01Z0PEVcGi+M6cPgkGqg2hFzNOpg291cE3niMoHsvSZ5eCPOPVkd5ZSP1yxCOkch6hVzF1HnLUFdNC6079MOa7QcQeI3Fsj7DUbofG+7kwzQoFRrHXqD2oXSoejxDvd+PQ7KXE6T6j0HdJafoeAxqHEmD0qEkDPV+jjXReZQ3A34kraLr8fh13R5otu0OFY2mmDl/CU6GXKN7/AyBwiCspLftqeJ8rLgymLyOGz8JcjLS6FCvBoJ/MyJ5tRLEK7+aiyv76f/Ij31QQ1kJmhNWoMn43yGtUAcH5+ohh/3c72pEiKX17YA1NnWWKUqczXH1DzPhp/8zcwciz9WShJP1UrOprUrFtWKPKXF33Ug0ri2LRrYz0HvjGdTt3A9j+qjjxQ46LwiqGfHtiSuD/Qow44fZkJWSRnuNmgj4U5/kle51kF6lElJ1IQEU6eK1sKyrATJ8bPHn7I4w7y6LYY0lMapHbexfMAAxvk5IDXbE3YPWWDmpNbqqS1EaFZxcNRRZvnaUl57NIFtcpOdxhlUbKMlJYqxRYwRs1EZKgCWygvTx5IQj5jq2QTsVGUzTbojre+gFiUT21Tlj5NGLQYKPNa7uNUP4bgM8O2mFnCAjFAazEIO30srF9fPg4voZlIkr+8xCAKwuJMPs4GX0XbQHnWevRY8fV6L7T6vR46c/0FjHHDU6DoJZ0HNK//+LK+txNbmUDScqU6lUXM0jMypJV735UHFlpOYWY+tuF9RWUYG8ohK+n/s7RKzn9XYSAm6SeNx6KyHViXfkNUr8k3zgjRjs8PJGfx0z1KirCXOHyXA/IaL78Bhnop9j34Nc/BiZiZ6nXqDuvufC6jAqHolQ2RePGkczoXD4BTqcTsL0sAzsvp2JkyRtbC7WPcdCMcJqPGo3bIJhxlZwPUZlUl3+0fHwF+KKWXsqb2dV5FPElRHzIh329rZQlJFE30a1EbbCBBluNmIBI8F7V0qqB2xEfw6J5N7vu0NOtT46LtuL9vN3Qrq2CrzmDKNrJ7l11Se5fSutZeIqyKuLGa6QuHaUl4L3vCGU1prEky0mwISY0jLRrCCtRe7GSNttgalDG6GmagPU7NAdDZRrwOuHvsj2YD2tZeLK+PbElcFepKZPm4KaNeTQubEigneaIjvIslRehxNssFHlUlK1YBJI1yLSEZZXLRSZkaROQPwZe2T6jkFxoC1KAoxRIBqJ3CBdZPhZ45qLMb4zaobumtKYNLwBRBv1sO/3oeinKQejHqqYZqkFk37q6KAmgSVj28Lz9yHQ7SiPYW2VsHt+P7w8a4/XIRZAiD4QykIASErPaaPoHAn0OTb1Fe0zaaXt63LSysX18+Di+pm8lVd2/YxsmBJmEZlEFozCM2AWnop2P66GQidtWAa/oPTZBJ3766f/ysSVuJSFMedJLPqZoMvk30hc0ytPV435GHFlsJkFlv25Ewq12GwD9TF38epSeX1BUlc9wwXKI8hrOYH1ufwQy7e4QrVJa9Sq3wyzF69F0I3H8KZ7cvJ2CnbdL4JtSBoaHo6HIlsrfv9L1D2aAP2ANGy+W4jTd0iC78QKMwNM/GUFZFWboX7LVli93RM+V57Ch4Up3CkTVibPXFzLeHD9HGz7aaC+pCSa15LDBZKyHHexvFbHkAFxOIQJrm0wR+t6kpBUqQspFWX00pTCnU1WJIqsZ9XgHWl9K6+sN9oY4avM0FpWEifm6iDX1YaOi8VVSMfuGYnqe/LqZo6cPTbYO6MPfrPpjOBVVsgqi2n9B2llVHYdXydv2/qx4sp4EX8bsy1boo6MBJrXlULQDlPkBJujJJjElVGJkFR1WEhEYTC9KIXoCD/zvxKxXs8RQpxpvsgIebSfJ9JFjr85bh6wh93gemgkKwUNeXls+nE4Il3HYMsPreG/xRgnNlqhY315qNaUxgIS2ERvJ2FJ2TfBJgRbvpXNECCGxcKWsHlagwzxRkRCS7wR5m+lFwUurl8ELq6fSfleV8bbgVZ5AmzKLLPwFLSbtQY1Og2DeUgCjJmwlvEB4qrcl4trZc9cZbDpsERRT/Dz8vWoWbchFBRV8MO8pYK8BlRzaS2DDUzzuS0m4O4LBEU/h8eZYFiNmQZlDS30G26Mze7HEHjzGfzuJMPrThYWX8nHSL+X6Hv2hdATu+9uOs5SPt9rj7B6hyc69xtOeVvAftoseAVcg4jupTBPLkkrW6Xsba8vF9cy0u+G4PEea0wdrAFVktdeGnUQudIYue4WJGlsidTqJa9sIQD2k3+2uz3C6TpXOHTDH7bdcG01mx7LRhhMJQyW+qvH1YTuQWmsK8lYjocxwlaboQWJ6/Gf9ZHjaiuUy+6TWG6pnsrElY4Vs95cEtg8N0vkebAZBSgdCSuri6WpTFoZ5dv/dfO2rZ8irplJ15DkbY55tlpQkpFEj2a1IdquhywSL3FPZdUXqIowcS0O1iGG0mc6RpL613GCyWwRbQtJYHNFFkjxHYWp+i2g21kJx9fooFfTmtDvpYXumnLYNk8HP5P463XTQKKfIwrPG+NNKBtgZUSwxQTeiitDLKW6eBOkR5Qe5+L6xeDi+i9RJrAGbGqs8JdoP2stFDoMg1VQLExIZgXKpsyqRFzZUq4mJK6jL7yAUmmPqyUX1/+XRBLXADa1U1QMflm5GTVq1YNirbpYtGYT/K48ek9MqjNMXP3ukHiRcLEFAEKiY7HeeT/a9hwEaWVNOH3/C46GXCUxi6W0L+B1OwM7ozNw6n4qgu4m4lBAJKxGTUNtpUbo3Ecbew76IlDoyX07UwOTVW8SWJ/bjLfCXL4dVZnPEdfMO4EkUeZ4utMOo3oqo4GUFLqp1UTUBltkCStDMRkpFbJqABPMYhf2+e01iQWV9gWJLJtFgAkrS1+GEXJcTJDo5gTXWXpoKiuFpQ6D8HTPGEFEhfSlc7O+L60Mqsud6mYvAqX7fzcF1rcrrldREGKFZG97TBupCRUZKfRQl0PYTgsUBJG8ivRLxa66CWz5MIjy1zZSkFkmsGw2gaJAXRQE22HcsEaYZNIFi+1aYmTHxrhzah6+t+gAk/614fxzXwxvp45kPzuSVpLOcySuoeJVsN6jdOYABIsp2y+PWHK5uH4KXFz/ZQyEZV1T0fGn9ajdbijsA57BTOiFzS6d65Ut70r81VNbCuVl4jr+3AsoM3Gd8husw7m4/n8wcQ28FUdCFQ+f608x/4/1qFFHCbXqKGOH5wkEsJ/RK8hJdYf1wApyeTNeGEB1+mIUvv9tJepptUPjdj2waN0e+ETeRdBtEn7C+9p9zFm2GQ1bdEa9Rlr4edlanLgQBf8bbBndsinG3k41JpbWhHeo2IaqyueIawaJK+thzHa2xMPt9hjbTw31JaVh2LIWEnezNfhJxkjIyktJdaNMXN+lTFxZr7M4FIAtUuA+dTDUNJQg2aw7FBvUwwKL9khzdninnIoi+neUn7+VUTYt1rcsrsVsedIgM7z0tcEs81ZQkauBkV1qI9XXggSExbsyiSqjckmpnowkcaVnMcgWP5k2gsnAJnCdPwhdGihghm1XDGheE/NHd8W6qb2h16kBUgNsxeIaqi/wT+L6T3Bx/XS4uP6LsFW19ElOmbh2/mUrFJr3RK9Fzui33I1w/38ZvMwDgxe7oXZnbfT5eQNsLrLBWd/Wff4ccWX433wEq9FjICWriAVLNpCEfHviyiiT17NR8bSfIAjsrqN+GGxsjVpqzTDM0A4795/C9n0nMNTQCkokrDrWDtjrG0yy/4SkLQHelJeJHBfXyp+9iqSTuOZ7mCDfWR9pu81xa6cT2tRXQDOS12trxXOZcnEVi2vKHguYdagDlYH6GPBnEBoYjkaPRiqI3elYmlZMRUH9O7i4votYXA1REsRWhjLDvcO26KQpDVVFaUTuYj+ll/VMlvW6fkvyymJgtVEYagKvpb3Rtr4sjqyzworvBsCsnzpm27ZD0O6p0GtfH0udWiEv2BIIJenk4irAxbWawX7uN4xkPa7pMDgZhZr9jSHRopvQoyDxAbB0kk27od5Qa9ieugXziyykgIvrP1FeXEVslHv4dXTp1RfSskpYtMGZJIyJ2/uC8q1QFovqfSOO7k8iRDeeYMV2DzRq1x0ytVQgV6cBNNp1xYZ9h+F38z6liRF6YdkALN87SVxcP1JcBWHaMwJF++1xbJ4e1OUl0FpOAg+2sOmdxGL3rqBUL96X1srFNdXDCo59G6Bm54Hoveo4ag8wRH+t+ojb4yhMsVWWrqKg/h1cXN+FiWtJsCFeB+njVYgFvDcakbTKQE1JAvf36eA1G7jEel1FBiQj1TFk4J8pCR6KvKDhSPWzxQwDJbRVk8OmmW1wfqcJ3Bf0QN9GMjDp1gDPjpjh1TlTYQYBLq5iuLhWM1iPqyGJpikJp0V4BkxFsTD2ewKrwDhYBcS/i//z97AIeA6zwOcwDU2EaWQmjMJZuVxc/4ny4noo+DL6DxsBSaka6Nx3uDieM/rbFlcBJmJRJKKED1vi9cYzeAVfwfRFqzBtwXKcPH8DgbfZTAwxBAsfeA5/Frd6m4vrx4cKsIFJpgj43RDdVRXQqIYUtjh1QjodY6PwhV7EdwSlevEh4lrgaoBcksoLy00wrF0DqCgro2sTRXj9PBhZ7taU/q3gVhTUv4OJannKjn+r4ppF4loYYoScAANc2qlLLwVKUJaWxJJxnZDlb4PXgfokrmxZUya331qP69uBXHmikUjxtsDm6T1g2kUZA5pLQqe9IpaN64iHR01Jbs3wJtSQxJPknuRTvHRrZTAp/RC4uH4KXFz/R5iQdL4dhMXuVX4F3s/zljxhGdfysxd8K3y8uBaSbMXjzJWHMHGYAElpOXTs1hcnQyIhimbzjX6boQIVKZOxtwOpSE6jEwSY+PtHM+KFfXaufN5vic8R18w7wSSoZghaYYH2KjWgIiWJn3S1kOxqjTx3o7+mj6ru8vphiGdYSNptizurRiBxlw1Jq33pvWHz3n7c3LdiMX5LZWmqFp8pronXkB1qhShPC/RpIo96MhIYM6wBEk+Zgq27z3pcBeEiea0uQvUpsAFbRUGGJKjWyA2yK4ctHTcguaV7w+ZkpfvzFrZfkfLnK6ey+qsiXFw5nAp8rLgmkbgG3HgCq/HfQ0auNhq37Ig9h70huhVbKmHvywmH83d8jrim3buAq9vGQbulMupLSmCaTgfEkJjlsmmhWG8jyRgXV86H8Xnimpl4HTGn7KDfVRl16Vl00m6E+DN2whr9rHe1TLiq00/Y/xb83rwLF1cOpwIfK65xKZmYMnse5BSVoNG8HXYcPI3AKLG0cnHlfCyfI67XLgRgeCdNNJCWgF0PTdzb7oRsNzaHK5MQJq5GQvzmu4LC4VTGp4lram6JsH3y4CpsemtCWUYGxj3rIvqgOQqCjVBEEsZ+JufiyvlUuLhyOBX4WHHdsG0n5GooQKG2Mtbs9BTmcy2TVi6unI/lU8U1JikN1mamqCEpCePO6niwZyLyPKyE3tWKvCsoHE5lfJq4vswpRnxyJkbZ2aOujDSGtqmLR8ftUCDSF6S1IITElbZcXDmfChdXDqcCHyqu7A/0/sMnUF+tIWrWro/5K7cgoDQ8gIsr51P5FHFNysjHpAlTUFNOAX00a+PcCnPk7LVG3h4D5LuwwUhGf1EmrlxkOf/Mp4lrSnYRZs1ZgNqysujWrA7CdumhIMCMhEMXxcEkHaUzCHBx5XwqXFw5nAp8iLiyn8N8gy5AVVUN8rWUMfqXRfC58YRkgw/E4nweHyuuiel5WLhoKerUqEHSqoLQP2yQ4WpOwqqPQpLWQpd3l3ktL6wVKZ+O863z8eLKXqBWrNkIRcU60FKphTMbRyBfZCEMwGJr9jNxfSutbDtSGC1f9rkySeFwKsLFlcOpwD+JK+tlLZPWVq3aQF5eHjPn/g7/m08gnvaKiyvn8/hYcV2xZj0UFBTQTKMRfHcsJmm1QZ5zaU8rSWtl4lpAsDldy2D7XFw57/Jx4sr+Lu509oBSbSVoqjXGUc+tyAhywCs2X+s70vouXFw5HwsXVw6nAv8kruyPc+SN22jXvgNqyMlj7ITJePw8DUG3WYgAF1fO5/Oh4pqcVYidrnuholJPYN/BY0i/LULRXitBXHNJWNl8pWwmgfJCwsWV82F8uLiyF/oDR06igao6ateujW3bdiM16Q4Kz7EQATbZvnje0vLCWgYXV87HwsWVw6lAZeJaNlL2xt3HaN2mHaSkpGBmYY3nqTlIyiyAiIsr5wvxoeJ6+KQ3SUIdKNasiV2unoI8pN8ORD6JRr4ziYaLMXLduLhyPpUPF9fgi1eg2agJFGsrYeOfu5BMfxMzk66jJNSQhPStcJQX1jK4uHI+Fi6uHE4F/q7HNeFlNkbo6gvSamFti/vPngvHubhyviQfIq7Hz/qjSdNmkJOTw7KVa4Xe17RcOndHhDx3kg0S1zwSjxx3Jq6Vx7gyWS2j7Fj5dJxvnQ8T13OR16HVoiU9i/KYu3AxnqeJ07CVs16HmLwjqf8flUkKh1MRLq4cTgX+TlwT03JhY+eInr374EFM4l/H34rrt73iE+fL8P+JK+v9DwgNR+cuXfHz/N/wgp6/snPpJK757iYocGXiaiT0pv6dkJbJKhdWTuV8mLhevnkXnTp3waRp3//1yxQjO/Eq3gQb47Xon4WUCyvnY+HiyuFU4J9iXGNepP/V01oGE9dAElc/Lq6cL8CHhgo8iE0SZhQof4yJa4G7GQ8B4HwBPjxUgD2L8SlZ7xz7UHHlcD4WLq4cTgX+SVwrg4sr50vyoeJaGRl3gri4cr4QHy6ulcHFlfNvwcWVw6nAp4hrAImrz20urpzP53PFtZDElYcBcD4fLq6crxMurv8qOaXbbJj89VmMEePS23Rsv/z5/yVv28LayMii/WyC2kVUlqc6w8X1Xfxvk0gRlZ37UPwFPu3e+P71+dt4Kfgccc38n4irCQpdSGrY/LAuhiimbbGwNRQfKyc8/y5GKGR1uTHeHYBWnSn/3f47328ZVV1cdSpsGawtX5NIl7Xn32lXiUh87dUtjpiL67+AyaW8Ukj8LufA9HIWzC8xcmB2KR/mkQUwpa3RZfHWlMnhZSaPTBKz3yvvYzCNyBao7NzfwcTVkMTVhOo2j0iDWWQqtSUDBpez6XhWpXmqMx8rrol/iet/OasAk+aKvJ+OCdEHIwgryRMJecDt5wigMtkANB/hczxEt+IFGa00b3koTeCtsuVvy+7Ph4pwEnyYyJXWLS4joVRmaf92nLCtPG/V5GsWV/FKXCbIczVDgbMZSvYwWWXTbY1EgasuClwMkO9G58rVz+Sy0NVUoLIyP5VCktU8N1PkeFghf6+4/C9dx9dE+e/0/6Oy/B/P54lrFonr62AjEtfK5ePfhYQtWJu2TNhK5Y0Emq3g9XbVLtqyfQEDSsOWoq2srC8Dm8e2hC17G6RH+2w78j3eF1lG5eX9Pex6tUlaR6IwsPQag1mdn1LW1wkX138Jo8g8QUzNI7IEEbQOT4H1xXRYXsyETVgWrGhrGZYOa8LmQgbMw0k2mSReyqT8n9bLaX0hBb02nED/dUdgc/5FpWnKYxIh3pb19lqEZ6L36sMY5hwECxJY48hMOvd5Il0VqcriyqbkChCE8vPFVZyHyox6ig2eJ7DW7Sh8bz6Fz51Y+F29hwWLN2DP2YuV5hVDUkv3g7Vng9tJbNx/Bt43Y0rL/bgeXFZG4K24v8SVXefmA6excMMOBN16KuxXlq8q8rWLa4GLKTJJXNPdLGhrgXSqL8PdGJluJsgikWTkuBoK88kykcyn/X9HKk2QtMscJ38chJurRiDXzZLqMidp/l/1+P5vKfs+2UtBWQwzo/x3XUZl+T+eqiuuwkpdQfRCRULKtuwYE9c3JI1vxZXJnBGKg+kag00pnQlJHjtWeZmfSyGVH7K5NzwXtEeGL9VLdRULAvuW96X142WzhKS1OHi4cO139hvDZV5nxB81QbHIkO5L+d7nqgsX138JJoNmDN+naD17NdpPX4yOU4kpS9B54hJ0nLQYXScuQmfadpyyCtoHrsJEEMUsGEWQ9JaWUVnZf4e1KAZ1uuhBqsVAmPk9rjRNeUwi8oU6WG8r6+kd6nkZEvU6Qbr1UBh5PxZ6YA15qMD/y9cgroF3k0gK4/Dz+j0YP2cxTkTefj+dIJKJ8L76BD8uWY9ZyzbD53qMWDDfk05xHv/bdD03HqHjwJHQ6twfZy/fJXGNwS+rdkBaThW9TcfC5waJ8nv5WV3iHtLAW7Fo3WMomnUfSPU9pnKZfH6YuPrSNfneeEpyGoeAKGprtLiH9WTkPTTu0gcK9VThfjqAjrPBcZWXUdX4LHG9HYQiN7Ny8vGlMUI2CejOsR3wu2UHLLbsRHTAUqv2WG3fFbsn90PoUl083WONDJJasaySSH9RcWVhAayX1wjnlwxDe3lJLDFuTeJshxw3KxRQfZXnq/oUsgUliHw3IxJ1emFwNaeXBPZyYERCyzCk818qbKLqimsByarbrE44vrQ78kS2KA4RC6BYWEu3Qi+rCWKOmmL91LY4v3UAyZ4xSd9IYXnaEkrPtmVUrONjYeJq3K0mmtWUROTuYSgU0XdJbSgQ0QuIiL47QV4prXC/Pl0wWVuLQnToWozws1VDNJSSgMecdigS6dM51gtdeb6qBBfXf40cmIWlY7hzMCRb94ZEg+aQrKsJGUV1yMrVh2QNNUjUagRJpeaQaNgZPdYdgsHFZIy8nAVdksUymRTHx4qpvJ632J5LRJt5O9BpzmbYhyZUmqYyDKguVp85tbfdDxvR8ZftMA9PLe395T2u/x//tbj63kogaY0VJGfU7EWQVlTGom1uJHPvtoX99B9I4rd8qwekFVQw7ZcVCKB8gmBWEE+W3uc2fWaSee0hOvYfAa1OfUlcb8P3dhxOXbwHy/GzsH6f73t5BViZZdyOQfuug9Ciaz/4X3sg7jn9G1muyLYjQRhq7oQ/D5wWBNjvVjxdL91nKuPXzc4YN2s+RDcfUT28x5Xx74urMVKcTaDbWgH16D/ERnLSaCItiWYKsmgoK436UpLQkJWCTRcVXN1giWwXM5S4WYjb9BntYuEGBYKgvUsISXLzGjL4zbQtslztkEd1CXGvlZRRPSAxdddDoYcBYvaYY662OvZN6EDyStctSCsTWyOisrwfS9UV12yRDXo3l0XzOpK45m6GPBLB4mAdak8ZTFxZ/K05lo7tiAYyklg9rT3yQwwpHQkknWc/t78OGk4MI9jnz+utZOJ68NcOWOakhpQzBigJsEBBoCU2TFXD6knKyPDTI4k1xKtASl8am/opPa4s5KCI2l9E8n5+mzZmW6rhvqc+7TMhH15pnqoGF9d/k/AsmF1Mg+6p29A/eQ0WRyOhvWw3pGo2RI+pi2B25DKMD9+A7tFbMAlJgml4CkwjXsAs/CXMItKJDAHTyAyY09YiPAOW4emwKodQD4tpDc+BSUQW7MOSBcS9t3QsMuud9AxWhmV4JskptU+Ih2V584R9m4svYR2eTMepDBJXk0vpsKZrsKBzllQ/+8ywusjCGyqLf815r77ymFJ7TCK+7l7cqtfjyupMIKF7jp3H/SFTVw199MzF0lkuHes99b5yDz0G6UKzWXscD74GUVQMRCS+QVFxAiLWs1kqlUxc/Vh861US134j0KJDL/heYj258QiMShTiVsvSvoX1tLIYWConOlYoMzD6CTqStLbq2gcB1+4L4hpI6QIoP6svMCpBQCRs2XFWNouLjceyHQcgRZK9dOMOBEQ9Eve6MnGlOgKjWdufCfWwesuuk8XfBgjXwUILxGETZfciUOiZZftv04jDEN7Czr0dEPa/52sX1+TdphjRogbaqsjgwhpT3NpojKiNRohcpYszCwZjrkUHtKwti+Eta+PaJhvke9gI4QtF7uZCb2i2u8075LlZlivfRNjPoeMVYWlz3K2QS3Kay2SECF2iCy0Fafxu2hpZblQXi70tLSvH3fo9mNCxUAImuML+e72zJlS+lXCObVkvcfn8FWF5mChXdryI9TK7GKOYBPvv0uXS9YgHlokHtbFQh7Jz2RUooO+VLd/LxDR7ryVuu05BZ9U6mD60FZ67T0AWi/V1N8YrV30UCz3S5a/rU6jK4mqNHlqyqC0piammTZEaaISCEG28CiEJZeJKaYqDTPHQRRst1WpAQUICq7/rQscMhJCCEpEeQd8JySYTzoIgM+QHmwsyWFIunIDFrOYH0XMdTPeKzuVRmjIKKB8rr0w+2U/3OcG2yAp2pPSUJtQCGYGTMaidAvR61UaSny2yg+l5CDSmusVlFwUx4aRnltpanrL6WdksxKD8uXyhrfSMBxsjM8gCeSG2dO307ND1F5K4FtJ51hvLYNdVnmKqj/U0M16xXmfWe8t6hcuVzygs97noC/RGfyxcXP9FDCPfts8wMl+QPdMtpyBZqxH6/LwRlmEpMA/LhPHFbCE8YLBzIFQMbWDm4QP9LcfRcfJyDNkmgvnFZFj53cXI9QfRxmk2GumOQsdxC6G/+TSsgpOEnl2TizmwD36BthOXouWE+bATJVGZ2TA5ew/qZuMxYvdJWLr4osfEuWhuNB4DZ6+B8b4LJKNpJL1MXvNgdi4FjSf8BM05S2FxIQEmVzLRfdtRaFhMxqij1zByyzG0dZyJhqaj0ffXLSTjUSSvJLeR2STdOSTcObAIToDBniB0mfIHmhlORdfv18F8TyiGbzyE2qZjoH/qJknx1z3g6/PE9X0R+V/ApJUREBULA9uxkK6thjUeJ4VeVhYiwM4F3knErkO+qKFQDw7jf4To+lP4XXuEbQfPYtLPSzHc3AkmTtOwcucBnL70SBgU5ccGYpG4du6ngxbte8An8i4di4fzyXPQM3HCwi3ugmSxQVx+N57iZEQ0lu/aC6NRk2FoPwG/bdyJE8GR6NprAIlrbyrrPoliDI5fuIvdR/wxY8FyDLdwhLHDJCzesBsnQm4h+CYT6XiMn7UYHXsPgqScItp064WBBhbQc/oOxy5SGSS5U+etgLHTFCrrFvwpfQDdhyASbdfTIkz++TfoW4+G04xfhPhcb7pOJruCsBJjfvoVBg7j4RMRhTU79sJq7HSY2k7GorW7cZLK8yGh9RVmiXj/Xv/bfP3iak7iWhOd6knhmfs4ZJJo5pGgFbiYIJtIJ1E7MqMXWinIwHGAGhLdRyPHwwJZ++zwaKc1Ts0zwC8GnTFVuxX+nDgcdzZZIZukk/WoMpG8vmgYpvRTJSm2wPk/TPCrVUc4Dm6M5Y69cWOtLTJc7UnkLJDtYU7iqg+tGiSuJmJxzSEhTaNzj3dZwPtXPcw1bIfJgxpjw+g+uLbRFiketkhztsQ222b4XrspknbZId+l7H6RELqb4MI6C0zrWw+B80cgcacFpverjwMzB+P8KlOstO2GMYNbYO3ogbi8xgYv3B0Rs8MBLlMGY/qIFphj0BHHf9RFyi57kmgLKtuYZNKC7pENnu4aC48fDDBdRwvfjWiO7VOH4NYmPeSwAW8k1KwH2WNKdzrfnNpqhcPzRmKGXnNM1GkC5++H4/7OsXTNdK8p7aHJPWDXoynUFGTRRq02rPs0x09DVRG7w4pEmWT5qxLXj+81/FwyA23Qo6Us6spKoXldWfhvMUYWiVpJsLa4tzVQF9kBYzBGWwP1a0qhpqQsVk7rQhKmK8SBFocYIDvQGqE7DLB4YidMMdTAuum9EUYvbS/9rUksSUhF+kg/q41ZJmrY9VMX3PeyxtYf+2OyXhMsdGyHgD/puw2iFw6SQSaXRVTmjh/bYYpRfTw/a4QLW7QxWkcDGnWkoVpTGrYDmmKyjioe7mUxuCTB/kaIO2mJ02uMMc+xPaaYtMLu+TqIPkjyG2BF7TQkuTRAircxZluow21OV1zea4fNP3TH2nFNkOVrAtE2bYwdURtX3HWQHzKC2qOHBdbq2PZDc9w5aAeP+YPxnUFTetlsg6CNFkg+Sy9doQZg4QYFAdok2GZ4dMgKnr8Oxw8WWphp1wJHVujh0RF7/DZKAysnaiEvwLrS7+DfhIvr/4i34noGkrXV0fOXjTC9SNIangsjEkcmrgNXHYCUoirq9x4GSfU2kGk3FL2WH4J1YDxUdEZBsnkPyHcbgRr9jCDRqgekVFuhpeNcWAU9pzKyYBcUC40h1lBpPwR2fjFCT6yBSwik6jSB+iBDSDdtD7lOgyHXZYiQV65JT/Rn8huWATaYzCokAbLtekNhhCUczyfA6lImOv66HTIqTaHaxwDSjbqjRlddSHUZCuk6rVGz9SAMp/JZbyzrDTb3fwwNm+8hpd4Okq16QZHaKd9ZB9IaXVCr0wCSqUYY6SES0ld2j74WqrK4+t2Mxx6S09p1NTHMbBR8brKf11kPI0kbiar9hB+gqKSBPYdFCLoRB9NxP0FRtQkak5R27a+NJrSVr6OGwcb2OHP1GZVJolcqrlptu5eKaxx2HfGDbM0GGDP7d6qfBI/E1f1MCDr2HQKFuqpo3q4r2vcaiJoNtdCu+wCoN26BVl36UlkPEHDzKWynL0Rt1eZo3LoLOvQZiqbte6JGHXV0H2CAM+eiqW2xJJ0L0LpbH0hIyaFVx87oo62L4dZjcCryIfzpOntpG0G1eXucDrsl9BqfiXwMu+/mQ6lhUyg1akl5+0OjRUfIK6ljiIkDzly5L8QCi0hc+2kbUzsboOugkaij0VoIg2jari/k6jRCmx5D4RV4WZDcyu71v83XLq4vdltCu2VNdFaRwGP3Kch1MRdmEygg8cuj8zkklC/dnDBpcAc0lpPCxVVmSPe0xY0tdrDqrIIONSSgqyUP8/a10EdJFr3UFXF4Zj9kuNsihyTPf9YgNJWVJOlthc4kHYMay8K4nQI61JVDy9rSWG3blcp3RLanFYKXGIlDBUzaCOKa5e6AO1ttYNtFFa0UpTC0uRQM28ugm5IMOtaRxTqbLkh1nwiXcZ3RmOpwmzaARNvqr2tLcbXClGEa6K+mgCdbrfFwsyXaK0pCu3l99Konh0GqMvRZGk1qSKKtsix+seqPwY2U0L22BPQby2FwfXm0kZXFdwO18JykN4dkNGufPUKXGkO3WW10qSUF/RZSMNaSQ7faspS3FoJ/06F0LMzBHMtM20GdZGtEKyV0qi2JYa3k0EddGmrSEhjRpi7u77BExl4SiQltoNeuDurJSqO1ijzMutTHjP61ELuNDVCzRKEwLdn7393HUXXFNYNkqlcLGQzsqoQBXTUwpEMdPDtlgeJQOh8yEiXnrBC0YThaK8thsmUXqMvLYdW0jsgP1UMeEXPCDhNHqKFFXUn0aErPXzc59NSUhpaSFH5zaoP0wFEkjsZ4fkIHnRvIo2/zOujTiL4rTXq2u8qhbT0JNK0lg/lOTfAy0ITS6iOfxPlH02ZooyKLh0cMEbplACwG1oRaLUmSV3pOe9TEeO06uO85lMTZAg8OGMC0pypa0HOs3U4Ouh1l0YHq70T1ufzcDdl+9B2TDMfSdXXVlMfwTnXQXV2e/p1IYeogJaQfNYcnvQSq0nPuvXEE1a9PQm+Fwa1k0b2JDPo2q4W+GtIY2UUeHdVl0ERRAgscWtK10fMTooeSIDOI1uhgYEtFNCG5H9pWFgadJdFRRQrD2zdAZ00ZGPSoiywRF9ePoiqKq/HWs5Cso0riugGmYTkkrvl/ievg1QchI6cCec3mGLZ4J0Ydi4ZjaBrsQpPRa81BGO/yw/iAeIwXJWL0sZtQ17WAXMO2MDt6g8rIgH3QU6j30kG99gPh4P9MCAMwdA6GVC01KpP+0K3wxJgzjzDONwZ6m7ygSEIp32k4bHwfC4OwbENiIdeqJ2qPsIVTUBysL6Si45xNkJKtg5otesCEJHdyUBImBT7D4NlbqNyGaGr3gzBTglVYGnrOWwfJ+s3Q1ul72B+/hvEhcZjgcw9DFmyCnFoLEmgN6Ln7cnH9FygTVx+2vfYYPQbpoV7jVnDzvQh/9nP/nUR4ep+DqkYrjDBzgv+Vp/AncV2/9wTW7PKEb2Q0RNcewu/SbViNnUYCp4rNHkeFXlp/Jq59td8X11oN4DRzPtUfj5OXHqLXEAPUUdHAwuUb4E3lBNx8iL1UZ4/hxpCQVkDLrv0ECQ6MisGGvaewZJMzAiJvQ0THRJH3MH3OEsjUqI+FK7YhmIQ78MZTrNjmBhn5mli5aSsduwNR1GMERNF9prb3HGYI1WbtcDaCHY/Hr+ucIVNTDQY2o3E4IAwB1+/DO/wmJs9aCEVql8X4H0jsnyDgxiMM0jGAhKwCWvUYiN1H/eB3jdJeuouxMxdCWkYFc37dIPQsV3av/22+dnFN2m2N4SSunUhcH7lPE2YZyC8VVzbiPcfdFGkkljsm60JNSgJ7vx+CWBdHTBrYBD3qKeDwHH3Eu0xFiuckRGyeAPNezdBNWRpRayyQ5WGJEz/0Rl1JCTQggVs9th8euo5DvMcEhKy1p/+8NdFYXhIn5ukh1cMGQUuN0ExBBr+athV6NVNcnDB5WGO0kJfC+jGdEOPuiKS943BpvTWcemiivYIkzs4zIAG0g06bBhikJYP725m4shhac9zYZEKyLI+Fph2Q6WqH+1ssoMXEQk4Sa0YPwjPXiYhxmwwPuoamtWRRR0ISem3UELLBCbEeY3DzTyeMGtIKDUnY/X7TJWm1QILHOFh1UUOPBgrw/9Ucia7jkeg5FaKVVhjZsi70WqggliSXhSYsMeuIOlJS0GmriiC6Hw9dxuDubicssu5OAlIDS23bINnTBpl07VE7R6Otah18p9MCT5wnI9vNHoV0DQVCD/Jb6fx0qrC4+luhN70cGPaXwY4VpmhELzw7fhmAvBBj5JO43j9qQ9+/POz7t8CJLaPQVFEGa6Z0oPMmyAy2xKLxnaFOLyeLxnRF/NkxJMLj8OjIaHxv0hqa9PKxZ34fqsMSz8/oo5N6LXpWJTCfvpvHxx3wMnQarh+ZCP0+DaGpLIPLe/WR66cn/Hz/vWFTdFCTxf1DBsgLtiVJnIEB9AKi01UVqb4TURRqj9xAU6Hn06KPMtqo14DniqFI9B+DVL9xuOc+CiZdVUiopRGxazjyzxni6RkbtNdQhJq8DH5x6I4b+0ch088WeQF2cFs4nF6EJHFyLQl5sAHV54Be9NJYh/59fW/TA3eOTsCLgEmIPjwG+t3V0Zyk96qnCXJInB8fMUOPJgro1lwZfhtNkOgzBin+o3B1nxUshjRGTfq3rdNDhYvrx1LdxLXfqn2QqK2GLhNnwfEci3nNhHlYHpENx/MpmHAuFvZ+j+AoiseEAPrPd8FqSNRRh4GLCCZhmbAXkbj2GUHi2gcOAY9hHsnENRBSNVWgaTwBTsEvYB5RAKOwQliFvkB7uxmUvzGM94aQuGbDhkTzrbjGwup8KjrN3gSJmsoYttwNoy8kw4zNenA5F7Y+D1G322Ao9jaCw/k02ATEom7XIVBs2wsOPtdhEpEKC7pe6wtpcAh+ibY2P0CqbmPouwVycf0XOXuTDYZKxLy12yBdSwVjSNp8b5EEUttGT58NRXr2th/0Ecdz3k1E6N0YEsJH8I6Ixtnw2/C7fBeb3bwgIaOA7+YuonzPSXIfoFPfoSSu3f4S151MXBXrYez0X4SyNu47TS84CrCfNBO+1x/DO/o5zt5KEJbCdTsdTOKoiRZdB8D/2iOSTBb7+gwhN58KsuwdeQs+Yddw8GQA6tTVgIHFOARef0aCGYNl2z0gLV8byzftgR/l8aNrYYPR2GwDgrg2bUvtvgP/60/Qa6gh6mm2xJHASKFX1/8WXdvtGITdeQodE2vUrt8Y+/wv0bnHGDjcALIKtbDR7RDdt8fCgLOAW8/g5XcBNZXUoa1nTcfZDAaV3+d/kyotrkQuyWu6mwP2zdaHhowkto7rgzvbHNG5vgJ+NOqMx84/IH3/VGR6jsHzg5NwatUoaMnLY6dTX2S62+H4zP5Qov9YJw5shsQ9tih2EYtTtpsdzq1yQCdlWYzup4FkNwuIlumhaU1pEk2xuN5db45mitL4QVsLiS5WyHa3QpabOTL3myJ62wT0V1WAZeeGJKD2cJk4HI2ofQdnD0OJpy2y947B+nE90VJaAqFLDeiazHF/q7kgrnod6uLJnrHI3Uv/qXsY4bmzNYzb1BTO+SwfRXWQKNB9YPPbes0dAVUqd/OEQUjda09ttoUWtWn9BF0keE7GCxKLxAOjkHR4Mk4vsUSTGtI4Oas30t3t8bt5RzSQo/1FTP5ZDzK9CLhZkpiORhe1OnDo3hjP3R2Q626NBzud0L5BHUwf2BhpJOxFrvokrqb0fXwJaWVUXXFNJ3Hto1UDNv0l8MR3CiYaaqC9uhzueBkg+5wTfhvfARoKUgjebIRQZxs0oe9n9eQOKBKZIeG0NTo2koFe93pI9LZHXijd12BdFJ4zR8yp0dDuWA/D2tZCyllLxJ80QGf1OjDoUh+JZ0ejINSSxFgX2UEW2LmgP1Tpuzy8XAdZfibIp2PTDZujnVoNPPAypDINkRUyAYPb1cCIbopICzTGq1ADYWBVwObhUCHhXDa1H9JDrFESpI83gbooCrTEpT9HQF1RElMMayI7xBJPqY3tNGqjb4sGiDk9DsUiFqfKYm+t4farDjSonFPr9P8S1z4t5UhGZXH3OEnyORMUh7DYXUf4b7JDYwVpePwxHJlB9ti/dCjqU94/5/Sna7JHQbAFtU2fBNwAl+g5ZyEOw7oqc3H9WKqSuBr9P+JqzEIF1hyChJImdFa6wO58MsxZaMHFbNiGvECPRc5o0Hck5DsMgmSbQZBu1x9SzdoIYQdGe4JgfuH/2jvPuKiurQ9TpQgWigIiiA1EEQuKgiAdZgaGNnQ1Mc3cJG/aTTRGE1tiYmK/drolRqNybShlKHY0sWsSe+8FLGBL/u/aZ0AM4ZbcxDDE9eH5zZkzu50z6DyzZ+29ypFccIrEVQaLriSP+ccRVVYBRUYBdM2ao8f7M5G0XZOhS1rEtekqPIaNJJm0gzJ1LYkrSaYkrn1gHhRPknsGquoZV90WNojKKIFq+w3EbL8lCXFMyWlYeAbCpHsgBpdeweCCk2hi7wqLABWeLz4HmZjt3VGOyM03oSq9Cs93J0GvpRBXNYvrU0PEs2oeV249AOeenrB06IAl6p1Ytfk7OLn2hIdPEHJ3HSX5FAurTmD6ouXwDFaiTWd3OJKY2nbqjtbtXKCjZ4iX3xxBZc5h467D6NbPh8TVvV5xVe87hQ8mz4WBsSk+mZlK4nweufs0i6VE4gIxc9q+Sy+07zFAiqkt2HcGc5ZvgK9CBUdXd7Rxpg8RZze06ehGbVjAX5GEwmpxnTg7E3rG5hg3IwMbqJ9cksnc/Rc14hoQDmsHZ0m415X9AFuHTvDyl6N4D9U9dJbeDypLklyw+yheeWsEjOkLXOrKAhTsPS6Ja3PLVli1aRfWHThBok3lSMDXbN6LNh1c0dczgASSxbU+/r24kuBQmfLMJHw5ZCBs9HTwzxGhKBoXBHv6UOzcrAl87S0Q5miJIMcW8HOyQN+2zeGop48vIl1JAMWMqxcs9XWR/rIXyjPi8SBLjkcZcjxMC8fljBcQ0qklfB2akpjGkriGkLjqYVSUC26SPBYN94Et1c16fQBuZMfT2MQMpEiYEI3zJI3RJK0eVqY4NUeFH2bEoXvzJhja3x6X0xJxel4K/J2b4zmPFrialoyH6eH4flYkOpHUvC/vSBI6hO6tGIsCt9OjMKS3FXpYGeDw/Jdxk8ZWKWUSk6NgTChdty7GJvXDhYw4LHwjkMZkAHcbK/jTdfvRdQ+UaAmvNi1hT2XTnu+Kq9kJGB3rKt2n0s/Fnrix9CWA7if1dXL+c/B3ska0sy1ddyLdZxWOzU2Bm5U5/uZD4kpiKxZ5abYd+6Pe/8Ytrv06GCHFUxfXCodi71dxJP5N8WpEJxSmJsG9jTHejG6HSxvjsDktAm3pPf7slW4krrE4kK2ALYnh6CGuuF2UhHvF/nhU5CfN1N7alIIX5Y5o38wQPy6R4WyOksS1OZLoPbiSn0RiR+IpVvWrw5Hz2UBpt4IFI/1xYyMJrVqF1xTtSVyb4ggJ9EM1iav6BZJgY4T2MMXNPCV+LhaLvxRY9JEX2hjrYuVkESerojEE0fkQ6fHK+gT07WgCeU8DXM9PxPHcWHS2M0XyQHtcy0ugcr50D4JQpY5+QlzDcOfxjKsuwvvp43L+c6giGX6Q70V1IrGDvkg6mulj7hgflBclYt4IP0m8180IRVVpFKqKxTZbdC+Kw3Bp7RB0ddBHaB9rFtffSmMSVyUhkg6EV4trrw+mIoLENZzEVSHEddttDJy0FDpmDgiYlEViKXYXuIFIsXhq6Q4YOXSDlSwOiuwSKHP2YdDqw+j/9mckrq0RQeIas4nENf80iatCEteUguOIEdtqpRdCt6kVun+4AHFUJmJ7ObV7DYNKL8Dz9VEwaGmHiAVrSFzLSZBPwZjEtSnJ56Dis4jecg0uw6dDpwX1kVVKIix2N7iNKJLsyKKzaNE/GE3dAzCU2kqh8i08QqHn1AeDVx9EpFiAVXaFxn8RCZvPw1n1mjTjGpyliYmt7x5pC415xrUGEZv61tgvoGfYFO9PnI4JM+bD0MwCoz6bIS3gWn/gHNbsPCDJrBDWGdmrsLBwJ5bnb8eUOekwMTGTZE9awf8fxLVo70l8ND0VeiYmGDVpOvL3itX5F1B4kCAJW1/2I5xISjv08MKG3UdInH+As4cPWpNUz8pcgmX5pVhWsBmZ36xDS2sH+CkSULjnuDRrOnEOiatRM4ybuoCei9lWERJB17jnNPqQuNo6uUriumHnj2jr3AO9vYOg/vYHaceBNftOkOyepbZOYsjLb8OkmR0yc0okkfaius0sbZBDQi8WYgnhV5MQr910AK0cO8KTvpRtOHCy3nv7tGks4tqtpQ6OZA1DZWYMiZQQ1whCiTtpJFpzYxDY3hwuJAQHpquwY2IYnOj45ZDOWDEuDKVjg7DpowAUjg1B/ng5No0JxtEpctzKjkHO296w0tfB9MH9cGNhEh4ujsIDkuL7aTJcynwJvk4tEdrBBGfT4qAeHybNsI6WpDcB2z4KhD19UM97jj58s5NxLzVSmrGtSovF2fQXENTRGj42Jrg0LxbXSK5HyzvBw1wHxdMGYdGbvuhuqocNo+WozFZJAn50lhKdTQwwQtYB16m9qgyZJKe3SdaTelmSuOriWPpLuJkdgbskyCK2tOBjGWx19TA+eQAuLkzGipEh0rZh44f4Qv1JBIpJJopHBaNkVCgdh6D4I38S6QgpdvWjGGdJonZMkuNOVjTuZkWQuEbifOpQEl5rRLnY4WJaAslpLI7NSUFXy6YY5tsW19KFuIr3R8hmDb9+734bjVtc+3YU4qqHawUpuFWaginDuqCduRH6dWqNsC5muLQ6BZUlKmxNlcOB3veJwzQzrj9+pUBbM138Pd4O19dH07kwEtcA3FUH4kpJCuL86PPUxhTHl4XXiutAB5Srk6lcGB7Q9T4oJHH93Bc2JK7zPxyImxtiUUWC9/ovxDWcRPJ5SVzD3E1RvjEaP5WQlJUEYekEXyk8Zcm4YNwtEbO+fiSZgTQGOY7kqODWtgkUvXWpfgpO5MbDmcR1aJA9rpIgP1T7SVt3VRZFIHMUiSu1s3pKMO6QeF8vTELfDvqI8dLBjQ2D8SiPxLXQC/fyQ7Cd/r7bmelhzsc+uKWOw6rP6MsmyfPUt/rjTokSD0qDSJxDaQwKlNHfq4O5LmQerVhcfyuNS1xvSbGg8lkkrs1boefIqQjfSmJJ4ioTGay234LfpIXQNbGH/8RMkr3LkmRGkryGpOWTPLaB9xfpiNtyDtFl1zFoywW4vjoKeubWJK4FiBXiKs24hpG4emJQ/nHEkTwq0oS42sJ9xNxqcRXbUd1A4uZL6PfaKBjRh3n4gvWQl1UiWX0apkJc/WMxhEQ0ZvM1dBk+AzotWyNykUZcI3eQtO64h6iii2jWP4TEdSBeKCHJ3XwFXsP/QX3Zo0fiO3hh9SEMKTiGF9bvR8DYeWjSyoWEvQ0CSbxZXJ8eNbGugkX522Dr2AldeniiS69+6OzWGxtFYgIStVwS15wte2HVtj2Uic+jmESxiCRV/Hz/2fQ5MDA0rhXXb+uK62kS1w3V4jpcEteFuZthZmUHj4HBWLt5n7S4qmjvGZTsP4eRk+bBwKQ5Orv3Q8F332PNlt2wpn59QuQo3fM9CeNRqA8cQ/rytTA0sYBfeBxJ6nGs338CE9IXwdCoBUaSfOfuOSbFtubtOYf83afh6R8OG0cXrNm0D3m7jiJ6yGsk563w5dyFUB88Qe+JZqurtaV70Nm1Dzp27Y81JQeQTyIrFmc1t7KlseyV5Dpv/xWo910hcT2E1o7OJK4hJJA1Wb7+XLReXOdXi6ulDg5lvUKCmIi7C+OJJFQsTsahOfEY5mWPDvSBOf9v/XAtIxHn5yUgwKEZFJ1b42Dqi7iUlYAbGXG4RHVPpg3CmfkqlIudArLisfodHynO09fJDAenx6FycUL1bgUpWPimDI5GuvhU1RVXM8TiLDnamejjI2VX3MpIwslZifC0N4W3XXPsmxxP0hcj7XF6LSMF37yrQHtjA4yL7ETtiW2novHt1AR4WBgiReaGSDd7xHVtgwtpQ1GVrURFlhJHZkeio6kBPhDimpVMki4jSFwzIpHYywI9rHVwLGMobtI9ryS5riuuVxcl4sg/4uBBshLavRX2pyagfGEMbojdDbKScGp2Es6nxaOChF0kTxgb3QUOJMo7PxdJBqhNETNM9/x82vMkrlaIcLXDhfQEeh9icHzuYLi3NsdLJE0XMp/H7YXhJLqavVw122vV//799zRuce1D4prYn8S1cDDE1lTn18YjsreV9MVm2eh+qCygLxqFSmxPDYPjY3GNwA2S1eg+reHSSh+7MkhcS+MIOYlpGNTzo+m8ARJ9bHB9g/KxuIrZztvqeLpeklyxB2tBOFZ+7gdrA30s+NAPt3JjcL9AhTcU7UhcTfHjMvFzfpgkkoHdmiLAzQxXNtAXQHUobpf4Yxd9YencUhdxA5xwbg19YSKhvpuvkGZMp/+9N1qTUM56s7MUknAqNwkudk0xNNABV0mQxVZWkriqo5FFX5CEuK6Z4ocH6gDcLEhE3/aGiO2ng1sbBwH03twnKa/Kj8CO7CQ4kbjOHj0QdwtjcGS5HF7tmsCD/h2unanEpbxBuJ43FHuXDobK247+jeogrA+L62+msYmrELawOUJc7dB95DSEk5gqSFpl4id8EsoBXyyBjqkDAiZmQ7XliiSZIs41fNkOGDp2g50sEaqMEkSllWDAh7Nh4uwGA3MbEtdCkkwR43oSNl4KWHTvj+S8Y4grq4A8NR+65rZwGzkPMVtInEWM6g6RevYS+r4+FobNHSFbkCeJa6L6DIxIXE38YvBc0WnEk4x2e4/E1cIBiiVbECV++pfEtQqRJRdh5h0M0x4+GFpyGuHbriB24zG0Vb0Cw1ZdoOfsBeugJJj2CYO+Ux+07OwB/RZtIc/awuL6lKkR19y9pxA39G/Q0TeFnr4J3hw+VorjlF4j1pCEdnD3RMduvTAnewWyVmzEl3Oy0LVnX+gbGmHYOyOlfVbzvv0ebl5+aO/aE7llh0hcT2HeilwYNLXCUCGu+06RfJ7Fq38fC+MWNhgQHIVPp6dheupSvDF8Amw7uNEXJEs4d/eEetdB5JXth3u/ASSdTpgyPx2L1hdgctbX6O0ng66BOfwi4rFh33GsPXQKs9bnoYVVW7h7DsT09KX4dHY2ckr3kbieQt+AcJJMF6zbehCFe04hbUUeWjt1haNLL7w3/kt8kf4VxkxbgB59BsLSpj0mzMiicqexYfcJeFLd5tZtsHbbfpLci8g/cInE9SJJrhBXN/Trp6B7yaEC9XElNR5BnZujrZkOJrwUiBkveWPOKwMwZZAHRshd4WFlhC5mBhih7ILT85NRTvJ4KzMBc57riy5NdRHjboOs1wKx+sNoLH1fged6t8Zwv1Y4ny72K9WIqxF9KLY1N0Zsr1ZY+i59ifhIicmD+8OF2g1sZ47vZ1G7JH4l4xXoYGSIjyNdcTMjXoqbnfVSfzg2NUB0jzZY8l4QVn8UislJ7ujdTB9BDuY4MF2svFdJ+7lWLEzBa/7t0MJEF22N9TD3xR64sSAO9xZGSeL6owgVoLbel2ZcE6Sf7oW4VqRHIKFXM/S01sWRBS9KqW9FqMBdEtrCj0PRhsR1bFJ/XM1KpHHFYUJcdymkIXlAOyx+1w+rRgZj4Rs+SHBthqkqZ7qWaCkedzxdhxOJa9mkWnG9QxJ6PpUEx8ECyi4iVECIazTOzEsmubeAt0NzLH0vGOtGeOPgF4G4k/VHSKugkYsrCZrKy1CacRUzoffUKmyeGYBJg9vi+ppoPCoRMaNh2JEagnYkrp+/7IoHBSI9bDQ2TA6Cs5UBZG6WWDyqP9ZNk2POCE94OhjCu30zfJshFlvR+0Li6tbKDIP8bHE7P4rq0rWKPVhJXFd/7gsrA12kj/THnTySUnr9TRJXF2tTHP0mFI+K5dJ+swkkwe0sDLB4nC/ypwXjQGYAruen4Mu/0f9lZvp4Loj+n5oUhsKZCox73h0uliZQ9LLExdXhqCyR4dTaWLjampC42uP6xljqXyRXCNCI6weBsGmih/VTBtL7QAKdl4D+7QwQ56mHivxEui8i2YI/iXEkyujfhIjFXjDKl8Q1EnfVMhT+IxieTqZ0f3QR3cuE6lmhl40+Brpaw6apDkL68uKs30xjE1exYb/f3A3QtXZF1zELSCKvSRIZvl1sR3UTXlNyoGPbCz7TchCz9Qqd14QQqDZdhNu7n0OnVSeSv04wsOoKo4594JLyOnSsnBCSXoyIreWILTkDq+AEWPjKkaQ+DeUmEuOMTdC17YCe4zKprXLISGbDt99A9PZL6PnOVGrTDUFURsqcVXoJxr3CYBQ6CCmbLiGOxucyYg502vdByNffIrLs1mNxVVJZ09B4mPqG44WtFxFVdhtKIc/F5yGbtx7uL32IjjHD0PWVsUhaWIz+L78PfUsHEtdtLK5/EmIR08LcrbC2c4JFK3ssyt0kSet6kiLxKDbzn5K1HJaOzjA0tYZpSwc0tXLA86+/g2Y2Thj2wQSoRazod8fgHhCFTn2DsG7XIeQfPoN5OXkwtG6HF94Zg7zvTiBPpGb97iTe+OBTtLBtD31TSxiYWMDU0h7/N3wMenqHoEvfQOTt/B7F+0/jH4tz4OjWGwZmzWBk3ozK2UE15FU4dO2NwPihNP6zWE99r9l3BH8b/QmaNLeBgZEFjFq2wfh5i0lsT6NPSCRsO7uRfB6k52eQS/K6cHUB3AcEwbCZFQyNm0mzwm1dPPD5vK+QTyIv7suaPcfRTxGDZnRf/rl9P/K+J1E8fAmFB85jRck+2Dj3Re+AaCrP4lof1+aroOxkKaWStDXUgZ3AgI6JDiSmg+jDLH+MTIrvvJsVi6pqoRNiufxNf3i3MkA7PV04GOhJW1J52xkjf1wYiaFIThBH4joA5vq6+DgpEFEknw5UxtaA6tC5BBcb7J6QREIXi4rMOGymet2MDTA1sQtuppNsZkbjCvWb9ZYP+rc1g73I6kV0MNJFSve2+PaTaFTSOEQa2vsknw/pw3r1aBlaUPt92pjiyLw4aea0KpuEkcT21OxIeFo2wSgS1xvZKtyV7m0kKlIVeKV/c/i20cXJBSl4sCgRDxZG4k52DLaMC4A7yecn8T1xIyOZpD0Gl+lx9lAPuFsYwYHuWxt9PbSn6w/rYIySMQNxi65dzABPVDqjn5Uxdn1BYlQtrg+zldSOCqr2FkhyscUlESqQFiHNGi/+Px840z1vR+25UHvTVV1RIV1f/e/db6PxiuttdSJCXQ0Q79ME5QWx+JmE8ie1gsaixKOCSJI7sQeqPx7S2HZn+sOlhR5mv+GCShLOe0UyVBSoUDRTjuBu5mjfhP5WDfVhY6QDec/W2D5fJv1c/rAgBFdXK9HP3givyVrj9kYRn0oiKPZsVYcjd2Jfqd1vxvjR8xjc3SjDqFhH9LE3xPGvA3FPJGYoTkTR1EB0JRm0pn7aGeviPaU+7qyLw82iFMx+yw1dLPWkOFXx78CexvCczBHHl0fgpxIFHhQH4fy6GPRuS2NQOEiLwH4qDKVr9YNIKPDVaG840BeyvKm+dM2BJNcxUHQzxuABBjRe+lsWkl3khwclJK6pMnjQv8309/uiqiiSxhdKch6P49/EYfFIX7ysbI+34zoi7eMB2L74RXSz04NqoB2L62+lsYmriPtUll6BYtVhROSfhbxMZLcScnoL8u13EVV4EfK1x6QyETvLEVFWSXWrEF56DXFbLlK9/fCeuR4B8wugWv8jYgtPIGLlAUSRRMp3iIVXVyFb/wOC1hxCfNlNktkKxJDAhv3zAMLyj1EZMcMrkgWIjFzXEEGvyXMOU/3L0q4Cys3XoVh7FKHrjkjZtaJJZmV5ZxBA/crVF6EsE9KqEdeoLeUIzv0BoWsOImnrVURvob5KblD/x5FUeh5JNN5kkuOkLefxYvFJtAtLRpM2HSFfvkfapqu+e6Qt/FXEVcqotfccVhZ8JyGyU62n85K47hMZr84SJ7C8eBemZ6/G5NSVWLxObCN1FF8VbEfOjsPIFYuzSKQWl+zH1yUHsPGQWHRF7ZAoflW0B+t2HpPa2UiSJ/ZSLdx7GjlFuzFz4WpMTV+BrzdsQ8meE1izeR9WbzkITbatC8ijsazYsg8zlvwTE+dnI3ttKTbsOoav1d9hxaYDyDt0UdqZYAPJqwhtyFyzGZPTliNjdRFW7zxK5+i6Nu3GV/lbsGH3cWw8TNckje0s1u04iPSVGzElfSnmLsulctSeiGOlcefS+7T24HHqexeWFW2n8yepnsgSprmufGJJwS58UyrqcAKC+ri9QIkTM5TYP1mBw4Ip4fh+ihI/TInCiVkqEsdEaT9WsTXWg3QF7qeSfImdAbIjSeJUODcnkYRzINYP741Sejw1R/MzuZjhvEWiu/odb2nf0ozXg3F8fhLKPg1E/vAB2DsxDJfnJ1C7iSRSIqNVJK6RgO6ZEoRT82SScFaKxWHUTsWiBByeq0TxmABsHO6N/ZPkuJ6ajNs0NrHt1F2Su0oSX5Gpav1HCmn3g0+TPUkQE3A/S4FKkkWxqOsmXevRySG4MFuIrJipFelro1FFfR+bJcORWXLcpDFXktjdo3pVWeG4QaJ+YmYoLs0XGbqipYVh91NjqW8Vjs2OgnpUANYNH4gdE0JxZW4U3RvxfolZUiUu0JgPzwzHdaonxFXcw3upctwlST09MxKnp9F1Z5K4plJ5Emsx3v1TI5A7wgdbx/vjSioJB9V9Ujr/dxqvuD4qCsHplaE4n0PSWCSXfhIX/FwoI4TAyqhcIIlmCO7mh+Hk1ySha2QkcXJpFlIkGKjKV+JyjhK7F9AX7ine2JMpw9XcGBLbSCmO9eeCIDzMj8CZ5VR3nQxVBeLnf5HJSiQckKOczp37Ohi3ciOoLwXJM/395gTj5LJQKbWrSCt7jyT3bmE4Tq8KQcFUD5TNE2EFkdSuHA9IhCtIus+uUmLLLD/kT/PC4aURuEnnHhSLhVyh1G4Q7hQpcPTrIFyktsX4a+73PRrDtY2hOLo8CBV54UC+DPfp8exy+ttcJRZ7ibCGYKn8T8X0/m6MxrGloajIjcKjknA8Kg3H5XVKXCSJvlWchPKSZNwojsdldSRWTgmR4l8nPO+B2zSeX93/pwyL65+IkuQygsRPHEduu6ORTSlM4DaezLIl0qYqyjSzkmIbLSG94lzt63Uh8ZXqaMqJ8po6mkcNJMLVbdS8VtumeKTnNI7HbYpjEriI7VRexOBWnxfHNYhriJRE+A6it95GUFox9Lv0hc/fp0C5eDOS1h2CatVO9HppJPSat4FjzGuILD2LcBLix/1oIX8dcRVoJEgSIREicJAkjc6J1zRyJIRNc/y4nFSvVtpE9i1RT6RBFY9PPt9AwidmbzW7GVSXp+c1aVZrEMIqtV9dRoNGFmvGUIumb6mP6v5qztekbhWI9K0i3atUnspJ5alvMa4n+xZlpTHSca6YyT0gUsGKVLRUV+w8IK6B6opyYkcETf+1/fzZaLu4/icpekBCJWI9hbSKjFAPqLxmQ3xNDGh9de5RWbEjgRDb1e/6wYnE9au3vVCeLTbTF6lXhRxqZiDvifIZkagkQb1LSPWltuVSO6IfscOB6FuCjsWYxEypyE51gwR03buB2DEtAXtmJ2Nw/85wb26InZOiqD6VozaFMP5yjKJdJbWjmXHVLISqTuUq+hRpW0laNX3WXKN4pGsncRX3QCpLj0KWa6gpJ3YwEMciJa44Lx5FWc39E33U3vOHIn1udXvSorXq8wJRXlz7k+f+d2r7bHTiWgeRdvanwqDqx5rzgURQNZpzIs+/iBH9uZ40puL8A5EGtfq5pi3NtYlz9wuFSIrXxLnaaxaZumrKi0fRhuhHzMyK4/uFYhya12qh14QY/+p8DUE0Rs24HxZrHkWbNX1JqWBF29J1aK5JjFXMEteMT0orK+JxpfLEL8YvhDsYbygskeLfGnkzwvHDsngcWyWyicUjxK01nM31sYm+iFUWihCJ6jb+JFhcGxCxNVV95xsrsmV7YaUYAj1bV+hYO8OwYy8YOLjCwK4L7JQvIjb3KKK33ay3rjbx1xLXxosQ0PrO/5K60vtbEHXr1q8593va/X1ov7g+HTS5/GOx5l1fdNbVwfK3vKRFS0L8hLiKHQuEuNZQI6b1tvXE6xpxFedFfGo4Ls5XIKpdU7ibG6JXSyP0NCdJHuaJivQEKqeRUUbw1xHX+nlC2qr516L4n/lf6v6e/p4mQmjv5oYi/W0X9HfSh5OZDrpZ66OHjaG0gMvL0QxLRvRARV4UCXNYvW08TVhcmT+M6G3Xkag+iYjMIviMz0KfD6bDa+wcyFLzkFB0Dqqiq4gUM8z11NUmWFyZhuTZE1cxQ6iQxFX8tP7jNDly3/PGidkK3MoSM5Bi1jJSWkxVV1oFddt78jUJ6bxm9lK0VUFyfPCLKGS/OhDzhnpjy0RxLg5V0kzmr9t7dvmriyvz77inlkmLx07lJGHd5CAsGNEHc4f3xtJP++GHFSpUFtGXPJJWMdNbX/2nCYsr84ciwhDCxQIwgdjBoOwWRDpZEY4QLTKBEUJe66urLbC4Mg3JsySukkxKWzgJxHZOmpSxj8mufV38fF9XWgX1tfkrpDABTVsivKBS7AKQWS3D1E9lNslzFn0ISyEBv27z2YTF9VlHxOEK7heFoqo4FJXFYdXhBwGakAfp+M+HxZX5g6mEcnstmpje23RcIcXDiuPwx7G12gmLK9OQPFviGv4LcdXIZTgJpTiueV77el0hrb/NeiBx1RyLdsRzEYKglOJHRfzpQzr3KFPO4voLWFyfdcR+sD+pAx8jwis0sbpiYZtAHP865OJpw+LKPFWEpIpFYxrouZYvzBKwuDINybMWKlAlFlg9wb0njsVrVdJsaLWAPkF9bf07flFfWlhFfVS/JnY9eFi9sOvJOs82tfeHxZX5NfUtKvtzYHFlmDqwuDINyTMX4/qEqP5b6qvLPEVq7zmLK6NNsLgyTB1YXJmGhMX1X1BfXeYpUnvPWVwZbYLFlWHqwOLKNCQsrv+C+uoyT5Hae87iymgTLK4MUwcWV6YhYXH9NZoEAvXUZZ4itfecxZXRJlhcGaYOLK5MQ/LMiSujpfx+cf1ZraxXPBjm98DiyjB1YHFlGhIWV0Y7YHFltBMWV4apA4sr05CwuDLaAYsro52wuDJMHVhcmYaExZXRDlhcGe2ExZVh6sDiyjQkLK6MdsDiymgnLK4MUwcWV6YhYXFltAMWV0Y7YXFlmDqwuDINCYsrox2wuDLaCYsrw9SBxZVpSFhcGe2AxZXRTlhcGaYOLK5MQ8LiymgHLK6MdsLiyjB1YHFlGhIWV0Y7YHFltBMWV4apA4sr05CwuDLaAYsro52wuDJMHVhcmYaExZXRDlhcGe2ExZVh6sDiyjQkLK6MdsDiymgnLK4MUwcWV6YhYXFltAMWV0Y7YXFlmDqwuDINCYsrox2wuDLaCYsrw9SBxZVpSFhcGe2AxZXRTlhcGaYOLK5MQ8LiymgHLK6MdsLiyjB1YHFlGhIWV0Y7YHFltBMWV4apA4sr05CwuDLaAYsro52wuDJMHVhcmYaExZXRDlhcGe2ExZVh6sDiyjQkLK6MtiHEtXLlqyyujFbQqMX1yx+r6hUPhvk9sLgyDQmLK6NtsLgy2kTlgS9JXP/7z+g/gj9MXBmGYRiGYRjmacLiyjAMwzAMwzQKWFwZhmEYhmGYRgGLK8MwDMMwDNMoYHFlGIZhGIZhGgUsrgzDMAzDMEyjgMWVYRiGYRiGaRSwuDIMwzAMwzCNAhZXhmEYhmEYplHA4sowDMMwDMM0ClhcGYZhGIZhmEYBiyvDMAzDMAzTKGBxZRiGYRiGYRoFLK4MwzAMwzBMo4DFlWEYhmEYhmkUsLgyDMMwDMMwjQIWV4ZhGIZhGKZRwOLKMAzDMAzDNApYXBmGYRiGYZhGwCP8P3BFpYlPSleLAAAAAElFTkSuQmCC)"
      ],
      "metadata": {
        "id": "JZcKLfi6fcSR"
      }
    },
    {
      "cell_type": "markdown",
      "source": [
        "### **1. Preparation of the Model**"
      ],
      "metadata": {
        "id": "NbfPFO-Xfelo"
      }
    },
    {
      "cell_type": "markdown",
      "source": [
        "The model must be prepared carefully before being released to the live environment. This preparation process begins with the training and evaluation stages to verify that the model works correctly and provides the expected performance. **The accuracy of the model is tested with performance metrics such as error rate and F1 score. If the desired results are not obtained during training and evaluation, the model is re-tuned or improved. At the end of this stage, the model is ensured to be in a usable format.**"
      ],
      "metadata": {
        "id": "fMyEOY4zfjm8"
      }
    },
    {
      "cell_type": "markdown",
      "source": [
        "The model must be made usable in a format independent of the environment in which it was developed. **During this serialization process, the model may need to be converted to a structure suitable for TensorFlow or PyTorch format.** This step facilitates the portability and integration of the model, allowing it to be used in different environments. Versioning is done to ensure that the model can be updated in the long term. For example, using tools such as MLflow, changes are tracked between different versions of the model and comparisons are made when updates are needed, ensuring that the correct version is put into live."
      ],
      "metadata": {
        "id": "UGSXU2IvfoHT"
      }
    },
    {
      "cell_type": "markdown",
      "source": [
        "### **2. Selection of Environment for Model Extraction**"
      ],
      "metadata": {
        "id": "kbxEF4PdfqGK"
      }
    },
    {
      "cell_type": "markdown",
      "source": [
        "The environment where the model will be extracted should be carefully selected according to the purpose of use, data privacy and user load. **Cloud servers, providers such as AWS, Google Cloud and Microsoft Azure, provide suitable environments for models working with big data thanks to their large-scale and flexible structures.** Cloud platforms also facilitate operational processes with various management and monitoring tools."
      ],
      "metadata": {
        "id": "uCtXKu-zftcQ"
      }
    },
    {
      "cell_type": "markdown",
      "source": [
        "### **3. Taking the Model Live**"
      ],
      "metadata": {
        "id": "YMM0AZHDfzkx"
      }
    },
    {
      "cell_type": "markdown",
      "source": [
        "An API server integration is made to bring the model to life. This integration is usually provided using web frameworks such as Flask, FastAPI or Django."
      ],
      "metadata": {
        "id": "ndnzGScpf21w"
      }
    },
    {
      "cell_type": "markdown",
      "source": [
        "**Docker is used to make the model portable along with its dependencies and is managed with a platform such as Kubernetes.** Thanks to Kubernetes' automatic scaling, load balancing and fault tolerance features, the model can run smoothly in a live environment."
      ],
      "metadata": {
        "id": "67CMtdR2f3L6"
      }
    },
    {
      "cell_type": "markdown",
      "source": [
        "### **4. Monitoring and Update Processes**"
      ],
      "metadata": {
        "id": "KoVf1ahDf8NY"
      }
    },
    {
      "cell_type": "markdown",
      "source": [
        "Once the model is live, it needs to be monitored continuously to ensure that it is working properly. Performance metrics such as model accuracy and response time are observed regularly. **Tools such as Prometheus, Grafana or Amazon CloudWatch make it easy to monitor the performance of the model and intervene when necessary.**"
      ],
      "metadata": {
        "id": "wIARwoOGf-TO"
      }
    },
    {
      "cell_type": "markdown",
      "source": [
        "**Another important factor affecting the performance of the model is changes in the data distribution. These changes, called \"Model Drift\" and \"Data Drift\", may require the model to be updated or retrained.** If the model loses its accuracy over time, it may need to be retrained with new data or another model may need to be used. During updates, the old and new models can be run simultaneously using techniques such as \"Blue-Green Deployment\" or \"Canary Deployment\". These techniques ensure a safe transition without affecting the user experience."
      ],
      "metadata": {
        "id": "Ne9qthS4f-ka"
      }
    },
    {
      "cell_type": "markdown",
      "source": [
        "### **5. Model Maintenance and Continuous Learning**"
      ],
      "metadata": {
        "id": "y7CKg09wgDsQ"
      }
    },
    {
      "cell_type": "markdown",
      "source": [
        "**In order for the model to remain effective in the live environment, it must be continuously maintained. At certain intervals or when the model’s performance deteriorates, it needs to be retrained with new data. This process can be managed by automating it with continuous integration and continuous deployment (CI/CD) processes.**"
      ],
      "metadata": {
        "id": "jxAcNaI7gGVq"
      }
    },
    {
      "cell_type": "markdown",
      "source": [
        "**Automatic MLOps processes can be created to retrain, test, and deploy the model.** MLOps increases the operational efficiency of machine learning models, minimizes manual intervention, and streamlines the model maintenance process. This approach supports functions such as monitoring the model’s performance, continuing to learn with new data, and creating automated pipelines."
      ],
      "metadata": {
        "id": "OjXDnoZxgGqm"
      }
    },
    {
      "cell_type": "markdown",
      "source": [
        "### **6. Security and Privacy Measures**"
      ],
      "metadata": {
        "id": "bAxyqSiMgKtQ"
      }
    },
    {
      "cell_type": "markdown",
      "source": [
        "**Bringing the model to life carries security and privacy risks. Therefore, data encryption and secure access should be provided in the environment where the model is running. Secure data transfer and storage mechanisms are applied, especially for models that work on sensitive data.**"
      ],
      "metadata": {
        "id": "GyynigR2gMxQ"
      }
    },
    {
      "cell_type": "markdown",
      "source": [
        "Methods such as federated learning or differential privacy can be used for models with privacy risks. Federated learning protects security and privacy, especially on mobile devices, by allowing the model to be trained without sending data to a central server. These techniques provide the information necessary for the model to make accurate predictions while also protecting data privacy."
      ],
      "metadata": {
        "id": "VBR9tlsigNCY"
      }
    },
    {
      "cell_type": "markdown",
      "source": [
        "### **Some Tools and Frameworks Used**"
      ],
      "metadata": {
        "id": "N05hS6gwgSMG"
      }
    },
    {
      "cell_type": "markdown",
      "source": [
        "**The tools and frameworks used in the live process increase the operational success and sustainability of the model. MLOps platforms (MLflow, TensorBoard, DVC) provide the necessary infrastructure for monitoring, recording and managing the model. Docker, which packages the model with its dependencies, and Kubernetes, which manages the distribution of these containers, increase the scalability of the model. Cloud services (AWS SageMaker, Google AI Platform, Azure ML) enable models working with large datasets to operate in a flexible and scalable structure. In addition, monitoring tools such as Prometheus, Grafana, CloudWatch ensure the performance and security of the model.**"
      ],
      "metadata": {
        "id": "LHqe8A9GgXds"
      }
    }
  ]
}